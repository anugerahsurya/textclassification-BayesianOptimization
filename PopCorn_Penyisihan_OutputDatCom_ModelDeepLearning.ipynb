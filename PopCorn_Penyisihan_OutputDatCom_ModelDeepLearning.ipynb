{
 "cells": [
  {
   "cell_type": "markdown",
   "metadata": {},
   "source": [
    "Import Library"
   ]
  },
  {
   "cell_type": "code",
   "execution_count": null,
   "metadata": {},
   "outputs": [],
   "source": [
    "# !pip install tensorflow"
   ]
  },
  {
   "cell_type": "code",
   "execution_count": 1,
   "metadata": {},
   "outputs": [
    {
     "name": "stderr",
     "output_type": "stream",
     "text": [
      "2024-09-02 21:16:39.061083: E external/local_xla/xla/stream_executor/cuda/cuda_fft.cc:485] Unable to register cuFFT factory: Attempting to register factory for plugin cuFFT when one has already been registered\n",
      "2024-09-02 21:16:39.091816: E external/local_xla/xla/stream_executor/cuda/cuda_dnn.cc:8454] Unable to register cuDNN factory: Attempting to register factory for plugin cuDNN when one has already been registered\n",
      "2024-09-02 21:16:39.099740: E external/local_xla/xla/stream_executor/cuda/cuda_blas.cc:1452] Unable to register cuBLAS factory: Attempting to register factory for plugin cuBLAS when one has already been registered\n",
      "2024-09-02 21:16:39.126744: I tensorflow/core/platform/cpu_feature_guard.cc:210] This TensorFlow binary is optimized to use available CPU instructions in performance-critical operations.\n",
      "To enable the following instructions: AVX2 FMA, in other operations, rebuild TensorFlow with the appropriate compiler flags.\n",
      "2024-09-02 21:16:41.355511: W tensorflow/compiler/tf2tensorrt/utils/py_utils.cc:38] TF-TRT Warning: Could not find TensorRT\n"
     ]
    }
   ],
   "source": [
    "# Load, explore and plot data\n",
    "import numpy as np\n",
    "import pandas as pd\n",
    "import seaborn as sns\n",
    "import matplotlib.pyplot as plt\n",
    "from wordcloud import WordCloud, STOPWORDS, ImageColorGenerator\n",
    "%matplotlib inline\n",
    "# Train test split\n",
    "from sklearn.model_selection import train_test_split\n",
    "# Text pre-processing\n",
    "import tensorflow as tf\n",
    "from tensorflow.keras.preprocessing.text import Tokenizer\n",
    "from tensorflow.keras.preprocessing.sequence import pad_sequences\n",
    "from tensorflow.keras.callbacks import EarlyStopping\n",
    "# Modeling\n",
    "from tensorflow.keras.models import Sequential\n",
    "from tensorflow.keras.layers import LSTM, GRU, Dense, Embedding, Dropout, GlobalAveragePooling1D, Flatten, SpatialDropout1D, Bidirectional"
   ]
  },
  {
   "cell_type": "markdown",
   "metadata": {},
   "source": [
    "Load Data"
   ]
  },
  {
   "cell_type": "code",
   "execution_count": 3,
   "metadata": {},
   "outputs": [],
   "source": [
    "# Muat DataFrame (ganti dengan path data kamu)\n",
    "# Misalnya, df adalah DataFrame dengan kolom 'teks' dan 'label'\n",
    "# Membaca DataFrame dari file HDF5\n",
    "# df_awal = pd.read_hdf('DatasetGabunganSakernasFinal.h5', key='dataset')\n",
    "# df_awal = pd.read_csv(\"mobil_listrik.csv\")\n",
    "df_awal = pd.read_csv(\"HasilAugmentasi_MobilListrik.csv\")\n",
    "df_awal['sentimen'] = df_awal['sentimen'].astype('category')\n",
    "df = df_awal"
   ]
  },
  {
   "cell_type": "markdown",
   "metadata": {},
   "source": [
    "Deskripsi Data"
   ]
  },
  {
   "cell_type": "code",
   "execution_count": 5,
   "metadata": {},
   "outputs": [
    {
     "name": "stderr",
     "output_type": "stream",
     "text": [
      "/tmp/ipykernel_127117/3707267751.py:1: FutureWarning: The default of observed=False is deprecated and will be changed to True in a future version of pandas. Pass observed=False to retain current behavior or observed=True to adopt the future default and silence this warning.\n",
      "  df.groupby('sentimen').describe().T\n"
     ]
    },
    {
     "data": {
      "text/html": [
       "<div>\n",
       "<style scoped>\n",
       "    .dataframe tbody tr th:only-of-type {\n",
       "        vertical-align: middle;\n",
       "    }\n",
       "\n",
       "    .dataframe tbody tr th {\n",
       "        vertical-align: top;\n",
       "    }\n",
       "\n",
       "    .dataframe thead th {\n",
       "        text-align: right;\n",
       "    }\n",
       "</style>\n",
       "<table border=\"1\" class=\"dataframe\">\n",
       "  <thead>\n",
       "    <tr style=\"text-align: right;\">\n",
       "      <th></th>\n",
       "      <th>sentimen</th>\n",
       "      <th>0</th>\n",
       "      <th>1</th>\n",
       "      <th>2</th>\n",
       "    </tr>\n",
       "  </thead>\n",
       "  <tbody>\n",
       "    <tr>\n",
       "      <th rowspan=\"8\" valign=\"top\">Unnamed: 0</th>\n",
       "      <th>count</th>\n",
       "      <td>869.000000</td>\n",
       "      <td>426.000000</td>\n",
       "      <td>504.000000</td>\n",
       "    </tr>\n",
       "    <tr>\n",
       "      <th>mean</th>\n",
       "      <td>750.527043</td>\n",
       "      <td>764.415493</td>\n",
       "      <td>766.440476</td>\n",
       "    </tr>\n",
       "    <tr>\n",
       "      <th>std</th>\n",
       "      <td>444.686016</td>\n",
       "      <td>443.464323</td>\n",
       "      <td>424.039737</td>\n",
       "    </tr>\n",
       "    <tr>\n",
       "      <th>min</th>\n",
       "      <td>1.000000</td>\n",
       "      <td>8.000000</td>\n",
       "      <td>0.000000</td>\n",
       "    </tr>\n",
       "    <tr>\n",
       "      <th>25%</th>\n",
       "      <td>362.000000</td>\n",
       "      <td>358.000000</td>\n",
       "      <td>406.750000</td>\n",
       "    </tr>\n",
       "    <tr>\n",
       "      <th>50%</th>\n",
       "      <td>749.000000</td>\n",
       "      <td>782.000000</td>\n",
       "      <td>762.500000</td>\n",
       "    </tr>\n",
       "    <tr>\n",
       "      <th>75%</th>\n",
       "      <td>1143.000000</td>\n",
       "      <td>1130.000000</td>\n",
       "      <td>1122.250000</td>\n",
       "    </tr>\n",
       "    <tr>\n",
       "      <th>max</th>\n",
       "      <td>1516.000000</td>\n",
       "      <td>1515.000000</td>\n",
       "      <td>1514.000000</td>\n",
       "    </tr>\n",
       "  </tbody>\n",
       "</table>\n",
       "</div>"
      ],
      "text/plain": [
       "sentimen                    0            1            2\n",
       "Unnamed: 0 count   869.000000   426.000000   504.000000\n",
       "           mean    750.527043   764.415493   766.440476\n",
       "           std     444.686016   443.464323   424.039737\n",
       "           min       1.000000     8.000000     0.000000\n",
       "           25%     362.000000   358.000000   406.750000\n",
       "           50%     749.000000   782.000000   762.500000\n",
       "           75%    1143.000000  1130.000000  1122.250000\n",
       "           max    1516.000000  1515.000000  1514.000000"
      ]
     },
     "execution_count": 5,
     "metadata": {},
     "output_type": "execute_result"
    }
   ],
   "source": [
    "df.groupby('sentimen').describe().T"
   ]
  },
  {
   "cell_type": "markdown",
   "metadata": {},
   "source": [
    "Visualisasi Data"
   ]
  },
  {
   "cell_type": "code",
   "execution_count": 4,
   "metadata": {},
   "outputs": [],
   "source": [
    "# ham_msg_cloud = WordCloud(width =520, height =260, stopwords = STOPWORDS, max_font_size = 50, background_color = \"black\", colormap = 'Pastel1').generate(df)\n",
    "# plt.figure(figsize=(16,10))\n",
    "# plt.imshow(ham_msg_cloud, interpolation = 'bilinear')\n",
    "# plt.axis('off') # turn off axis\n",
    "# plt.show()"
   ]
  },
  {
   "cell_type": "markdown",
   "metadata": {},
   "source": [
    "Distribusi Data"
   ]
  },
  {
   "cell_type": "code",
   "execution_count": 4,
   "metadata": {},
   "outputs": [
    {
     "data": {
      "text/plain": [
       "Text(0.5, 1.0, 'The distribution of ham and spam messages')"
      ]
     },
     "execution_count": 4,
     "metadata": {},
     "output_type": "execute_result"
    },
    {
     "data": {
      "image/png": "[encoded data removed]",
      "text/plain": [
       "<Figure size 800x600 with 1 Axes>"
      ]
     },
     "metadata": {},
     "output_type": "display_data"
    }
   ],
   "source": [
    "plt.figure(figsize=(8,6))\n",
    "sns.countplot(df.sentimen)\n",
    "plt.title('The distribution of ham and spam messages')"
   ]
  },
  {
   "cell_type": "markdown",
   "metadata": {},
   "source": [
    "Tentukan panjang kata dari teks"
   ]
  },
  {
   "cell_type": "code",
   "execution_count": 5,
   "metadata": {},
   "outputs": [
    {
     "name": "stdout",
     "output_type": "stream",
     "text": [
      "<class 'pandas.core.frame.DataFrame'>\n",
      "RangeIndex: 1517 entries, 0 to 1516\n",
      "Data columns (total 5 columns):\n",
      " #   Column         Non-Null Count  Dtype   \n",
      "---  ------         --------------  -----   \n",
      " 0   id_komentar    1517 non-null   object  \n",
      " 1   nama_akun      1516 non-null   object  \n",
      " 2   tanggal        1517 non-null   object  \n",
      " 3   text_cleaning  1515 non-null   object  \n",
      " 4   sentimen       1517 non-null   category\n",
      "dtypes: category(1), object(4)\n",
      "memory usage: 49.1+ KB\n"
     ]
    }
   ],
   "source": [
    "df.info()"
   ]
  },
  {
   "cell_type": "code",
   "execution_count": 6,
   "metadata": {},
   "outputs": [],
   "source": [
    "from sklearn.preprocessing import LabelEncoder\n",
    "# Get length column for each text\n",
    "df = df.dropna(subset=['teks'])\n",
    "df['banyak_kata'] = df['teks'].apply(len)\n",
    "df['msg_type'] = df['sentimen'].cat.codes\n",
    "#df['msg_type'] = df['label'].map({'5221.0':0, '6111.0':1, '6112.0':2, '9211.0':3})"
   ]
  },
  {
   "cell_type": "code",
   "execution_count": null,
   "metadata": {},
   "outputs": [],
   "source": []
  },
  {
   "cell_type": "markdown",
   "metadata": {},
   "source": [
    "Data Splitting"
   ]
  },
  {
   "cell_type": "code",
   "execution_count": 7,
   "metadata": {},
   "outputs": [],
   "source": [
    "x_train, x_test, y_train, y_test = train_test_split(df['teks'], df['msg_type'], stratify=df['msg_type'], test_size=0.2, random_state=43)"
   ]
  },
  {
   "cell_type": "code",
   "execution_count": 2,
   "metadata": {},
   "outputs": [],
   "source": [
    "# Preprocessing: Text Vectorization and Label Encoding\n",
    "trainset = pd.read_csv(\"HasilAugmentasi_Train.csv\")\n",
    "testset = pd.read_csv(\"Data_Test.csv\")\n",
    "x_train, y_train = trainset['teks'], trainset['sentimen']\n",
    "x_test, y_test = testset['teks'], testset['sentimen']"
   ]
  },
  {
   "cell_type": "markdown",
   "metadata": {},
   "source": [
    "Tokenisasi"
   ]
  },
  {
   "cell_type": "code",
   "execution_count": 3,
   "metadata": {},
   "outputs": [
    {
     "data": {
      "text/plain": [
       "3833"
      ]
     },
     "execution_count": 3,
     "metadata": {},
     "output_type": "execute_result"
    }
   ],
   "source": [
    "from tensorflow.keras.preprocessing.text import Tokenizer\n",
    "from tensorflow.keras.preprocessing.sequence import pad_sequences\n",
    "from Sastrawi.Stemmer.StemmerFactory import StemmerFactory\n",
    "import re\n",
    "\n",
    "# Definisikan parameter pra-pemrosesan\n",
    "max_len = 272\n",
    "trunc_type = 'post'\n",
    "padding_type = 'post'\n",
    "oov_tok = '<OOV>'\n",
    "vocab_size = 3500\n",
    "\n",
    "# def preprocess_text(text):\n",
    "#     text = text.lower()\n",
    "#     text = re.sub(r'\\d+', '', text)  # Hapus angka\n",
    "#     text = re.sub(r'[^\\w\\s]', '', text)  # Hapus tanda baca\n",
    "#     text = text.strip()\n",
    "#     text = re.sub(r'\\s+', ' ', text)  # Hapus spasi ekstra\n",
    "#     return text\n",
    "\n",
    "# # Buat stemmer bahasa Indonesia\n",
    "# factory = StemmerFactory()\n",
    "# stemmer = factory.create_stemmer()\n",
    "\n",
    "# # Pra-pemrosesan teks\n",
    "# x_train = [preprocess_text(text) for text in x_train]\n",
    "# x_train = [stemmer.stem(text) for text in x_train]\n",
    "\n",
    "tokenizer = Tokenizer(num_words = vocab_size, \n",
    "                      char_level = False,\n",
    "                      oov_token = oov_tok)\n",
    "tokenizer.fit_on_texts(x_train)\n",
    "\n",
    "# Get the word_index\n",
    "word_index = tokenizer.word_index\n",
    "total_words = len(word_index)\n",
    "total_words"
   ]
  },
  {
   "cell_type": "markdown",
   "metadata": {},
   "source": [
    "Sequence dan Padding"
   ]
  },
  {
   "cell_type": "code",
   "execution_count": 4,
   "metadata": {},
   "outputs": [
    {
     "name": "stdout",
     "output_type": "stream",
     "text": [
      "Shape of training tensor:  (1530, 272)\n",
      "Shape of testing tensor:  (304, 272)\n"
     ]
    }
   ],
   "source": [
    "#=============Proses untuk Data Training=================\n",
    "training_sequences = tokenizer.texts_to_sequences(x_train)\n",
    "training_padded = pad_sequences(training_sequences,\n",
    "                                maxlen = max_len,\n",
    "                                padding = padding_type,\n",
    "                                truncating = trunc_type)\n",
    "#=============Proses untuk Data Testing=================\n",
    "testing_sequences = tokenizer.texts_to_sequences(x_test)\n",
    "testing_padded = pad_sequences(testing_sequences,\n",
    "                               maxlen = max_len,\n",
    "                               padding = padding_type,\n",
    "                               truncating = trunc_type)\n",
    "\n",
    "print('Shape of training tensor: ', training_padded.shape)\n",
    "print('Shape of testing tensor: ', testing_padded.shape)"
   ]
  },
  {
   "cell_type": "markdown",
   "metadata": {},
   "source": [
    "Dense Model"
   ]
  },
  {
   "cell_type": "code",
   "execution_count": 9,
   "metadata": {},
   "outputs": [
    {
     "name": "stderr",
     "output_type": "stream",
     "text": [
      "/home/anugerahsurya/.local/lib/python3.10/site-packages/keras/src/layers/core/embedding.py:90: UserWarning: Argument `input_length` is deprecated. Just remove it.\n",
      "  warnings.warn(\n"
     ]
    },
    {
     "data": {
      "text/html": [
       "<pre style=\"white-space:pre;overflow-x:auto;line-height:normal;font-family:Menlo,'DejaVu Sans Mono',consolas,'Courier New',monospace\"><span style=\"font-weight: bold\">Model: \"sequential\"</span>\n",
       "</pre>\n"
      ],
      "text/plain": [
       "\u001b[1mModel: \"sequential\"\u001b[0m\n"
      ]
     },
     "metadata": {},
     "output_type": "display_data"
    },
    {
     "data": {
      "text/html": [
       "<pre style=\"white-space:pre;overflow-x:auto;line-height:normal;font-family:Menlo,'DejaVu Sans Mono',consolas,'Courier New',monospace\">┏━━━━━━━━━━━━━━━━━━━━━━━━━━━━━━━━━┳━━━━━━━━━━━━━━━━━━━━━━━━┳━━━━━━━━━━━━━━━┓\n",
       "┃<span style=\"font-weight: bold\"> Layer (type)                    </span>┃<span style=\"font-weight: bold\"> Output Shape           </span>┃<span style=\"font-weight: bold\">       Param # </span>┃\n",
       "┡━━━━━━━━━━━━━━━━━━━━━━━━━━━━━━━━━╇━━━━━━━━━━━━━━━━━━━━━━━━╇━━━━━━━━━━━━━━━┩\n",
       "│ embedding (<span style=\"color: #0087ff; text-decoration-color: #0087ff\">Embedding</span>)           │ ?                      │   <span style=\"color: #00af00; text-decoration-color: #00af00\">0</span> (unbuilt) │\n",
       "├─────────────────────────────────┼────────────────────────┼───────────────┤\n",
       "│ global_average_pooling1d        │ ?                      │   <span style=\"color: #00af00; text-decoration-color: #00af00\">0</span> (unbuilt) │\n",
       "│ (<span style=\"color: #0087ff; text-decoration-color: #0087ff\">GlobalAveragePooling1D</span>)        │                        │               │\n",
       "├─────────────────────────────────┼────────────────────────┼───────────────┤\n",
       "│ dense (<span style=\"color: #0087ff; text-decoration-color: #0087ff\">Dense</span>)                   │ ?                      │   <span style=\"color: #00af00; text-decoration-color: #00af00\">0</span> (unbuilt) │\n",
       "├─────────────────────────────────┼────────────────────────┼───────────────┤\n",
       "│ dropout (<span style=\"color: #0087ff; text-decoration-color: #0087ff\">Dropout</span>)               │ ?                      │   <span style=\"color: #00af00; text-decoration-color: #00af00\">0</span> (unbuilt) │\n",
       "├─────────────────────────────────┼────────────────────────┼───────────────┤\n",
       "│ dense_1 (<span style=\"color: #0087ff; text-decoration-color: #0087ff\">Dense</span>)                 │ ?                      │   <span style=\"color: #00af00; text-decoration-color: #00af00\">0</span> (unbuilt) │\n",
       "└─────────────────────────────────┴────────────────────────┴───────────────┘\n",
       "</pre>\n"
      ],
      "text/plain": [
       "┏━━━━━━━━━━━━━━━━━━━━━━━━━━━━━━━━━┳━━━━━━━━━━━━━━━━━━━━━━━━┳━━━━━━━━━━━━━━━┓\n",
       "┃\u001b[1m \u001b[0m\u001b[1mLayer (type)                   \u001b[0m\u001b[1m \u001b[0m┃\u001b[1m \u001b[0m\u001b[1mOutput Shape          \u001b[0m\u001b[1m \u001b[0m┃\u001b[1m \u001b[0m\u001b[1m      Param #\u001b[0m\u001b[1m \u001b[0m┃\n",
       "┡━━━━━━━━━━━━━━━━━━━━━━━━━━━━━━━━━╇━━━━━━━━━━━━━━━━━━━━━━━━╇━━━━━━━━━━━━━━━┩\n",
       "│ embedding (\u001b[38;5;33mEmbedding\u001b[0m)           │ ?                      │   \u001b[38;5;34m0\u001b[0m (unbuilt) │\n",
       "├─────────────────────────────────┼────────────────────────┼───────────────┤\n",
       "│ global_average_pooling1d        │ ?                      │   \u001b[38;5;34m0\u001b[0m (unbuilt) │\n",
       "│ (\u001b[38;5;33mGlobalAveragePooling1D\u001b[0m)        │                        │               │\n",
       "├─────────────────────────────────┼────────────────────────┼───────────────┤\n",
       "│ dense (\u001b[38;5;33mDense\u001b[0m)                   │ ?                      │   \u001b[38;5;34m0\u001b[0m (unbuilt) │\n",
       "├─────────────────────────────────┼────────────────────────┼───────────────┤\n",
       "│ dropout (\u001b[38;5;33mDropout\u001b[0m)               │ ?                      │   \u001b[38;5;34m0\u001b[0m (unbuilt) │\n",
       "├─────────────────────────────────┼────────────────────────┼───────────────┤\n",
       "│ dense_1 (\u001b[38;5;33mDense\u001b[0m)                 │ ?                      │   \u001b[38;5;34m0\u001b[0m (unbuilt) │\n",
       "└─────────────────────────────────┴────────────────────────┴───────────────┘\n"
      ]
     },
     "metadata": {},
     "output_type": "display_data"
    },
    {
     "data": {
      "text/html": [
       "<pre style=\"white-space:pre;overflow-x:auto;line-height:normal;font-family:Menlo,'DejaVu Sans Mono',consolas,'Courier New',monospace\"><span style=\"font-weight: bold\"> Total params: </span><span style=\"color: #00af00; text-decoration-color: #00af00\">0</span> (0.00 B)\n",
       "</pre>\n"
      ],
      "text/plain": [
       "\u001b[1m Total params: \u001b[0m\u001b[38;5;34m0\u001b[0m (0.00 B)\n"
      ]
     },
     "metadata": {},
     "output_type": "display_data"
    },
    {
     "data": {
      "text/html": [
       "<pre style=\"white-space:pre;overflow-x:auto;line-height:normal;font-family:Menlo,'DejaVu Sans Mono',consolas,'Courier New',monospace\"><span style=\"font-weight: bold\"> Trainable params: </span><span style=\"color: #00af00; text-decoration-color: #00af00\">0</span> (0.00 B)\n",
       "</pre>\n"
      ],
      "text/plain": [
       "\u001b[1m Trainable params: \u001b[0m\u001b[38;5;34m0\u001b[0m (0.00 B)\n"
      ]
     },
     "metadata": {},
     "output_type": "display_data"
    },
    {
     "data": {
      "text/html": [
       "<pre style=\"white-space:pre;overflow-x:auto;line-height:normal;font-family:Menlo,'DejaVu Sans Mono',consolas,'Courier New',monospace\"><span style=\"font-weight: bold\"> Non-trainable params: </span><span style=\"color: #00af00; text-decoration-color: #00af00\">0</span> (0.00 B)\n",
       "</pre>\n"
      ],
      "text/plain": [
       "\u001b[1m Non-trainable params: \u001b[0m\u001b[38;5;34m0\u001b[0m (0.00 B)\n"
      ]
     },
     "metadata": {},
     "output_type": "display_data"
    }
   ],
   "source": []
  },
  {
   "cell_type": "markdown",
   "metadata": {},
   "source": [
    "Compile Model"
   ]
  },
  {
   "cell_type": "code",
   "execution_count": 5,
   "metadata": {},
   "outputs": [],
   "source": [
    "lr = 3e-5\n",
    "num_epochs = 100\n",
    "# Define parameter\n",
    "vocab_size = 3500 \n",
    "embedding_dim = 16\n",
    "drop_value = 0.0\n",
    "n_dense = 24"
   ]
  },
  {
   "cell_type": "markdown",
   "metadata": {},
   "source": [
    "Latih Model"
   ]
  },
  {
   "cell_type": "code",
   "execution_count": 13,
   "metadata": {},
   "outputs": [
    {
     "name": "stdout",
     "output_type": "stream",
     "text": [
      "Epoch 1/100\n",
      "\u001b[1m48/48\u001b[0m \u001b[32m━━━━━━━━━━━━━━━━━━━━\u001b[0m\u001b[37m\u001b[0m \u001b[1m7s\u001b[0m 87ms/step - accuracy: 0.9236 - loss: 0.2657 - val_accuracy: 0.5822 - val_loss: 1.2931\n",
      "Epoch 2/100\n",
      "\u001b[1m48/48\u001b[0m \u001b[32m━━━━━━━━━━━━━━━━━━━━\u001b[0m\u001b[37m\u001b[0m \u001b[1m0s\u001b[0m 9ms/step - accuracy: 0.9548 - loss: 0.2445 - val_accuracy: 0.5822 - val_loss: 1.2634\n",
      "Epoch 3/100\n",
      "\u001b[1m48/48\u001b[0m \u001b[32m━━━━━━━━━━━━━━━━━━━━\u001b[0m\u001b[37m\u001b[0m \u001b[1m0s\u001b[0m 9ms/step - accuracy: 0.9493 - loss: 0.2416 - val_accuracy: 0.6020 - val_loss: 1.1989\n",
      "Epoch 4/100\n",
      "\u001b[1m48/48\u001b[0m \u001b[32m━━━━━━━━━━━━━━━━━━━━\u001b[0m\u001b[37m\u001b[0m \u001b[1m0s\u001b[0m 9ms/step - accuracy: 0.9418 - loss: 0.2569 - val_accuracy: 0.5954 - val_loss: 1.2356\n",
      "Epoch 5/100\n",
      "\u001b[1m48/48\u001b[0m \u001b[32m━━━━━━━━━━━━━━━━━━━━\u001b[0m\u001b[37m\u001b[0m \u001b[1m1s\u001b[0m 10ms/step - accuracy: 0.9369 - loss: 0.2558 - val_accuracy: 0.5888 - val_loss: 1.2472\n",
      "Epoch 6/100\n",
      "\u001b[1m48/48\u001b[0m \u001b[32m━━━━━━━━━━━━━━━━━━━━\u001b[0m\u001b[37m\u001b[0m \u001b[1m0s\u001b[0m 9ms/step - accuracy: 0.9425 - loss: 0.2569 - val_accuracy: 0.5921 - val_loss: 1.2448\n",
      "Epoch 7/100\n",
      "\u001b[1m48/48\u001b[0m \u001b[32m━━━━━━━━━━━━━━━━━━━━\u001b[0m\u001b[37m\u001b[0m \u001b[1m0s\u001b[0m 9ms/step - accuracy: 0.9547 - loss: 0.2436 - val_accuracy: 0.5888 - val_loss: 1.2514\n",
      "Epoch 8/100\n",
      "\u001b[1m48/48\u001b[0m \u001b[32m━━━━━━━━━━━━━━━━━━━━\u001b[0m\u001b[37m\u001b[0m \u001b[1m0s\u001b[0m 9ms/step - accuracy: 0.9413 - loss: 0.2599 - val_accuracy: 0.5921 - val_loss: 1.2294\n",
      "Epoch 9/100\n",
      "\u001b[1m48/48\u001b[0m \u001b[32m━━━━━━━━━━━━━━━━━━━━\u001b[0m\u001b[37m\u001b[0m \u001b[1m0s\u001b[0m 9ms/step - accuracy: 0.9471 - loss: 0.2547 - val_accuracy: 0.5888 - val_loss: 1.2280\n",
      "Epoch 10/100\n",
      "\u001b[1m48/48\u001b[0m \u001b[32m━━━━━━━━━━━━━━━━━━━━\u001b[0m\u001b[37m\u001b[0m \u001b[1m0s\u001b[0m 9ms/step - accuracy: 0.9538 - loss: 0.2370 - val_accuracy: 0.5789 - val_loss: 1.3022\n",
      "Epoch 11/100\n",
      "\u001b[1m48/48\u001b[0m \u001b[32m━━━━━━━━━━━━━━━━━━━━\u001b[0m\u001b[37m\u001b[0m \u001b[1m0s\u001b[0m 9ms/step - accuracy: 0.9445 - loss: 0.2587 - val_accuracy: 0.5757 - val_loss: 1.2730\n",
      "Epoch 12/100\n",
      "\u001b[1m48/48\u001b[0m \u001b[32m━━━━━━━━━━━━━━━━━━━━\u001b[0m\u001b[37m\u001b[0m \u001b[1m1s\u001b[0m 10ms/step - accuracy: 0.9495 - loss: 0.2505 - val_accuracy: 0.5888 - val_loss: 1.2488\n",
      "Epoch 13/100\n",
      "\u001b[1m48/48\u001b[0m \u001b[32m━━━━━━━━━━━━━━━━━━━━\u001b[0m\u001b[37m\u001b[0m \u001b[1m0s\u001b[0m 9ms/step - accuracy: 0.9490 - loss: 0.2518 - val_accuracy: 0.5789 - val_loss: 1.2734\n",
      "Epoch 14/100\n",
      "\u001b[1m48/48\u001b[0m \u001b[32m━━━━━━━━━━━━━━━━━━━━\u001b[0m\u001b[37m\u001b[0m \u001b[1m1s\u001b[0m 10ms/step - accuracy: 0.9545 - loss: 0.2312 - val_accuracy: 0.5822 - val_loss: 1.2670\n",
      "Epoch 15/100\n",
      "\u001b[1m48/48\u001b[0m \u001b[32m━━━━━━━━━━━━━━━━━━━━\u001b[0m\u001b[37m\u001b[0m \u001b[1m0s\u001b[0m 9ms/step - accuracy: 0.9428 - loss: 0.2543 - val_accuracy: 0.5954 - val_loss: 1.2332\n",
      "Epoch 16/100\n",
      "\u001b[1m48/48\u001b[0m \u001b[32m━━━━━━━━━━━━━━━━━━━━\u001b[0m\u001b[37m\u001b[0m \u001b[1m0s\u001b[0m 9ms/step - accuracy: 0.9512 - loss: 0.2418 - val_accuracy: 0.5888 - val_loss: 1.2293\n",
      "Epoch 17/100\n",
      "\u001b[1m48/48\u001b[0m \u001b[32m━━━━━━━━━━━━━━━━━━━━\u001b[0m\u001b[37m\u001b[0m \u001b[1m0s\u001b[0m 9ms/step - accuracy: 0.9561 - loss: 0.2426 - val_accuracy: 0.5855 - val_loss: 1.2706\n",
      "Epoch 18/100\n",
      "\u001b[1m48/48\u001b[0m \u001b[32m━━━━━━━━━━━━━━━━━━━━\u001b[0m\u001b[37m\u001b[0m \u001b[1m1s\u001b[0m 9ms/step - accuracy: 0.9479 - loss: 0.2561 - val_accuracy: 0.5855 - val_loss: 1.2579\n",
      "Epoch 19/100\n",
      "\u001b[1m48/48\u001b[0m \u001b[32m━━━━━━━━━━━━━━━━━━━━\u001b[0m\u001b[37m\u001b[0m \u001b[1m0s\u001b[0m 9ms/step - accuracy: 0.9452 - loss: 0.2496 - val_accuracy: 0.5954 - val_loss: 1.2387\n",
      "Epoch 20/100\n",
      "\u001b[1m48/48\u001b[0m \u001b[32m━━━━━━━━━━━━━━━━━━━━\u001b[0m\u001b[37m\u001b[0m \u001b[1m0s\u001b[0m 10ms/step - accuracy: 0.9618 - loss: 0.2283 - val_accuracy: 0.5888 - val_loss: 1.2493\n",
      "Epoch 21/100\n",
      "\u001b[1m48/48\u001b[0m \u001b[32m━━━━━━━━━━━━━━━━━━━━\u001b[0m\u001b[37m\u001b[0m \u001b[1m0s\u001b[0m 9ms/step - accuracy: 0.9398 - loss: 0.2601 - val_accuracy: 0.5921 - val_loss: 1.2474\n",
      "Epoch 22/100\n",
      "\u001b[1m48/48\u001b[0m \u001b[32m━━━━━━━━━━━━━━━━━━━━\u001b[0m\u001b[37m\u001b[0m \u001b[1m0s\u001b[0m 9ms/step - accuracy: 0.9445 - loss: 0.2556 - val_accuracy: 0.5921 - val_loss: 1.2472\n",
      "Epoch 23/100\n",
      "\u001b[1m48/48\u001b[0m \u001b[32m━━━━━━━━━━━━━━━━━━━━\u001b[0m\u001b[37m\u001b[0m \u001b[1m0s\u001b[0m 9ms/step - accuracy: 0.9584 - loss: 0.2328 - val_accuracy: 0.5888 - val_loss: 1.2688\n",
      "Epoch 24/100\n",
      "\u001b[1m48/48\u001b[0m \u001b[32m━━━━━━━━━━━━━━━━━━━━\u001b[0m\u001b[37m\u001b[0m \u001b[1m0s\u001b[0m 9ms/step - accuracy: 0.9360 - loss: 0.2682 - val_accuracy: 0.5954 - val_loss: 1.2439\n",
      "Epoch 25/100\n",
      "\u001b[1m48/48\u001b[0m \u001b[32m━━━━━━━━━━━━━━━━━━━━\u001b[0m\u001b[37m\u001b[0m \u001b[1m0s\u001b[0m 9ms/step - accuracy: 0.9519 - loss: 0.2648 - val_accuracy: 0.5954 - val_loss: 1.2376\n",
      "Epoch 26/100\n",
      "\u001b[1m48/48\u001b[0m \u001b[32m━━━━━━━━━━━━━━━━━━━━\u001b[0m\u001b[37m\u001b[0m \u001b[1m0s\u001b[0m 9ms/step - accuracy: 0.9534 - loss: 0.2392 - val_accuracy: 0.5855 - val_loss: 1.2830\n",
      "Epoch 27/100\n",
      "\u001b[1m48/48\u001b[0m \u001b[32m━━━━━━━━━━━━━━━━━━━━\u001b[0m\u001b[37m\u001b[0m \u001b[1m0s\u001b[0m 9ms/step - accuracy: 0.9548 - loss: 0.2425 - val_accuracy: 0.5921 - val_loss: 1.2195\n",
      "Epoch 28/100\n",
      "\u001b[1m48/48\u001b[0m \u001b[32m━━━━━━━━━━━━━━━━━━━━\u001b[0m\u001b[37m\u001b[0m \u001b[1m0s\u001b[0m 9ms/step - accuracy: 0.9444 - loss: 0.2497 - val_accuracy: 0.5855 - val_loss: 1.2657\n",
      "Epoch 29/100\n",
      "\u001b[1m48/48\u001b[0m \u001b[32m━━━━━━━━━━━━━━━━━━━━\u001b[0m\u001b[37m\u001b[0m \u001b[1m1s\u001b[0m 11ms/step - accuracy: 0.9450 - loss: 0.2473 - val_accuracy: 0.5855 - val_loss: 1.2710\n",
      "Epoch 30/100\n",
      "\u001b[1m48/48\u001b[0m \u001b[32m━━━━━━━━━━━━━━━━━━━━\u001b[0m\u001b[37m\u001b[0m \u001b[1m0s\u001b[0m 9ms/step - accuracy: 0.9487 - loss: 0.2434 - val_accuracy: 0.5822 - val_loss: 1.2918\n",
      "Epoch 31/100\n",
      "\u001b[1m48/48\u001b[0m \u001b[32m━━━━━━━━━━━━━━━━━━━━\u001b[0m\u001b[37m\u001b[0m \u001b[1m0s\u001b[0m 9ms/step - accuracy: 0.9541 - loss: 0.2378 - val_accuracy: 0.5822 - val_loss: 1.2602\n",
      "Epoch 32/100\n",
      "\u001b[1m48/48\u001b[0m \u001b[32m━━━━━━━━━━━━━━━━━━━━\u001b[0m\u001b[37m\u001b[0m \u001b[1m0s\u001b[0m 9ms/step - accuracy: 0.9497 - loss: 0.2443 - val_accuracy: 0.5954 - val_loss: 1.2255\n",
      "Epoch 33/100\n",
      "\u001b[1m48/48\u001b[0m \u001b[32m━━━━━━━━━━━━━━━━━━━━\u001b[0m\u001b[37m\u001b[0m \u001b[1m0s\u001b[0m 9ms/step - accuracy: 0.9347 - loss: 0.2522 - val_accuracy: 0.5954 - val_loss: 1.2350\n",
      "Epoch 34/100\n",
      "\u001b[1m48/48\u001b[0m \u001b[32m━━━━━━━━━━━━━━━━━━━━\u001b[0m\u001b[37m\u001b[0m \u001b[1m0s\u001b[0m 9ms/step - accuracy: 0.9541 - loss: 0.2393 - val_accuracy: 0.5822 - val_loss: 1.2904\n",
      "Epoch 35/100\n",
      "\u001b[1m48/48\u001b[0m \u001b[32m━━━━━━━━━━━━━━━━━━━━\u001b[0m\u001b[37m\u001b[0m \u001b[1m1s\u001b[0m 10ms/step - accuracy: 0.9504 - loss: 0.2389 - val_accuracy: 0.5921 - val_loss: 1.2207\n",
      "Epoch 36/100\n",
      "\u001b[1m48/48\u001b[0m \u001b[32m━━━━━━━━━━━━━━━━━━━━\u001b[0m\u001b[37m\u001b[0m \u001b[1m1s\u001b[0m 10ms/step - accuracy: 0.9389 - loss: 0.2539 - val_accuracy: 0.5921 - val_loss: 1.2398\n",
      "Epoch 37/100\n",
      "\u001b[1m48/48\u001b[0m \u001b[32m━━━━━━━━━━━━━━━━━━━━\u001b[0m\u001b[37m\u001b[0m \u001b[1m1s\u001b[0m 10ms/step - accuracy: 0.9485 - loss: 0.2490 - val_accuracy: 0.5888 - val_loss: 1.2530\n",
      "Epoch 38/100\n",
      "\u001b[1m48/48\u001b[0m \u001b[32m━━━━━━━━━━━━━━━━━━━━\u001b[0m\u001b[37m\u001b[0m \u001b[1m0s\u001b[0m 9ms/step - accuracy: 0.9526 - loss: 0.2322 - val_accuracy: 0.5822 - val_loss: 1.3094\n",
      "Epoch 39/100\n",
      "\u001b[1m48/48\u001b[0m \u001b[32m━━━━━━━━━━━━━━━━━━━━\u001b[0m\u001b[37m\u001b[0m \u001b[1m0s\u001b[0m 10ms/step - accuracy: 0.9514 - loss: 0.2467 - val_accuracy: 0.5888 - val_loss: 1.2614\n",
      "Epoch 40/100\n",
      "\u001b[1m48/48\u001b[0m \u001b[32m━━━━━━━━━━━━━━━━━━━━\u001b[0m\u001b[37m\u001b[0m \u001b[1m1s\u001b[0m 10ms/step - accuracy: 0.9547 - loss: 0.2360 - val_accuracy: 0.5921 - val_loss: 1.2525\n",
      "Epoch 41/100\n",
      "\u001b[1m48/48\u001b[0m \u001b[32m━━━━━━━━━━━━━━━━━━━━\u001b[0m\u001b[37m\u001b[0m \u001b[1m1s\u001b[0m 10ms/step - accuracy: 0.9603 - loss: 0.2329 - val_accuracy: 0.5954 - val_loss: 1.2372\n",
      "Epoch 42/100\n",
      "\u001b[1m48/48\u001b[0m \u001b[32m━━━━━━━━━━━━━━━━━━━━\u001b[0m\u001b[37m\u001b[0m \u001b[1m1s\u001b[0m 10ms/step - accuracy: 0.9457 - loss: 0.2425 - val_accuracy: 0.5855 - val_loss: 1.2656\n",
      "Epoch 43/100\n",
      "\u001b[1m48/48\u001b[0m \u001b[32m━━━━━━━━━━━━━━━━━━━━\u001b[0m\u001b[37m\u001b[0m \u001b[1m0s\u001b[0m 9ms/step - accuracy: 0.9485 - loss: 0.2455 - val_accuracy: 0.5855 - val_loss: 1.2605\n",
      "Epoch 44/100\n",
      "\u001b[1m48/48\u001b[0m \u001b[32m━━━━━━━━━━━━━━━━━━━━\u001b[0m\u001b[37m\u001b[0m \u001b[1m0s\u001b[0m 9ms/step - accuracy: 0.9457 - loss: 0.2394 - val_accuracy: 0.5822 - val_loss: 1.2645\n",
      "Epoch 45/100\n",
      "\u001b[1m48/48\u001b[0m \u001b[32m━━━━━━━━━━━━━━━━━━━━\u001b[0m\u001b[37m\u001b[0m \u001b[1m0s\u001b[0m 9ms/step - accuracy: 0.9523 - loss: 0.2421 - val_accuracy: 0.5921 - val_loss: 1.2516\n",
      "Epoch 46/100\n",
      "\u001b[1m48/48\u001b[0m \u001b[32m━━━━━━━━━━━━━━━━━━━━\u001b[0m\u001b[37m\u001b[0m \u001b[1m0s\u001b[0m 9ms/step - accuracy: 0.9574 - loss: 0.2405 - val_accuracy: 0.5954 - val_loss: 1.2516\n",
      "Epoch 47/100\n",
      "\u001b[1m48/48\u001b[0m \u001b[32m━━━━━━━━━━━━━━━━━━━━\u001b[0m\u001b[37m\u001b[0m \u001b[1m0s\u001b[0m 9ms/step - accuracy: 0.9518 - loss: 0.2568 - val_accuracy: 0.6020 - val_loss: 1.2126\n",
      "Epoch 48/100\n",
      "\u001b[1m48/48\u001b[0m \u001b[32m━━━━━━━━━━━━━━━━━━━━\u001b[0m\u001b[37m\u001b[0m \u001b[1m0s\u001b[0m 9ms/step - accuracy: 0.9560 - loss: 0.2403 - val_accuracy: 0.5921 - val_loss: 1.2544\n",
      "Epoch 49/100\n",
      "\u001b[1m48/48\u001b[0m \u001b[32m━━━━━━━━━━━━━━━━━━━━\u001b[0m\u001b[37m\u001b[0m \u001b[1m1s\u001b[0m 9ms/step - accuracy: 0.9596 - loss: 0.2308 - val_accuracy: 0.5855 - val_loss: 1.2676\n",
      "Epoch 50/100\n",
      "\u001b[1m48/48\u001b[0m \u001b[32m━━━━━━━━━━━━━━━━━━━━\u001b[0m\u001b[37m\u001b[0m \u001b[1m1s\u001b[0m 10ms/step - accuracy: 0.9448 - loss: 0.2442 - val_accuracy: 0.5888 - val_loss: 1.2716\n",
      "Epoch 51/100\n",
      "\u001b[1m48/48\u001b[0m \u001b[32m━━━━━━━━━━━━━━━━━━━━\u001b[0m\u001b[37m\u001b[0m \u001b[1m1s\u001b[0m 10ms/step - accuracy: 0.9478 - loss: 0.2505 - val_accuracy: 0.5921 - val_loss: 1.2559\n",
      "Epoch 52/100\n",
      "\u001b[1m48/48\u001b[0m \u001b[32m━━━━━━━━━━━━━━━━━━━━\u001b[0m\u001b[37m\u001b[0m \u001b[1m0s\u001b[0m 9ms/step - accuracy: 0.9459 - loss: 0.2400 - val_accuracy: 0.5789 - val_loss: 1.3148\n",
      "Epoch 53/100\n",
      "\u001b[1m48/48\u001b[0m \u001b[32m━━━━━━━━━━━━━━━━━━━━\u001b[0m\u001b[37m\u001b[0m \u001b[1m1s\u001b[0m 10ms/step - accuracy: 0.9509 - loss: 0.2504 - val_accuracy: 0.5921 - val_loss: 1.2618\n",
      "Epoch 54/100\n",
      "\u001b[1m48/48\u001b[0m \u001b[32m━━━━━━━━━━━━━━━━━━━━\u001b[0m\u001b[37m\u001b[0m \u001b[1m1s\u001b[0m 10ms/step - accuracy: 0.9572 - loss: 0.2340 - val_accuracy: 0.5855 - val_loss: 1.2802\n",
      "Epoch 55/100\n",
      "\u001b[1m48/48\u001b[0m \u001b[32m━━━━━━━━━━━━━━━━━━━━\u001b[0m\u001b[37m\u001b[0m \u001b[1m1s\u001b[0m 10ms/step - accuracy: 0.9417 - loss: 0.2340 - val_accuracy: 0.5789 - val_loss: 1.2993\n",
      "Epoch 56/100\n",
      "\u001b[1m48/48\u001b[0m \u001b[32m━━━━━━━━━━━━━━━━━━━━\u001b[0m\u001b[37m\u001b[0m \u001b[1m1s\u001b[0m 10ms/step - accuracy: 0.9478 - loss: 0.2525 - val_accuracy: 0.5822 - val_loss: 1.2959\n",
      "Epoch 57/100\n",
      "\u001b[1m48/48\u001b[0m \u001b[32m━━━━━━━━━━━━━━━━━━━━\u001b[0m\u001b[37m\u001b[0m \u001b[1m0s\u001b[0m 9ms/step - accuracy: 0.9455 - loss: 0.2461 - val_accuracy: 0.5954 - val_loss: 1.2396\n",
      "Epoch 58/100\n",
      "\u001b[1m48/48\u001b[0m \u001b[32m━━━━━━━━━━━━━━━━━━━━\u001b[0m\u001b[37m\u001b[0m \u001b[1m1s\u001b[0m 10ms/step - accuracy: 0.9466 - loss: 0.2461 - val_accuracy: 0.5921 - val_loss: 1.2669\n",
      "Epoch 59/100\n",
      "\u001b[1m48/48\u001b[0m \u001b[32m━━━━━━━━━━━━━━━━━━━━\u001b[0m\u001b[37m\u001b[0m \u001b[1m1s\u001b[0m 10ms/step - accuracy: 0.9418 - loss: 0.2524 - val_accuracy: 0.5888 - val_loss: 1.2774\n",
      "Epoch 60/100\n",
      "\u001b[1m48/48\u001b[0m \u001b[32m━━━━━━━━━━━━━━━━━━━━\u001b[0m\u001b[37m\u001b[0m \u001b[1m0s\u001b[0m 9ms/step - accuracy: 0.9494 - loss: 0.2396 - val_accuracy: 0.5888 - val_loss: 1.2682\n",
      "Epoch 61/100\n",
      "\u001b[1m48/48\u001b[0m \u001b[32m━━━━━━━━━━━━━━━━━━━━\u001b[0m\u001b[37m\u001b[0m \u001b[1m0s\u001b[0m 9ms/step - accuracy: 0.9574 - loss: 0.2338 - val_accuracy: 0.5888 - val_loss: 1.2268\n",
      "Epoch 62/100\n",
      "\u001b[1m48/48\u001b[0m \u001b[32m━━━━━━━━━━━━━━━━━━━━\u001b[0m\u001b[37m\u001b[0m \u001b[1m0s\u001b[0m 9ms/step - accuracy: 0.9439 - loss: 0.2502 - val_accuracy: 0.5855 - val_loss: 1.2898\n",
      "Epoch 63/100\n",
      "\u001b[1m48/48\u001b[0m \u001b[32m━━━━━━━━━━━━━━━━━━━━\u001b[0m\u001b[37m\u001b[0m \u001b[1m1s\u001b[0m 10ms/step - accuracy: 0.9511 - loss: 0.2329 - val_accuracy: 0.5921 - val_loss: 1.2494\n",
      "Epoch 64/100\n",
      "\u001b[1m48/48\u001b[0m \u001b[32m━━━━━━━━━━━━━━━━━━━━\u001b[0m\u001b[37m\u001b[0m \u001b[1m1s\u001b[0m 10ms/step - accuracy: 0.9470 - loss: 0.2444 - val_accuracy: 0.5757 - val_loss: 1.3092\n",
      "Epoch 65/100\n",
      "\u001b[1m48/48\u001b[0m \u001b[32m━━━━━━━━━━━━━━━━━━━━\u001b[0m\u001b[37m\u001b[0m \u001b[1m1s\u001b[0m 10ms/step - accuracy: 0.9454 - loss: 0.2398 - val_accuracy: 0.5954 - val_loss: 1.2420\n",
      "Epoch 66/100\n",
      "\u001b[1m48/48\u001b[0m \u001b[32m━━━━━━━━━━━━━━━━━━━━\u001b[0m\u001b[37m\u001b[0m \u001b[1m1s\u001b[0m 10ms/step - accuracy: 0.9453 - loss: 0.2534 - val_accuracy: 0.5954 - val_loss: 1.2381\n",
      "Epoch 67/100\n",
      "\u001b[1m48/48\u001b[0m \u001b[32m━━━━━━━━━━━━━━━━━━━━\u001b[0m\u001b[37m\u001b[0m \u001b[1m0s\u001b[0m 10ms/step - accuracy: 0.9556 - loss: 0.2384 - val_accuracy: 0.5954 - val_loss: 1.2368\n",
      "Epoch 68/100\n",
      "\u001b[1m48/48\u001b[0m \u001b[32m━━━━━━━━━━━━━━━━━━━━\u001b[0m\u001b[37m\u001b[0m \u001b[1m1s\u001b[0m 11ms/step - accuracy: 0.9423 - loss: 0.2395 - val_accuracy: 0.5921 - val_loss: 1.2453\n",
      "Epoch 69/100\n",
      "\u001b[1m48/48\u001b[0m \u001b[32m━━━━━━━━━━━━━━━━━━━━\u001b[0m\u001b[37m\u001b[0m \u001b[1m0s\u001b[0m 9ms/step - accuracy: 0.9516 - loss: 0.2291 - val_accuracy: 0.5855 - val_loss: 1.2778\n",
      "Epoch 70/100\n",
      "\u001b[1m48/48\u001b[0m \u001b[32m━━━━━━━━━━━━━━━━━━━━\u001b[0m\u001b[37m\u001b[0m \u001b[1m0s\u001b[0m 9ms/step - accuracy: 0.9482 - loss: 0.2427 - val_accuracy: 0.5921 - val_loss: 1.2584\n",
      "Epoch 71/100\n",
      "\u001b[1m48/48\u001b[0m \u001b[32m━━━━━━━━━━━━━━━━━━━━\u001b[0m\u001b[37m\u001b[0m \u001b[1m0s\u001b[0m 9ms/step - accuracy: 0.9483 - loss: 0.2415 - val_accuracy: 0.5921 - val_loss: 1.2618\n",
      "Epoch 72/100\n",
      "\u001b[1m48/48\u001b[0m \u001b[32m━━━━━━━━━━━━━━━━━━━━\u001b[0m\u001b[37m\u001b[0m \u001b[1m0s\u001b[0m 9ms/step - accuracy: 0.9528 - loss: 0.2265 - val_accuracy: 0.5855 - val_loss: 1.2848\n",
      "Epoch 73/100\n",
      "\u001b[1m48/48\u001b[0m \u001b[32m━━━━━━━━━━━━━━━━━━━━\u001b[0m\u001b[37m\u001b[0m \u001b[1m0s\u001b[0m 9ms/step - accuracy: 0.9550 - loss: 0.2348 - val_accuracy: 0.5921 - val_loss: 1.2629\n",
      "Epoch 74/100\n",
      "\u001b[1m48/48\u001b[0m \u001b[32m━━━━━━━━━━━━━━━━━━━━\u001b[0m\u001b[37m\u001b[0m \u001b[1m0s\u001b[0m 9ms/step - accuracy: 0.9507 - loss: 0.2334 - val_accuracy: 0.5954 - val_loss: 1.2606\n",
      "Epoch 75/100\n",
      "\u001b[1m48/48\u001b[0m \u001b[32m━━━━━━━━━━━━━━━━━━━━\u001b[0m\u001b[37m\u001b[0m \u001b[1m0s\u001b[0m 9ms/step - accuracy: 0.9512 - loss: 0.2414 - val_accuracy: 0.5921 - val_loss: 1.2669\n",
      "Epoch 76/100\n",
      "\u001b[1m48/48\u001b[0m \u001b[32m━━━━━━━━━━━━━━━━━━━━\u001b[0m\u001b[37m\u001b[0m \u001b[1m0s\u001b[0m 9ms/step - accuracy: 0.9465 - loss: 0.2441 - val_accuracy: 0.5954 - val_loss: 1.2552\n",
      "Epoch 77/100\n",
      "\u001b[1m48/48\u001b[0m \u001b[32m━━━━━━━━━━━━━━━━━━━━\u001b[0m\u001b[37m\u001b[0m \u001b[1m0s\u001b[0m 9ms/step - accuracy: 0.9413 - loss: 0.2455 - val_accuracy: 0.5921 - val_loss: 1.2378\n",
      "Epoch 78/100\n",
      "\u001b[1m48/48\u001b[0m \u001b[32m━━━━━━━━━━━━━━━━━━━━\u001b[0m\u001b[37m\u001b[0m \u001b[1m1s\u001b[0m 10ms/step - accuracy: 0.9529 - loss: 0.2417 - val_accuracy: 0.5954 - val_loss: 1.2340\n",
      "Epoch 79/100\n",
      "\u001b[1m48/48\u001b[0m \u001b[32m━━━━━━━━━━━━━━━━━━━━\u001b[0m\u001b[37m\u001b[0m \u001b[1m1s\u001b[0m 10ms/step - accuracy: 0.9590 - loss: 0.2290 - val_accuracy: 0.5888 - val_loss: 1.2799\n",
      "Epoch 80/100\n",
      "\u001b[1m48/48\u001b[0m \u001b[32m━━━━━━━━━━━━━━━━━━━━\u001b[0m\u001b[37m\u001b[0m \u001b[1m1s\u001b[0m 10ms/step - accuracy: 0.9543 - loss: 0.2433 - val_accuracy: 0.5954 - val_loss: 1.2517\n",
      "Epoch 81/100\n",
      "\u001b[1m48/48\u001b[0m \u001b[32m━━━━━━━━━━━━━━━━━━━━\u001b[0m\u001b[37m\u001b[0m \u001b[1m0s\u001b[0m 9ms/step - accuracy: 0.9473 - loss: 0.2416 - val_accuracy: 0.5954 - val_loss: 1.2490\n",
      "Epoch 82/100\n",
      "\u001b[1m48/48\u001b[0m \u001b[32m━━━━━━━━━━━━━━━━━━━━\u001b[0m\u001b[37m\u001b[0m \u001b[1m0s\u001b[0m 9ms/step - accuracy: 0.9441 - loss: 0.2397 - val_accuracy: 0.5789 - val_loss: 1.2942\n",
      "Epoch 83/100\n",
      "\u001b[1m48/48\u001b[0m \u001b[32m━━━━━━━━━━━━━━━━━━━━\u001b[0m\u001b[37m\u001b[0m \u001b[1m0s\u001b[0m 10ms/step - accuracy: 0.9575 - loss: 0.2308 - val_accuracy: 0.5888 - val_loss: 1.2688\n",
      "Epoch 84/100\n",
      "\u001b[1m48/48\u001b[0m \u001b[32m━━━━━━━━━━━━━━━━━━━━\u001b[0m\u001b[37m\u001b[0m \u001b[1m0s\u001b[0m 9ms/step - accuracy: 0.9498 - loss: 0.2284 - val_accuracy: 0.5855 - val_loss: 1.3009\n",
      "Epoch 85/100\n",
      "\u001b[1m48/48\u001b[0m \u001b[32m━━━━━━━━━━━━━━━━━━━━\u001b[0m\u001b[37m\u001b[0m \u001b[1m1s\u001b[0m 10ms/step - accuracy: 0.9580 - loss: 0.2285 - val_accuracy: 0.5921 - val_loss: 1.2627\n",
      "Epoch 86/100\n",
      "\u001b[1m48/48\u001b[0m \u001b[32m━━━━━━━━━━━━━━━━━━━━\u001b[0m\u001b[37m\u001b[0m \u001b[1m1s\u001b[0m 10ms/step - accuracy: 0.9519 - loss: 0.2320 - val_accuracy: 0.5888 - val_loss: 1.2839\n",
      "Epoch 87/100\n",
      "\u001b[1m48/48\u001b[0m \u001b[32m━━━━━━━━━━━━━━━━━━━━\u001b[0m\u001b[37m\u001b[0m \u001b[1m1s\u001b[0m 10ms/step - accuracy: 0.9546 - loss: 0.2419 - val_accuracy: 0.5921 - val_loss: 1.2694\n",
      "Epoch 88/100\n",
      "\u001b[1m48/48\u001b[0m \u001b[32m━━━━━━━━━━━━━━━━━━━━\u001b[0m\u001b[37m\u001b[0m \u001b[1m0s\u001b[0m 9ms/step - accuracy: 0.9586 - loss: 0.2321 - val_accuracy: 0.5888 - val_loss: 1.2712\n",
      "Epoch 89/100\n",
      "\u001b[1m48/48\u001b[0m \u001b[32m━━━━━━━━━━━━━━━━━━━━\u001b[0m\u001b[37m\u001b[0m \u001b[1m0s\u001b[0m 9ms/step - accuracy: 0.9547 - loss: 0.2326 - val_accuracy: 0.5888 - val_loss: 1.2348\n",
      "Epoch 90/100\n",
      "\u001b[1m48/48\u001b[0m \u001b[32m━━━━━━━━━━━━━━━━━━━━\u001b[0m\u001b[37m\u001b[0m \u001b[1m0s\u001b[0m 9ms/step - accuracy: 0.9466 - loss: 0.2302 - val_accuracy: 0.5921 - val_loss: 1.2618\n",
      "Epoch 91/100\n",
      "\u001b[1m48/48\u001b[0m \u001b[32m━━━━━━━━━━━━━━━━━━━━\u001b[0m\u001b[37m\u001b[0m \u001b[1m0s\u001b[0m 9ms/step - accuracy: 0.9447 - loss: 0.2346 - val_accuracy: 0.5987 - val_loss: 1.2429\n",
      "Epoch 92/100\n",
      "\u001b[1m48/48\u001b[0m \u001b[32m━━━━━━━━━━━━━━━━━━━━\u001b[0m\u001b[37m\u001b[0m \u001b[1m0s\u001b[0m 9ms/step - accuracy: 0.9472 - loss: 0.2410 - val_accuracy: 0.5954 - val_loss: 1.2549\n",
      "Epoch 93/100\n",
      "\u001b[1m48/48\u001b[0m \u001b[32m━━━━━━━━━━━━━━━━━━━━\u001b[0m\u001b[37m\u001b[0m \u001b[1m1s\u001b[0m 10ms/step - accuracy: 0.9492 - loss: 0.2363 - val_accuracy: 0.5855 - val_loss: 1.3053\n",
      "Epoch 94/100\n",
      "\u001b[1m48/48\u001b[0m \u001b[32m━━━━━━━━━━━━━━━━━━━━\u001b[0m\u001b[37m\u001b[0m \u001b[1m1s\u001b[0m 10ms/step - accuracy: 0.9469 - loss: 0.2375 - val_accuracy: 0.5921 - val_loss: 1.2512\n",
      "Epoch 95/100\n",
      "\u001b[1m48/48\u001b[0m \u001b[32m━━━━━━━━━━━━━━━━━━━━\u001b[0m\u001b[37m\u001b[0m \u001b[1m0s\u001b[0m 9ms/step - accuracy: 0.9522 - loss: 0.2258 - val_accuracy: 0.5822 - val_loss: 1.2935\n",
      "Epoch 96/100\n",
      "\u001b[1m48/48\u001b[0m \u001b[32m━━━━━━━━━━━━━━━━━━━━\u001b[0m\u001b[37m\u001b[0m \u001b[1m0s\u001b[0m 9ms/step - accuracy: 0.9443 - loss: 0.2340 - val_accuracy: 0.5789 - val_loss: 1.3221\n",
      "Epoch 97/100\n",
      "\u001b[1m48/48\u001b[0m \u001b[32m━━━━━━━━━━━━━━━━━━━━\u001b[0m\u001b[37m\u001b[0m \u001b[1m1s\u001b[0m 10ms/step - accuracy: 0.9528 - loss: 0.2303 - val_accuracy: 0.5954 - val_loss: 1.2534\n",
      "Epoch 98/100\n",
      "\u001b[1m48/48\u001b[0m \u001b[32m━━━━━━━━━━━━━━━━━━━━\u001b[0m\u001b[37m\u001b[0m \u001b[1m0s\u001b[0m 10ms/step - accuracy: 0.9464 - loss: 0.2428 - val_accuracy: 0.5954 - val_loss: 1.2635\n",
      "Epoch 99/100\n",
      "\u001b[1m48/48\u001b[0m \u001b[32m━━━━━━━━━━━━━━━━━━━━\u001b[0m\u001b[37m\u001b[0m \u001b[1m0s\u001b[0m 9ms/step - accuracy: 0.9602 - loss: 0.2225 - val_accuracy: 0.5888 - val_loss: 1.2914\n",
      "Epoch 100/100\n",
      "\u001b[1m48/48\u001b[0m \u001b[32m━━━━━━━━━━━━━━━━━━━━\u001b[0m\u001b[37m\u001b[0m \u001b[1m0s\u001b[0m 9ms/step - accuracy: 0.9561 - loss: 0.2293 - val_accuracy: 0.5987 - val_loss: 1.2614\n"
     ]
    }
   ],
   "source": [
    "\n",
    "# Define Dense Model Architecture\n",
    "model = Sequential()\n",
    "model.add(Embedding(vocab_size,\n",
    "                    embedding_dim,\n",
    "                    input_length = max_len))\n",
    "model.add(GlobalAveragePooling1D())\n",
    "model.add(Dense(n_dense, activation='relu'))\n",
    "model.add(Dropout(drop_value))\n",
    "model.add(Dense(3, activation='softmax'))\n",
    "model.summary()\n",
    "\n",
    "from keras.optimizers import Adam\n",
    "model.compile(loss = 'sparse_categorical_crossentropy', optimizer = Adam(learning_rate = lr) , metrics = ['accuracy'])\n",
    "\n",
    "#early_stop = EarlyStopping(monitor='val_loss', patience=3)\n",
    "history = model.fit(training_padded,\n",
    "                    y_train,\n",
    "                    epochs=num_epochs, \n",
    "                    validation_data=(testing_padded, y_test),\n",
    "                    verbose=1)"
   ]
  },
  {
   "cell_type": "markdown",
   "metadata": {},
   "source": [
    "Evaluasi Model"
   ]
  },
  {
   "cell_type": "code",
   "execution_count": 14,
   "metadata": {},
   "outputs": [
    {
     "name": "stdout",
     "output_type": "stream",
     "text": [
      "\u001b[1m10/10\u001b[0m \u001b[32m━━━━━━━━━━━━━━━━━━━━\u001b[0m\u001b[37m\u001b[0m \u001b[1m0s\u001b[0m 5ms/step - accuracy: 0.6209 - loss: 1.1969 \n"
     ]
    },
    {
     "data": {
      "text/plain": [
       "[1.2613869905471802, 0.5986841917037964]"
      ]
     },
     "execution_count": 14,
     "metadata": {},
     "output_type": "execute_result"
    }
   ],
   "source": [
    "model.evaluate(testing_padded, y_test)"
   ]
  },
  {
   "cell_type": "markdown",
   "metadata": {},
   "source": [
    "Bi-LSTM"
   ]
  },
  {
   "cell_type": "code",
   "execution_count": 7,
   "metadata": {},
   "outputs": [
    {
     "name": "stdout",
     "output_type": "stream",
     "text": [
      "Trial 90 Complete [00h 02m 58s]\n",
      "val_accuracy: 0.6282894611358643\n",
      "\n",
      "Best val_accuracy So Far: 0.7269737124443054\n",
      "Total elapsed time: 01h 47m 46s\n",
      "\u001b[1m10/10\u001b[0m \u001b[32m━━━━━━━━━━━━━━━━━━━━\u001b[0m\u001b[37m\u001b[0m \u001b[1m5s\u001b[0m 315ms/step\n"
     ]
    }
   ],
   "source": [
    "from kerastuner.tuners import Hyperband\n",
    "from keras.models import Sequential\n",
    "from keras.layers import Embedding, Bidirectional, LSTM, Dropout, Dense\n",
    "from keras.callbacks import EarlyStopping\n",
    "from keras.optimizers import Adam\n",
    "\n",
    "def build_model(hp):\n",
    "    model = Sequential()\n",
    "    model.add(Embedding(vocab_size,\n",
    "                        hp.Int('embedding_dim', min_value=128, max_value=512, step=64),\n",
    "                        input_length=max_len))\n",
    "    model.add(Bidirectional(LSTM(hp.Int('n_lstm', min_value=64, max_value=320, step=64),\n",
    "                                 return_sequences=True)))\n",
    "    model.add(Dropout(hp.Float('drop_lstm', min_value=0.2, max_value=0.7, step=0.1)))\n",
    "\n",
    "    model.add(Bidirectional(LSTM(hp.Int('n_lstm', min_value=64, max_value=320, step=64),\n",
    "                                 return_sequences=False)))\n",
    "    model.add(Dropout(hp.Float('drop_lstm', min_value=0.2, max_value=0.7, step=0.1)))\n",
    "\n",
    "    model.add(Dense(3, activation='softmax'))\n",
    "\n",
    "    model.compile(loss='sparse_categorical_crossentropy',\n",
    "                  optimizer=Adam(learning_rate=hp.Float('learning_rate', min_value=1e-4, max_value=1e-2, sampling='LOG')),\n",
    "                  metrics=['accuracy'])\n",
    "\n",
    "    return model\n",
    "\n",
    "tuner = Hyperband(\n",
    "    build_model,\n",
    "    objective='val_accuracy',\n",
    "    max_epochs=30,\n",
    "    factor=3,\n",
    "    directory='my_dir',\n",
    "    project_name='lstm_tuning'\n",
    ")\n",
    "\n",
    "early_stop = EarlyStopping(monitor='val_loss', patience=2)\n",
    "\n",
    "tuner.search(training_padded, y_train,\n",
    "             epochs=20,\n",
    "             validation_data=(testing_padded, y_test),\n",
    "             callbacks=[early_stop],\n",
    "             verbose=1)\n",
    "\n",
    "from sklearn.metrics import classification_report\n",
    "\n",
    "# Dapatkan model terbaik dari tuning\n",
    "best_model = tuner.get_best_models(num_models=1)[0]\n",
    "\n",
    "# Prediksi pada data uji\n",
    "y_pred = best_model.predict(testing_padded)\n",
    "y_pred_classes = y_pred.argmax(axis=1)\n",
    "\n",
    "# Tampilkan classification report\n",
    "report = classification_report(y_test, y_pred_classes, target_names=['Negatif', 'Netral', 'Positif'], digits=4)\n",
    "print(\"Classification Report:\\n\", report)"
   ]
  },
  {
   "cell_type": "markdown",
   "metadata": {},
   "source": [
    "Melatih Model"
   ]
  },
  {
   "cell_type": "code",
   "execution_count": 22,
   "metadata": {},
   "outputs": [
    {
     "name": "stdout",
     "output_type": "stream",
     "text": [
      "\u001b[1m5/5\u001b[0m \u001b[32m━━━━━━━━━━━━━━━━━━━━\u001b[0m\u001b[37m\u001b[0m \u001b[1m1s\u001b[0m 49ms/step\n",
      "\n",
      "Classification Report:\n",
      "              precision    recall  f1-score   support\n",
      "\n",
      "     Negatif       0.78      0.80      0.79        88\n",
      "      Netral       0.07      0.09      0.08        11\n",
      "     Positif       0.77      0.68      0.72        53\n",
      "\n",
      "    accuracy                           0.70       152\n",
      "   macro avg       0.54      0.52      0.53       152\n",
      "weighted avg       0.72      0.70      0.71       152\n",
      "\n"
     ]
    }
   ],
   "source": [
    "from sklearn.metrics import classification_report\n",
    "# Evaluate the model on the test data\n",
    "y_pred = np.argmax(model2.predict(testing_padded), axis=-1)\n",
    "print(\"\\nClassification Report:\")\n",
    "print(classification_report(y_test, y_pred, target_names=['Negatif', 'Netral', 'Positif']))"
   ]
  },
  {
   "cell_type": "markdown",
   "metadata": {},
   "source": [
    "GRU"
   ]
  },
  {
   "cell_type": "code",
   "execution_count": 33,
   "metadata": {},
   "outputs": [
    {
     "data": {
      "text/html": [
       "<pre style=\"white-space:pre;overflow-x:auto;line-height:normal;font-family:Menlo,'DejaVu Sans Mono',consolas,'Courier New',monospace\"><span style=\"font-weight: bold\">Model: \"sequential_4\"</span>\n",
       "</pre>\n"
      ],
      "text/plain": [
       "\u001b[1mModel: \"sequential_4\"\u001b[0m\n"
      ]
     },
     "metadata": {},
     "output_type": "display_data"
    },
    {
     "data": {
      "text/html": [
       "<pre style=\"white-space:pre;overflow-x:auto;line-height:normal;font-family:Menlo,'DejaVu Sans Mono',consolas,'Courier New',monospace\">┏━━━━━━━━━━━━━━━━━━━━━━━━━━━━━━━━━┳━━━━━━━━━━━━━━━━━━━━━━━━┳━━━━━━━━━━━━━━━┓\n",
       "┃<span style=\"font-weight: bold\"> Layer (type)                    </span>┃<span style=\"font-weight: bold\"> Output Shape           </span>┃<span style=\"font-weight: bold\">       Param # </span>┃\n",
       "┡━━━━━━━━━━━━━━━━━━━━━━━━━━━━━━━━━╇━━━━━━━━━━━━━━━━━━━━━━━━╇━━━━━━━━━━━━━━━┩\n",
       "│ embedding_4 (<span style=\"color: #0087ff; text-decoration-color: #0087ff\">Embedding</span>)         │ ?                      │   <span style=\"color: #00af00; text-decoration-color: #00af00\">0</span> (unbuilt) │\n",
       "├─────────────────────────────────┼────────────────────────┼───────────────┤\n",
       "│ spatial_dropout1d_1             │ ?                      │   <span style=\"color: #00af00; text-decoration-color: #00af00\">0</span> (unbuilt) │\n",
       "│ (<span style=\"color: #0087ff; text-decoration-color: #0087ff\">SpatialDropout1D</span>)              │                        │               │\n",
       "├─────────────────────────────────┼────────────────────────┼───────────────┤\n",
       "│ gru (<span style=\"color: #0087ff; text-decoration-color: #0087ff\">GRU</span>)                       │ ?                      │   <span style=\"color: #00af00; text-decoration-color: #00af00\">0</span> (unbuilt) │\n",
       "├─────────────────────────────────┼────────────────────────┼───────────────┤\n",
       "│ dropout_4 (<span style=\"color: #0087ff; text-decoration-color: #0087ff\">Dropout</span>)             │ ?                      │   <span style=\"color: #00af00; text-decoration-color: #00af00\">0</span> (unbuilt) │\n",
       "├─────────────────────────────────┼────────────────────────┼───────────────┤\n",
       "│ dense_6 (<span style=\"color: #0087ff; text-decoration-color: #0087ff\">Dense</span>)                 │ ?                      │   <span style=\"color: #00af00; text-decoration-color: #00af00\">0</span> (unbuilt) │\n",
       "└─────────────────────────────────┴────────────────────────┴───────────────┘\n",
       "</pre>\n"
      ],
      "text/plain": [
       "┏━━━━━━━━━━━━━━━━━━━━━━━━━━━━━━━━━┳━━━━━━━━━━━━━━━━━━━━━━━━┳━━━━━━━━━━━━━━━┓\n",
       "┃\u001b[1m \u001b[0m\u001b[1mLayer (type)                   \u001b[0m\u001b[1m \u001b[0m┃\u001b[1m \u001b[0m\u001b[1mOutput Shape          \u001b[0m\u001b[1m \u001b[0m┃\u001b[1m \u001b[0m\u001b[1m      Param #\u001b[0m\u001b[1m \u001b[0m┃\n",
       "┡━━━━━━━━━━━━━━━━━━━━━━━━━━━━━━━━━╇━━━━━━━━━━━━━━━━━━━━━━━━╇━━━━━━━━━━━━━━━┩\n",
       "│ embedding_4 (\u001b[38;5;33mEmbedding\u001b[0m)         │ ?                      │   \u001b[38;5;34m0\u001b[0m (unbuilt) │\n",
       "├─────────────────────────────────┼────────────────────────┼───────────────┤\n",
       "│ spatial_dropout1d_1             │ ?                      │   \u001b[38;5;34m0\u001b[0m (unbuilt) │\n",
       "│ (\u001b[38;5;33mSpatialDropout1D\u001b[0m)              │                        │               │\n",
       "├─────────────────────────────────┼────────────────────────┼───────────────┤\n",
       "│ gru (\u001b[38;5;33mGRU\u001b[0m)                       │ ?                      │   \u001b[38;5;34m0\u001b[0m (unbuilt) │\n",
       "├─────────────────────────────────┼────────────────────────┼───────────────┤\n",
       "│ dropout_4 (\u001b[38;5;33mDropout\u001b[0m)             │ ?                      │   \u001b[38;5;34m0\u001b[0m (unbuilt) │\n",
       "├─────────────────────────────────┼────────────────────────┼───────────────┤\n",
       "│ dense_6 (\u001b[38;5;33mDense\u001b[0m)                 │ ?                      │   \u001b[38;5;34m0\u001b[0m (unbuilt) │\n",
       "└─────────────────────────────────┴────────────────────────┴───────────────┘\n"
      ]
     },
     "metadata": {},
     "output_type": "display_data"
    },
    {
     "data": {
      "text/html": [
       "<pre style=\"white-space:pre;overflow-x:auto;line-height:normal;font-family:Menlo,'DejaVu Sans Mono',consolas,'Courier New',monospace\"><span style=\"font-weight: bold\"> Total params: </span><span style=\"color: #00af00; text-decoration-color: #00af00\">0</span> (0.00 B)\n",
       "</pre>\n"
      ],
      "text/plain": [
       "\u001b[1m Total params: \u001b[0m\u001b[38;5;34m0\u001b[0m (0.00 B)\n"
      ]
     },
     "metadata": {},
     "output_type": "display_data"
    },
    {
     "data": {
      "text/html": [
       "<pre style=\"white-space:pre;overflow-x:auto;line-height:normal;font-family:Menlo,'DejaVu Sans Mono',consolas,'Courier New',monospace\"><span style=\"font-weight: bold\"> Trainable params: </span><span style=\"color: #00af00; text-decoration-color: #00af00\">0</span> (0.00 B)\n",
       "</pre>\n"
      ],
      "text/plain": [
       "\u001b[1m Trainable params: \u001b[0m\u001b[38;5;34m0\u001b[0m (0.00 B)\n"
      ]
     },
     "metadata": {},
     "output_type": "display_data"
    },
    {
     "data": {
      "text/html": [
       "<pre style=\"white-space:pre;overflow-x:auto;line-height:normal;font-family:Menlo,'DejaVu Sans Mono',consolas,'Courier New',monospace\"><span style=\"font-weight: bold\"> Non-trainable params: </span><span style=\"color: #00af00; text-decoration-color: #00af00\">0</span> (0.00 B)\n",
       "</pre>\n"
      ],
      "text/plain": [
       "\u001b[1m Non-trainable params: \u001b[0m\u001b[38;5;34m0\u001b[0m (0.00 B)\n"
      ]
     },
     "metadata": {},
     "output_type": "display_data"
    }
   ],
   "source": [
    "# Define LSTM Model \n",
    "model3 = Sequential()\n",
    "model3.add(Embedding(vocab_size, embedding_dim, input_length=max_len))\n",
    "model3.add(SpatialDropout1D(drop_lstm))\n",
    "model3.add(GRU(n_lstm, return_sequences=False))\n",
    "model3.add(Dropout(drop_lstm))\n",
    "model3.add(Dense(3, activation='softmax'))\n",
    "model3.summary()"
   ]
  },
  {
   "cell_type": "code",
   "execution_count": 34,
   "metadata": {},
   "outputs": [
    {
     "data": {
      "text/html": [
       "<pre style=\"white-space:pre;overflow-x:auto;line-height:normal;font-family:Menlo,'DejaVu Sans Mono',consolas,'Courier New',monospace\"><span style=\"font-weight: bold\">Model: \"sequential_4\"</span>\n",
       "</pre>\n"
      ],
      "text/plain": [
       "\u001b[1mModel: \"sequential_4\"\u001b[0m\n"
      ]
     },
     "metadata": {},
     "output_type": "display_data"
    },
    {
     "data": {
      "text/html": [
       "<pre style=\"white-space:pre;overflow-x:auto;line-height:normal;font-family:Menlo,'DejaVu Sans Mono',consolas,'Courier New',monospace\">┏━━━━━━━━━━━━━━━━━━━━━━━━━━━━━━━━━┳━━━━━━━━━━━━━━━━━━━━━━━━┳━━━━━━━━━━━━━━━┓\n",
       "┃<span style=\"font-weight: bold\"> Layer (type)                    </span>┃<span style=\"font-weight: bold\"> Output Shape           </span>┃<span style=\"font-weight: bold\">       Param # </span>┃\n",
       "┡━━━━━━━━━━━━━━━━━━━━━━━━━━━━━━━━━╇━━━━━━━━━━━━━━━━━━━━━━━━╇━━━━━━━━━━━━━━━┩\n",
       "│ embedding_4 (<span style=\"color: #0087ff; text-decoration-color: #0087ff\">Embedding</span>)         │ ?                      │   <span style=\"color: #00af00; text-decoration-color: #00af00\">0</span> (unbuilt) │\n",
       "├─────────────────────────────────┼────────────────────────┼───────────────┤\n",
       "│ spatial_dropout1d_1             │ ?                      │   <span style=\"color: #00af00; text-decoration-color: #00af00\">0</span> (unbuilt) │\n",
       "│ (<span style=\"color: #0087ff; text-decoration-color: #0087ff\">SpatialDropout1D</span>)              │                        │               │\n",
       "├─────────────────────────────────┼────────────────────────┼───────────────┤\n",
       "│ gru (<span style=\"color: #0087ff; text-decoration-color: #0087ff\">GRU</span>)                       │ ?                      │   <span style=\"color: #00af00; text-decoration-color: #00af00\">0</span> (unbuilt) │\n",
       "├─────────────────────────────────┼────────────────────────┼───────────────┤\n",
       "│ dropout_4 (<span style=\"color: #0087ff; text-decoration-color: #0087ff\">Dropout</span>)             │ ?                      │   <span style=\"color: #00af00; text-decoration-color: #00af00\">0</span> (unbuilt) │\n",
       "├─────────────────────────────────┼────────────────────────┼───────────────┤\n",
       "│ dense_6 (<span style=\"color: #0087ff; text-decoration-color: #0087ff\">Dense</span>)                 │ ?                      │   <span style=\"color: #00af00; text-decoration-color: #00af00\">0</span> (unbuilt) │\n",
       "└─────────────────────────────────┴────────────────────────┴───────────────┘\n",
       "</pre>\n"
      ],
      "text/plain": [
       "┏━━━━━━━━━━━━━━━━━━━━━━━━━━━━━━━━━┳━━━━━━━━━━━━━━━━━━━━━━━━┳━━━━━━━━━━━━━━━┓\n",
       "┃\u001b[1m \u001b[0m\u001b[1mLayer (type)                   \u001b[0m\u001b[1m \u001b[0m┃\u001b[1m \u001b[0m\u001b[1mOutput Shape          \u001b[0m\u001b[1m \u001b[0m┃\u001b[1m \u001b[0m\u001b[1m      Param #\u001b[0m\u001b[1m \u001b[0m┃\n",
       "┡━━━━━━━━━━━━━━━━━━━━━━━━━━━━━━━━━╇━━━━━━━━━━━━━━━━━━━━━━━━╇━━━━━━━━━━━━━━━┩\n",
       "│ embedding_4 (\u001b[38;5;33mEmbedding\u001b[0m)         │ ?                      │   \u001b[38;5;34m0\u001b[0m (unbuilt) │\n",
       "├─────────────────────────────────┼────────────────────────┼───────────────┤\n",
       "│ spatial_dropout1d_1             │ ?                      │   \u001b[38;5;34m0\u001b[0m (unbuilt) │\n",
       "│ (\u001b[38;5;33mSpatialDropout1D\u001b[0m)              │                        │               │\n",
       "├─────────────────────────────────┼────────────────────────┼───────────────┤\n",
       "│ gru (\u001b[38;5;33mGRU\u001b[0m)                       │ ?                      │   \u001b[38;5;34m0\u001b[0m (unbuilt) │\n",
       "├─────────────────────────────────┼────────────────────────┼───────────────┤\n",
       "│ dropout_4 (\u001b[38;5;33mDropout\u001b[0m)             │ ?                      │   \u001b[38;5;34m0\u001b[0m (unbuilt) │\n",
       "├─────────────────────────────────┼────────────────────────┼───────────────┤\n",
       "│ dense_6 (\u001b[38;5;33mDense\u001b[0m)                 │ ?                      │   \u001b[38;5;34m0\u001b[0m (unbuilt) │\n",
       "└─────────────────────────────────┴────────────────────────┴───────────────┘\n"
      ]
     },
     "metadata": {},
     "output_type": "display_data"
    },
    {
     "data": {
      "text/html": [
       "<pre style=\"white-space:pre;overflow-x:auto;line-height:normal;font-family:Menlo,'DejaVu Sans Mono',consolas,'Courier New',monospace\"><span style=\"font-weight: bold\"> Total params: </span><span style=\"color: #00af00; text-decoration-color: #00af00\">0</span> (0.00 B)\n",
       "</pre>\n"
      ],
      "text/plain": [
       "\u001b[1m Total params: \u001b[0m\u001b[38;5;34m0\u001b[0m (0.00 B)\n"
      ]
     },
     "metadata": {},
     "output_type": "display_data"
    },
    {
     "data": {
      "text/html": [
       "<pre style=\"white-space:pre;overflow-x:auto;line-height:normal;font-family:Menlo,'DejaVu Sans Mono',consolas,'Courier New',monospace\"><span style=\"font-weight: bold\"> Trainable params: </span><span style=\"color: #00af00; text-decoration-color: #00af00\">0</span> (0.00 B)\n",
       "</pre>\n"
      ],
      "text/plain": [
       "\u001b[1m Trainable params: \u001b[0m\u001b[38;5;34m0\u001b[0m (0.00 B)\n"
      ]
     },
     "metadata": {},
     "output_type": "display_data"
    },
    {
     "data": {
      "text/html": [
       "<pre style=\"white-space:pre;overflow-x:auto;line-height:normal;font-family:Menlo,'DejaVu Sans Mono',consolas,'Courier New',monospace\"><span style=\"font-weight: bold\"> Non-trainable params: </span><span style=\"color: #00af00; text-decoration-color: #00af00\">0</span> (0.00 B)\n",
       "</pre>\n"
      ],
      "text/plain": [
       "\u001b[1m Non-trainable params: \u001b[0m\u001b[38;5;34m0\u001b[0m (0.00 B)\n"
      ]
     },
     "metadata": {},
     "output_type": "display_data"
    }
   ],
   "source": [
    "model3.summary()"
   ]
  },
  {
   "cell_type": "code",
   "execution_count": 35,
   "metadata": {},
   "outputs": [],
   "source": [
    "model3.compile(loss = 'sparse_categorical_crossentropy',\n",
    "                       optimizer = Adam(learning_rate = lr),\n",
    "                       metrics=['accuracy'])"
   ]
  },
  {
   "cell_type": "code",
   "execution_count": 36,
   "metadata": {},
   "outputs": [
    {
     "name": "stdout",
     "output_type": "stream",
     "text": [
      "Epoch 1/100\n",
      "43/43 - 4s - 102ms/step - accuracy: 0.4762 - loss: 1.0929 - val_accuracy: 0.5789 - val_loss: 1.0818\n",
      "Epoch 2/100\n",
      "43/43 - 2s - 35ms/step - accuracy: 0.5730 - loss: 1.0731 - val_accuracy: 0.5789 - val_loss: 1.0601\n",
      "Epoch 3/100\n",
      "43/43 - 1s - 31ms/step - accuracy: 0.5730 - loss: 1.0500 - val_accuracy: 0.5789 - val_loss: 1.0325\n",
      "Epoch 4/100\n",
      "43/43 - 1s - 32ms/step - accuracy: 0.5730 - loss: 1.0202 - val_accuracy: 0.5789 - val_loss: 0.9956\n",
      "Epoch 5/100\n",
      "43/43 - 1s - 34ms/step - accuracy: 0.5730 - loss: 0.9816 - val_accuracy: 0.5789 - val_loss: 0.9496\n",
      "Epoch 6/100\n",
      "43/43 - 1s - 33ms/step - accuracy: 0.5730 - loss: 0.9430 - val_accuracy: 0.5789 - val_loss: 0.9120\n",
      "Epoch 7/100\n",
      "43/43 - 1s - 34ms/step - accuracy: 0.5730 - loss: 0.9250 - val_accuracy: 0.5789 - val_loss: 0.8999\n",
      "Epoch 8/100\n",
      "43/43 - 1s - 31ms/step - accuracy: 0.5730 - loss: 0.9218 - val_accuracy: 0.5789 - val_loss: 0.8954\n",
      "Epoch 9/100\n",
      "43/43 - 1s - 32ms/step - accuracy: 0.5730 - loss: 0.9203 - val_accuracy: 0.5789 - val_loss: 0.8931\n",
      "Epoch 10/100\n",
      "43/43 - 1s - 32ms/step - accuracy: 0.5730 - loss: 0.9194 - val_accuracy: 0.5789 - val_loss: 0.8917\n",
      "Epoch 11/100\n",
      "43/43 - 1s - 31ms/step - accuracy: 0.5730 - loss: 0.9191 - val_accuracy: 0.5789 - val_loss: 0.8906\n",
      "Epoch 12/100\n",
      "43/43 - 1s - 34ms/step - accuracy: 0.5730 - loss: 0.9186 - val_accuracy: 0.5789 - val_loss: 0.8893\n",
      "Epoch 13/100\n",
      "43/43 - 2s - 36ms/step - accuracy: 0.5730 - loss: 0.9181 - val_accuracy: 0.5789 - val_loss: 0.8893\n",
      "Epoch 14/100\n",
      "43/43 - 1s - 33ms/step - accuracy: 0.5730 - loss: 0.9176 - val_accuracy: 0.5789 - val_loss: 0.8882\n",
      "Epoch 15/100\n",
      "43/43 - 1s - 33ms/step - accuracy: 0.5730 - loss: 0.9185 - val_accuracy: 0.5789 - val_loss: 0.8887\n",
      "Epoch 16/100\n",
      "43/43 - 1s - 32ms/step - accuracy: 0.5730 - loss: 0.9168 - val_accuracy: 0.5789 - val_loss: 0.8871\n",
      "Epoch 17/100\n",
      "43/43 - 1s - 32ms/step - accuracy: 0.5730 - loss: 0.9167 - val_accuracy: 0.5789 - val_loss: 0.8867\n",
      "Epoch 18/100\n",
      "43/43 - 1s - 33ms/step - accuracy: 0.5730 - loss: 0.9165 - val_accuracy: 0.5789 - val_loss: 0.8864\n",
      "Epoch 19/100\n",
      "43/43 - 1s - 32ms/step - accuracy: 0.5730 - loss: 0.9164 - val_accuracy: 0.5789 - val_loss: 0.8866\n",
      "Epoch 20/100\n",
      "43/43 - 1s - 32ms/step - accuracy: 0.5730 - loss: 0.9163 - val_accuracy: 0.5789 - val_loss: 0.8868\n",
      "Epoch 21/100\n",
      "43/43 - 1s - 31ms/step - accuracy: 0.5730 - loss: 0.9157 - val_accuracy: 0.5789 - val_loss: 0.8854\n",
      "Epoch 22/100\n",
      "43/43 - 1s - 34ms/step - accuracy: 0.5730 - loss: 0.9156 - val_accuracy: 0.5789 - val_loss: 0.8849\n",
      "Epoch 23/100\n",
      "43/43 - 1s - 33ms/step - accuracy: 0.5730 - loss: 0.9155 - val_accuracy: 0.5789 - val_loss: 0.8850\n",
      "Epoch 24/100\n",
      "43/43 - 1s - 33ms/step - accuracy: 0.5730 - loss: 0.9152 - val_accuracy: 0.5789 - val_loss: 0.8841\n",
      "Epoch 25/100\n",
      "43/43 - 1s - 31ms/step - accuracy: 0.5730 - loss: 0.9148 - val_accuracy: 0.5789 - val_loss: 0.8842\n",
      "Epoch 26/100\n",
      "43/43 - 1s - 33ms/step - accuracy: 0.5730 - loss: 0.9147 - val_accuracy: 0.5789 - val_loss: 0.8836\n",
      "Epoch 27/100\n",
      "43/43 - 1s - 32ms/step - accuracy: 0.5730 - loss: 0.9144 - val_accuracy: 0.5789 - val_loss: 0.8835\n",
      "Epoch 28/100\n",
      "43/43 - 1s - 30ms/step - accuracy: 0.5730 - loss: 0.9141 - val_accuracy: 0.5789 - val_loss: 0.8830\n",
      "Epoch 29/100\n",
      "43/43 - 1s - 31ms/step - accuracy: 0.5730 - loss: 0.9140 - val_accuracy: 0.5789 - val_loss: 0.8828\n",
      "Epoch 30/100\n",
      "43/43 - 1s - 31ms/step - accuracy: 0.5730 - loss: 0.9137 - val_accuracy: 0.5789 - val_loss: 0.8827\n",
      "Epoch 31/100\n",
      "43/43 - 1s - 34ms/step - accuracy: 0.5730 - loss: 0.9137 - val_accuracy: 0.5789 - val_loss: 0.8823\n",
      "Epoch 32/100\n",
      "43/43 - 1s - 34ms/step - accuracy: 0.5730 - loss: 0.9134 - val_accuracy: 0.5789 - val_loss: 0.8825\n",
      "Epoch 33/100\n",
      "43/43 - 1s - 30ms/step - accuracy: 0.5730 - loss: 0.9142 - val_accuracy: 0.5789 - val_loss: 0.8814\n",
      "Epoch 34/100\n",
      "43/43 - 1s - 30ms/step - accuracy: 0.5730 - loss: 0.9128 - val_accuracy: 0.5789 - val_loss: 0.8825\n",
      "Epoch 35/100\n",
      "43/43 - 1s - 30ms/step - accuracy: 0.5730 - loss: 0.9129 - val_accuracy: 0.5789 - val_loss: 0.8813\n",
      "Epoch 36/100\n",
      "43/43 - 1s - 33ms/step - accuracy: 0.5730 - loss: 0.9125 - val_accuracy: 0.5789 - val_loss: 0.8808\n",
      "Epoch 37/100\n",
      "43/43 - 2s - 35ms/step - accuracy: 0.5730 - loss: 0.9128 - val_accuracy: 0.5789 - val_loss: 0.8802\n",
      "Epoch 38/100\n",
      "43/43 - 1s - 31ms/step - accuracy: 0.5730 - loss: 0.9121 - val_accuracy: 0.5789 - val_loss: 0.8805\n",
      "Epoch 39/100\n",
      "43/43 - 1s - 33ms/step - accuracy: 0.5730 - loss: 0.9119 - val_accuracy: 0.5789 - val_loss: 0.8794\n",
      "Epoch 40/100\n",
      "43/43 - 2s - 55ms/step - accuracy: 0.5730 - loss: 0.9117 - val_accuracy: 0.5789 - val_loss: 0.8789\n",
      "Epoch 41/100\n",
      "43/43 - 1s - 32ms/step - accuracy: 0.5730 - loss: 0.9117 - val_accuracy: 0.5789 - val_loss: 0.8786\n",
      "Epoch 42/100\n",
      "43/43 - 1s - 29ms/step - accuracy: 0.5730 - loss: 0.9116 - val_accuracy: 0.5789 - val_loss: 0.8784\n",
      "Epoch 43/100\n",
      "43/43 - 1s - 32ms/step - accuracy: 0.5730 - loss: 0.9111 - val_accuracy: 0.5789 - val_loss: 0.8785\n",
      "Epoch 44/100\n",
      "43/43 - 1s - 34ms/step - accuracy: 0.5730 - loss: 0.9109 - val_accuracy: 0.5789 - val_loss: 0.8776\n",
      "Epoch 45/100\n",
      "43/43 - 1s - 33ms/step - accuracy: 0.5730 - loss: 0.9109 - val_accuracy: 0.5789 - val_loss: 0.8778\n",
      "Epoch 46/100\n",
      "43/43 - 1s - 30ms/step - accuracy: 0.5730 - loss: 0.9106 - val_accuracy: 0.5789 - val_loss: 0.8771\n",
      "Epoch 47/100\n",
      "43/43 - 1s - 32ms/step - accuracy: 0.5730 - loss: 0.9106 - val_accuracy: 0.5789 - val_loss: 0.8760\n",
      "Epoch 48/100\n",
      "43/43 - 1s - 32ms/step - accuracy: 0.5730 - loss: 0.9100 - val_accuracy: 0.5789 - val_loss: 0.8760\n",
      "Epoch 49/100\n",
      "43/43 - 1s - 29ms/step - accuracy: 0.5730 - loss: 0.9097 - val_accuracy: 0.5789 - val_loss: 0.8768\n",
      "Epoch 50/100\n",
      "43/43 - 1s - 32ms/step - accuracy: 0.5730 - loss: 0.9096 - val_accuracy: 0.5789 - val_loss: 0.8760\n",
      "Epoch 51/100\n",
      "43/43 - 1s - 32ms/step - accuracy: 0.5730 - loss: 0.9093 - val_accuracy: 0.5789 - val_loss: 0.8749\n",
      "Epoch 52/100\n",
      "43/43 - 1s - 34ms/step - accuracy: 0.5730 - loss: 0.9090 - val_accuracy: 0.5789 - val_loss: 0.8747\n",
      "Epoch 53/100\n",
      "43/43 - 1s - 34ms/step - accuracy: 0.5730 - loss: 0.9088 - val_accuracy: 0.5789 - val_loss: 0.8744\n",
      "Epoch 54/100\n",
      "43/43 - 1s - 34ms/step - accuracy: 0.5730 - loss: 0.9087 - val_accuracy: 0.5789 - val_loss: 0.8748\n",
      "Epoch 55/100\n",
      "43/43 - 1s - 33ms/step - accuracy: 0.5730 - loss: 0.9082 - val_accuracy: 0.5789 - val_loss: 0.8734\n",
      "Epoch 56/100\n",
      "43/43 - 1s - 33ms/step - accuracy: 0.5730 - loss: 0.9081 - val_accuracy: 0.5789 - val_loss: 0.8739\n",
      "Epoch 57/100\n",
      "43/43 - 1s - 32ms/step - accuracy: 0.5730 - loss: 0.9080 - val_accuracy: 0.5789 - val_loss: 0.8732\n",
      "Epoch 58/100\n",
      "43/43 - 1s - 31ms/step - accuracy: 0.5730 - loss: 0.9086 - val_accuracy: 0.5789 - val_loss: 0.8736\n",
      "Epoch 59/100\n",
      "43/43 - 1s - 30ms/step - accuracy: 0.5730 - loss: 0.9069 - val_accuracy: 0.5789 - val_loss: 0.8719\n",
      "Epoch 60/100\n",
      "43/43 - 2s - 36ms/step - accuracy: 0.5730 - loss: 0.9064 - val_accuracy: 0.5789 - val_loss: 0.8717\n",
      "Epoch 61/100\n",
      "43/43 - 1s - 33ms/step - accuracy: 0.5730 - loss: 0.9064 - val_accuracy: 0.5789 - val_loss: 0.8706\n",
      "Epoch 62/100\n",
      "43/43 - 1s - 33ms/step - accuracy: 0.5730 - loss: 0.9058 - val_accuracy: 0.5789 - val_loss: 0.8702\n",
      "Epoch 63/100\n",
      "43/43 - 1s - 32ms/step - accuracy: 0.5730 - loss: 0.9054 - val_accuracy: 0.5789 - val_loss: 0.8697\n",
      "Epoch 64/100\n",
      "43/43 - 1s - 31ms/step - accuracy: 0.5730 - loss: 0.9047 - val_accuracy: 0.5789 - val_loss: 0.8692\n",
      "Epoch 65/100\n",
      "43/43 - 1s - 33ms/step - accuracy: 0.5730 - loss: 0.9040 - val_accuracy: 0.5789 - val_loss: 0.8684\n",
      "Epoch 66/100\n",
      "43/43 - 1s - 33ms/step - accuracy: 0.5730 - loss: 0.9036 - val_accuracy: 0.5789 - val_loss: 0.8675\n",
      "Epoch 67/100\n",
      "43/43 - 1s - 31ms/step - accuracy: 0.5730 - loss: 0.9029 - val_accuracy: 0.5789 - val_loss: 0.8662\n",
      "Epoch 68/100\n",
      "43/43 - 1s - 32ms/step - accuracy: 0.5730 - loss: 0.9027 - val_accuracy: 0.5789 - val_loss: 0.8660\n",
      "Epoch 69/100\n",
      "43/43 - 1s - 32ms/step - accuracy: 0.5730 - loss: 0.9017 - val_accuracy: 0.5789 - val_loss: 0.8661\n",
      "Epoch 70/100\n",
      "43/43 - 1s - 32ms/step - accuracy: 0.5730 - loss: 0.9009 - val_accuracy: 0.5789 - val_loss: 0.8653\n",
      "Epoch 71/100\n",
      "43/43 - 1s - 30ms/step - accuracy: 0.5730 - loss: 0.8989 - val_accuracy: 0.5789 - val_loss: 0.8638\n",
      "Epoch 72/100\n",
      "43/43 - 1s - 34ms/step - accuracy: 0.5730 - loss: 0.8979 - val_accuracy: 0.5789 - val_loss: 0.8627\n",
      "Epoch 73/100\n",
      "43/43 - 1s - 31ms/step - accuracy: 0.5730 - loss: 0.8975 - val_accuracy: 0.5789 - val_loss: 0.8625\n",
      "Epoch 74/100\n",
      "43/43 - 1s - 34ms/step - accuracy: 0.5730 - loss: 0.8948 - val_accuracy: 0.5789 - val_loss: 0.8633\n",
      "Epoch 75/100\n",
      "43/43 - 1s - 32ms/step - accuracy: 0.5730 - loss: 0.8929 - val_accuracy: 0.5789 - val_loss: 0.8645\n",
      "Epoch 76/100\n",
      "43/43 - 1s - 30ms/step - accuracy: 0.5730 - loss: 0.8928 - val_accuracy: 0.5789 - val_loss: 0.8659\n",
      "Epoch 77/100\n",
      "43/43 - 1s - 32ms/step - accuracy: 0.5730 - loss: 0.8902 - val_accuracy: 0.5789 - val_loss: 0.8680\n",
      "Epoch 78/100\n",
      "43/43 - 1s - 29ms/step - accuracy: 0.5730 - loss: 0.8934 - val_accuracy: 0.5789 - val_loss: 0.8667\n",
      "Epoch 79/100\n",
      "43/43 - 1s - 31ms/step - accuracy: 0.5730 - loss: 0.8909 - val_accuracy: 0.5789 - val_loss: 0.8652\n",
      "Epoch 80/100\n",
      "43/43 - 1s - 33ms/step - accuracy: 0.5730 - loss: 0.8895 - val_accuracy: 0.5789 - val_loss: 0.8661\n",
      "Epoch 81/100\n",
      "43/43 - 1s - 32ms/step - accuracy: 0.5730 - loss: 0.8887 - val_accuracy: 0.5789 - val_loss: 0.8658\n",
      "Epoch 82/100\n",
      "43/43 - 1s - 31ms/step - accuracy: 0.5730 - loss: 0.8875 - val_accuracy: 0.5789 - val_loss: 0.8659\n",
      "Epoch 83/100\n",
      "43/43 - 1s - 32ms/step - accuracy: 0.5730 - loss: 0.8872 - val_accuracy: 0.5789 - val_loss: 0.8706\n",
      "Epoch 84/100\n",
      "43/43 - 1s - 25ms/step - accuracy: 0.5730 - loss: 0.8861 - val_accuracy: 0.5789 - val_loss: 0.8683\n",
      "Epoch 85/100\n",
      "43/43 - 1s - 28ms/step - accuracy: 0.5730 - loss: 0.8845 - val_accuracy: 0.5789 - val_loss: 0.8671\n",
      "Epoch 86/100\n",
      "43/43 - 1s - 31ms/step - accuracy: 0.5730 - loss: 0.8836 - val_accuracy: 0.5789 - val_loss: 0.8686\n",
      "Epoch 87/100\n",
      "43/43 - 1s - 30ms/step - accuracy: 0.5730 - loss: 0.8853 - val_accuracy: 0.5789 - val_loss: 0.8672\n",
      "Epoch 88/100\n",
      "43/43 - 1s - 32ms/step - accuracy: 0.5730 - loss: 0.8827 - val_accuracy: 0.5789 - val_loss: 0.8665\n",
      "Epoch 89/100\n",
      "43/43 - 1s - 34ms/step - accuracy: 0.5730 - loss: 0.8820 - val_accuracy: 0.5789 - val_loss: 0.8663\n",
      "Epoch 90/100\n",
      "43/43 - 1s - 32ms/step - accuracy: 0.5730 - loss: 0.8814 - val_accuracy: 0.5789 - val_loss: 0.8676\n",
      "Epoch 91/100\n",
      "43/43 - 1s - 32ms/step - accuracy: 0.5730 - loss: 0.8809 - val_accuracy: 0.5789 - val_loss: 0.8666\n",
      "Epoch 92/100\n",
      "43/43 - 1s - 33ms/step - accuracy: 0.5730 - loss: 0.8806 - val_accuracy: 0.5789 - val_loss: 0.8675\n",
      "Epoch 93/100\n",
      "43/43 - 1s - 34ms/step - accuracy: 0.5730 - loss: 0.8792 - val_accuracy: 0.5789 - val_loss: 0.8647\n",
      "Epoch 94/100\n",
      "43/43 - 1s - 31ms/step - accuracy: 0.5730 - loss: 0.8786 - val_accuracy: 0.5789 - val_loss: 0.8650\n",
      "Epoch 95/100\n",
      "43/43 - 1s - 29ms/step - accuracy: 0.5730 - loss: 0.8779 - val_accuracy: 0.5789 - val_loss: 0.8646\n",
      "Epoch 96/100\n",
      "43/43 - 1s - 33ms/step - accuracy: 0.5730 - loss: 0.8761 - val_accuracy: 0.5789 - val_loss: 0.8655\n",
      "Epoch 97/100\n",
      "43/43 - 1s - 35ms/step - accuracy: 0.5730 - loss: 0.8756 - val_accuracy: 0.5789 - val_loss: 0.8652\n",
      "Epoch 98/100\n",
      "43/43 - 1s - 31ms/step - accuracy: 0.5730 - loss: 0.8749 - val_accuracy: 0.5789 - val_loss: 0.8668\n",
      "Epoch 99/100\n",
      "43/43 - 1s - 30ms/step - accuracy: 0.5730 - loss: 0.8747 - val_accuracy: 0.5789 - val_loss: 0.8641\n",
      "Epoch 100/100\n",
      "43/43 - 2s - 35ms/step - accuracy: 0.5730 - loss: 0.8727 - val_accuracy: 0.5789 - val_loss: 0.8642\n"
     ]
    }
   ],
   "source": [
    "early_stop = EarlyStopping(monitor='val_loss', patience=2)\n",
    "history = model3.fit(training_padded,\n",
    "                     y_train,\n",
    "                     epochs=num_epochs, \n",
    "                     validation_data=(testing_padded, y_test),\n",
    "                     verbose=2)"
   ]
  },
  {
   "cell_type": "markdown",
   "metadata": {},
   "source": [
    "Komparasi Model"
   ]
  },
  {
   "cell_type": "code",
   "execution_count": 37,
   "metadata": {},
   "outputs": [
    {
     "name": "stdout",
     "output_type": "stream",
     "text": [
      "\u001b[1m5/5\u001b[0m \u001b[32m━━━━━━━━━━━━━━━━━━━━\u001b[0m\u001b[37m\u001b[0m \u001b[1m0s\u001b[0m 6ms/step - accuracy: 0.7061 - loss: 1.0862 \n",
      "Dense model loss and accuracy: [0.9796381592750549, 0.7236841917037964] \n",
      "\u001b[1m5/5\u001b[0m \u001b[32m━━━━━━━━━━━━━━━━━━━━\u001b[0m\u001b[37m\u001b[0m \u001b[1m0s\u001b[0m 24ms/step - accuracy: 0.7112 - loss: 0.9283\n",
      "LSTM model loss and accuracy: [0.8621165752410889, 0.7039473652839661] \n",
      "\u001b[1m5/5\u001b[0m \u001b[32m━━━━━━━━━━━━━━━━━━━━\u001b[0m\u001b[37m\u001b[0m \u001b[1m0s\u001b[0m 25ms/step - accuracy: 0.6852 - loss: 3.3619\n",
      "Bi-LSTM model loss and accuracy: [3.0126283168792725, 0.7105262875556946] \n",
      "\u001b[1m5/5\u001b[0m \u001b[32m━━━━━━━━━━━━━━━━━━━━\u001b[0m\u001b[37m\u001b[0m \u001b[1m0s\u001b[0m 18ms/step - accuracy: 0.5910 - loss: 0.8498\n",
      "GRU model loss and accuracy: [0.8641729950904846, 0.5789473652839661]\n"
     ]
    }
   ],
   "source": [
    "# Comparing the four different models\n",
    "print(f\"Dense model loss and accuracy: {model.evaluate(testing_padded, y_test)} \" )\n",
    "print(f\"LSTM model loss and accuracy: {model1.evaluate(testing_padded, y_test)} \" )\n",
    "print(f\"Bi-LSTM model loss and accuracy: {model2.evaluate(testing_padded, y_test)} \" )\n",
    "print(f\"GRU model loss and accuracy: {model3.evaluate(testing_padded, y_test)}\")"
   ]
  },
  {
   "cell_type": "code",
   "execution_count": 40,
   "metadata": {},
   "outputs": [],
   "source": [
    "import keras_tuner as kt\n",
    "from tensorflow.keras.layers import Embedding, Bidirectional, LSTM, Dropout, Dense\n",
    "from tensorflow.keras.models import Sequential\n",
    "\n",
    "def build_model(hp):\n",
    "    model = Sequential()\n",
    "    \n",
    "    # Embedding layer with tunable embedding_dim\n",
    "    model.add(Embedding(vocab_size,\n",
    "                        hp.Int('embedding_dim', min_value=32, max_value=512, step=32),\n",
    "                        input_length=max_len))\n",
    "    \n",
    "    # LSTM layer with tunable number of LSTM units\n",
    "    model.add(Bidirectional(LSTM(hp.Int('n_lstm', min_value=32, max_value=512, step=32),\n",
    "                                 return_sequences=False)))\n",
    "    \n",
    "    # Dropout layer with tunable dropout rate\n",
    "    model.add(Dropout(hp.Float('drop_lstm', min_value=0.1, max_value=0.5, step=0.1)))\n",
    "    \n",
    "    # Dense output layer\n",
    "    model.add(Dense(3, activation='softmax'))\n",
    "    \n",
    "    # Compile the model with tunable learning rate\n",
    "    model.compile(\n",
    "        optimizer='adam',\n",
    "        loss='sparse_categorical_crossentropy',\n",
    "        metrics=['accuracy']\n",
    "    )\n",
    "    \n",
    "    return model\n",
    "tuner = kt.Hyperband(\n",
    "    build_model,\n",
    "    objective='val_accuracy',\n",
    "    max_epochs=30,\n",
    "    factor=3,\n",
    "    directory='my_dir',\n",
    "    project_name='Hyperparameter_Tuning_Model_BiLSTM'\n",
    ")\n",
    "tuner.search(training_padded, \n",
    "             y_train, \n",
    "             epochs=30, \n",
    "             validation_data=(testing_padded, y_test), \n",
    "             callbacks=[early_stop], \n",
    "             verbose=1)\n",
    "\n",
    "best_model = tuner.get_best_models(num_models=1)[0]\n",
    "best_hyperparameters = tuner.get_best_hyperparameters(1)[0]\n",
    "\n",
    "print(best_hyperparameters.values)\n",
    "best_model.summary()"
   ]
  },
  {
   "cell_type": "code",
   "execution_count": 12,
   "metadata": {},
   "outputs": [
    {
     "name": "stdout",
     "output_type": "stream",
     "text": [
      "Trial 92 Complete [00h 01m 19s]\n",
      "val_accuracy: 0.7697368264198303\n",
      "\n",
      "Best val_accuracy So Far: 0.7828947305679321\n",
      "Total elapsed time: 00h 35m 43s\n"
     ]
    },
    {
     "name": "stdout",
     "output_type": "stream",
     "text": [
      "{'embedding_dim': 480, 'n_lstm': 384, 'drop_lstm': 0.1, 'tuner/epochs': 30, 'tuner/initial_epoch': 15, 'tuner/bracket': 3, 'tuner/round': 3, 'tuner/trial_id': '0058'}\n"
     ]
    },
    {
     "data": {
      "text/html": [
       "<pre style=\"white-space:pre;overflow-x:auto;line-height:normal;font-family:Menlo,'DejaVu Sans Mono',consolas,'Courier New',monospace\"><span style=\"font-weight: bold\">Model: \"sequential\"</span>\n",
       "</pre>\n"
      ],
      "text/plain": [
       "\u001b[1mModel: \"sequential\"\u001b[0m\n"
      ]
     },
     "metadata": {},
     "output_type": "display_data"
    },
    {
     "data": {
      "text/html": [
       "<pre style=\"white-space:pre;overflow-x:auto;line-height:normal;font-family:Menlo,'DejaVu Sans Mono',consolas,'Courier New',monospace\">┏━━━━━━━━━━━━━━━━━━━━━━━━━━━━━━━━━┳━━━━━━━━━━━━━━━━━━━━━━━━┳━━━━━━━━━━━━━━━┓\n",
       "┃<span style=\"font-weight: bold\"> Layer (type)                    </span>┃<span style=\"font-weight: bold\"> Output Shape           </span>┃<span style=\"font-weight: bold\">       Param # </span>┃\n",
       "┡━━━━━━━━━━━━━━━━━━━━━━━━━━━━━━━━━╇━━━━━━━━━━━━━━━━━━━━━━━━╇━━━━━━━━━━━━━━━┩\n",
       "│ embedding (<span style=\"color: #0087ff; text-decoration-color: #0087ff\">Embedding</span>)           │ (<span style=\"color: #00d7ff; text-decoration-color: #00d7ff\">None</span>, <span style=\"color: #00af00; text-decoration-color: #00af00\">50</span>, <span style=\"color: #00af00; text-decoration-color: #00af00\">480</span>)        │       <span style=\"color: #00af00; text-decoration-color: #00af00\">240,000</span> │\n",
       "├─────────────────────────────────┼────────────────────────┼───────────────┤\n",
       "│ bidirectional (<span style=\"color: #0087ff; text-decoration-color: #0087ff\">Bidirectional</span>)   │ (<span style=\"color: #00d7ff; text-decoration-color: #00d7ff\">None</span>, <span style=\"color: #00af00; text-decoration-color: #00af00\">768</span>)            │     <span style=\"color: #00af00; text-decoration-color: #00af00\">2,657,280</span> │\n",
       "├─────────────────────────────────┼────────────────────────┼───────────────┤\n",
       "│ dropout (<span style=\"color: #0087ff; text-decoration-color: #0087ff\">Dropout</span>)               │ (<span style=\"color: #00d7ff; text-decoration-color: #00d7ff\">None</span>, <span style=\"color: #00af00; text-decoration-color: #00af00\">768</span>)            │             <span style=\"color: #00af00; text-decoration-color: #00af00\">0</span> │\n",
       "├─────────────────────────────────┼────────────────────────┼───────────────┤\n",
       "│ dense (<span style=\"color: #0087ff; text-decoration-color: #0087ff\">Dense</span>)                   │ (<span style=\"color: #00d7ff; text-decoration-color: #00d7ff\">None</span>, <span style=\"color: #00af00; text-decoration-color: #00af00\">3</span>)              │         <span style=\"color: #00af00; text-decoration-color: #00af00\">2,307</span> │\n",
       "└─────────────────────────────────┴────────────────────────┴───────────────┘\n",
       "</pre>\n"
      ],
      "text/plain": [
       "┏━━━━━━━━━━━━━━━━━━━━━━━━━━━━━━━━━┳━━━━━━━━━━━━━━━━━━━━━━━━┳━━━━━━━━━━━━━━━┓\n",
       "┃\u001b[1m \u001b[0m\u001b[1mLayer (type)                   \u001b[0m\u001b[1m \u001b[0m┃\u001b[1m \u001b[0m\u001b[1mOutput Shape          \u001b[0m\u001b[1m \u001b[0m┃\u001b[1m \u001b[0m\u001b[1m      Param #\u001b[0m\u001b[1m \u001b[0m┃\n",
       "┡━━━━━━━━━━━━━━━━━━━━━━━━━━━━━━━━━╇━━━━━━━━━━━━━━━━━━━━━━━━╇━━━━━━━━━━━━━━━┩\n",
       "│ embedding (\u001b[38;5;33mEmbedding\u001b[0m)           │ (\u001b[38;5;45mNone\u001b[0m, \u001b[38;5;34m50\u001b[0m, \u001b[38;5;34m480\u001b[0m)        │       \u001b[38;5;34m240,000\u001b[0m │\n",
       "├─────────────────────────────────┼────────────────────────┼───────────────┤\n",
       "│ bidirectional (\u001b[38;5;33mBidirectional\u001b[0m)   │ (\u001b[38;5;45mNone\u001b[0m, \u001b[38;5;34m768\u001b[0m)            │     \u001b[38;5;34m2,657,280\u001b[0m │\n",
       "├─────────────────────────────────┼────────────────────────┼───────────────┤\n",
       "│ dropout (\u001b[38;5;33mDropout\u001b[0m)               │ (\u001b[38;5;45mNone\u001b[0m, \u001b[38;5;34m768\u001b[0m)            │             \u001b[38;5;34m0\u001b[0m │\n",
       "├─────────────────────────────────┼────────────────────────┼───────────────┤\n",
       "│ dense (\u001b[38;5;33mDense\u001b[0m)                   │ (\u001b[38;5;45mNone\u001b[0m, \u001b[38;5;34m3\u001b[0m)              │         \u001b[38;5;34m2,307\u001b[0m │\n",
       "└─────────────────────────────────┴────────────────────────┴───────────────┘\n"
      ]
     },
     "metadata": {},
     "output_type": "display_data"
    },
    {
     "data": {
      "text/html": [
       "<pre style=\"white-space:pre;overflow-x:auto;line-height:normal;font-family:Menlo,'DejaVu Sans Mono',consolas,'Courier New',monospace\"><span style=\"font-weight: bold\"> Total params: </span><span style=\"color: #00af00; text-decoration-color: #00af00\">2,899,587</span> (11.06 MB)\n",
       "</pre>\n"
      ],
      "text/plain": [
       "\u001b[1m Total params: \u001b[0m\u001b[38;5;34m2,899,587\u001b[0m (11.06 MB)\n"
      ]
     },
     "metadata": {},
     "output_type": "display_data"
    },
    {
     "data": {
      "text/html": [
       "<pre style=\"white-space:pre;overflow-x:auto;line-height:normal;font-family:Menlo,'DejaVu Sans Mono',consolas,'Courier New',monospace\"><span style=\"font-weight: bold\"> Trainable params: </span><span style=\"color: #00af00; text-decoration-color: #00af00\">2,899,587</span> (11.06 MB)\n",
       "</pre>\n"
      ],
      "text/plain": [
       "\u001b[1m Trainable params: \u001b[0m\u001b[38;5;34m2,899,587\u001b[0m (11.06 MB)\n"
      ]
     },
     "metadata": {},
     "output_type": "display_data"
    },
    {
     "data": {
      "text/html": [
       "<pre style=\"white-space:pre;overflow-x:auto;line-height:normal;font-family:Menlo,'DejaVu Sans Mono',consolas,'Courier New',monospace\"><span style=\"font-weight: bold\"> Non-trainable params: </span><span style=\"color: #00af00; text-decoration-color: #00af00\">0</span> (0.00 B)\n",
       "</pre>\n"
      ],
      "text/plain": [
       "\u001b[1m Non-trainable params: \u001b[0m\u001b[38;5;34m0\u001b[0m (0.00 B)\n"
      ]
     },
     "metadata": {},
     "output_type": "display_data"
    }
   ],
   "source": [
    "\n",
    "import keras_tuner as kt\n",
    "from tensorflow.keras.layers import Embedding, Bidirectional, LSTM, Dropout, Dense\n",
    "from tensorflow.keras.models import Sequential\n",
    "from keras.optimizers import Adam, AdamW\n",
    "\n",
    "def build_model(hp):\n",
    "    model = Sequential()\n",
    "    \n",
    "    # Embedding layer with tunable embedding_dim\n",
    "    model.add(Embedding(vocab_size,\n",
    "                        hp.Int('embedding_dim', min_value=32, max_value=512, step=32),\n",
    "                        input_length=max_len))\n",
    "    \n",
    "    # LSTM layer with tunable number of LSTM units\n",
    "    model.add(Bidirectional(LSTM(hp.Int('n_lstm', min_value=32, max_value=512, step=32),\n",
    "                                 return_sequences=False)))\n",
    "    \n",
    "    # Dropout layer with tunable dropout rate\n",
    "    model.add(Dropout(hp.Float('drop_lstm', min_value=0.1, max_value=0.5, step=0.1)))\n",
    "    \n",
    "    # Dense output layer\n",
    "    model.add(Dense(3, activation='softmax'))\n",
    "    \n",
    "    # Compile the model with tunable learning rate\n",
    "    model.compile(\n",
    "        optimizer= AdamW(learning_rate = lr),\n",
    "        loss='sparse_categorical_crossentropy',\n",
    "        metrics=['accuracy']\n",
    "    )\n",
    "    \n",
    "    return model\n",
    "tuner = kt.Hyperband(\n",
    "    build_model,\n",
    "    objective='val_accuracy',\n",
    "    max_epochs=30,\n",
    "    factor=2,\n",
    "    directory='my_dir',\n",
    "    project_name='Hyperparameter_Tuning_Model_BiLSTM_AdamW'\n",
    ")\n",
    "early_stop = EarlyStopping(monitor = 'val_loss',\n",
    "                           patience = 2)\n",
    "tuner.search(training_padded, \n",
    "             y_train, \n",
    "             epochs=30, \n",
    "             validation_data=(testing_padded, y_test), \n",
    "             callbacks=[early_stop], \n",
    "             verbose=1)\n",
    "\n",
    "best_model = tuner.get_best_models(num_models=1)[0]\n",
    "best_hyperparameters = tuner.get_best_hyperparameters(1)[0]\n",
    "\n",
    "print(best_hyperparameters.values)\n",
    "best_model.summary()"
   ]
  },
  {
   "cell_type": "code",
   "execution_count": 17,
   "metadata": {},
   "outputs": [
    {
     "data": {
      "image/png": "[encoded data removed]",
      "text/plain": [
       "<IPython.core.display.Image object>"
      ]
     },
     "execution_count": 17,
     "metadata": {},
     "output_type": "execute_result"
    }
   ],
   "source": [
    "tf.keras.utils.plot_model(best_model, show_shapes=True, show_dtype=True,show_layer_names=True,rankdir='LR',expand_nested=True,dpi=200,show_layer_activations=True,show_trainable=True)"
   ]
  },
  {
   "cell_type": "code",
   "execution_count": 25,
   "metadata": {},
   "outputs": [
    {
     "name": "stdout",
     "output_type": "stream",
     "text": [
      "Trial 90 Complete [00h 00m 25s]\n",
      "val_accuracy: 0.7697368264198303\n",
      "\n",
      "Best val_accuracy So Far: 0.8026315569877625\n",
      "Total elapsed time: 00h 18m 13s\n",
      "Best Hyperparameters:\n",
      "{'embedding_dim': 512, 'n_lstm': 320, 'drop_lstm': 0.2, 'tuner/epochs': 10, 'tuner/initial_epoch': 4, 'tuner/bracket': 3, 'tuner/round': 2, 'tuner/trial_id': '0036'}\n"
     ]
    },
    {
     "data": {
      "text/html": [
       "<pre style=\"white-space:pre;overflow-x:auto;line-height:normal;font-family:Menlo,'DejaVu Sans Mono',consolas,'Courier New',monospace\"><span style=\"font-weight: bold\">Model: \"sequential\"</span>\n",
       "</pre>\n"
      ],
      "text/plain": [
       "\u001b[1mModel: \"sequential\"\u001b[0m\n"
      ]
     },
     "metadata": {},
     "output_type": "display_data"
    },
    {
     "data": {
      "text/html": [
       "<pre style=\"white-space:pre;overflow-x:auto;line-height:normal;font-family:Menlo,'DejaVu Sans Mono',consolas,'Courier New',monospace\">┏━━━━━━━━━━━━━━━━━━━━━━━━━━━━━━━━━┳━━━━━━━━━━━━━━━━━━━━━━━━┳━━━━━━━━━━━━━━━┓\n",
       "┃<span style=\"font-weight: bold\"> Layer (type)                    </span>┃<span style=\"font-weight: bold\"> Output Shape           </span>┃<span style=\"font-weight: bold\">       Param # </span>┃\n",
       "┡━━━━━━━━━━━━━━━━━━━━━━━━━━━━━━━━━╇━━━━━━━━━━━━━━━━━━━━━━━━╇━━━━━━━━━━━━━━━┩\n",
       "│ embedding (<span style=\"color: #0087ff; text-decoration-color: #0087ff\">Embedding</span>)           │ (<span style=\"color: #00d7ff; text-decoration-color: #00d7ff\">None</span>, <span style=\"color: #00af00; text-decoration-color: #00af00\">50</span>, <span style=\"color: #00af00; text-decoration-color: #00af00\">512</span>)        │       <span style=\"color: #00af00; text-decoration-color: #00af00\">256,000</span> │\n",
       "├─────────────────────────────────┼────────────────────────┼───────────────┤\n",
       "│ bidirectional (<span style=\"color: #0087ff; text-decoration-color: #0087ff\">Bidirectional</span>)   │ (<span style=\"color: #00d7ff; text-decoration-color: #00d7ff\">None</span>, <span style=\"color: #00af00; text-decoration-color: #00af00\">50</span>, <span style=\"color: #00af00; text-decoration-color: #00af00\">640</span>)        │     <span style=\"color: #00af00; text-decoration-color: #00af00\">2,132,480</span> │\n",
       "├─────────────────────────────────┼────────────────────────┼───────────────┤\n",
       "│ dropout (<span style=\"color: #0087ff; text-decoration-color: #0087ff\">Dropout</span>)               │ (<span style=\"color: #00d7ff; text-decoration-color: #00d7ff\">None</span>, <span style=\"color: #00af00; text-decoration-color: #00af00\">50</span>, <span style=\"color: #00af00; text-decoration-color: #00af00\">640</span>)        │             <span style=\"color: #00af00; text-decoration-color: #00af00\">0</span> │\n",
       "├─────────────────────────────────┼────────────────────────┼───────────────┤\n",
       "│ attention (<span style=\"color: #0087ff; text-decoration-color: #0087ff\">Attention</span>)           │ (<span style=\"color: #00d7ff; text-decoration-color: #00d7ff\">None</span>, <span style=\"color: #00af00; text-decoration-color: #00af00\">640</span>)            │       <span style=\"color: #00af00; text-decoration-color: #00af00\">410,240</span> │\n",
       "├─────────────────────────────────┼────────────────────────┼───────────────┤\n",
       "│ dense (<span style=\"color: #0087ff; text-decoration-color: #0087ff\">Dense</span>)                   │ (<span style=\"color: #00d7ff; text-decoration-color: #00d7ff\">None</span>, <span style=\"color: #00af00; text-decoration-color: #00af00\">3</span>)              │         <span style=\"color: #00af00; text-decoration-color: #00af00\">1,923</span> │\n",
       "└─────────────────────────────────┴────────────────────────┴───────────────┘\n",
       "</pre>\n"
      ],
      "text/plain": [
       "┏━━━━━━━━━━━━━━━━━━━━━━━━━━━━━━━━━┳━━━━━━━━━━━━━━━━━━━━━━━━┳━━━━━━━━━━━━━━━┓\n",
       "┃\u001b[1m \u001b[0m\u001b[1mLayer (type)                   \u001b[0m\u001b[1m \u001b[0m┃\u001b[1m \u001b[0m\u001b[1mOutput Shape          \u001b[0m\u001b[1m \u001b[0m┃\u001b[1m \u001b[0m\u001b[1m      Param #\u001b[0m\u001b[1m \u001b[0m┃\n",
       "┡━━━━━━━━━━━━━━━━━━━━━━━━━━━━━━━━━╇━━━━━━━━━━━━━━━━━━━━━━━━╇━━━━━━━━━━━━━━━┩\n",
       "│ embedding (\u001b[38;5;33mEmbedding\u001b[0m)           │ (\u001b[38;5;45mNone\u001b[0m, \u001b[38;5;34m50\u001b[0m, \u001b[38;5;34m512\u001b[0m)        │       \u001b[38;5;34m256,000\u001b[0m │\n",
       "├─────────────────────────────────┼────────────────────────┼───────────────┤\n",
       "│ bidirectional (\u001b[38;5;33mBidirectional\u001b[0m)   │ (\u001b[38;5;45mNone\u001b[0m, \u001b[38;5;34m50\u001b[0m, \u001b[38;5;34m640\u001b[0m)        │     \u001b[38;5;34m2,132,480\u001b[0m │\n",
       "├─────────────────────────────────┼────────────────────────┼───────────────┤\n",
       "│ dropout (\u001b[38;5;33mDropout\u001b[0m)               │ (\u001b[38;5;45mNone\u001b[0m, \u001b[38;5;34m50\u001b[0m, \u001b[38;5;34m640\u001b[0m)        │             \u001b[38;5;34m0\u001b[0m │\n",
       "├─────────────────────────────────┼────────────────────────┼───────────────┤\n",
       "│ attention (\u001b[38;5;33mAttention\u001b[0m)           │ (\u001b[38;5;45mNone\u001b[0m, \u001b[38;5;34m640\u001b[0m)            │       \u001b[38;5;34m410,240\u001b[0m │\n",
       "├─────────────────────────────────┼────────────────────────┼───────────────┤\n",
       "│ dense (\u001b[38;5;33mDense\u001b[0m)                   │ (\u001b[38;5;45mNone\u001b[0m, \u001b[38;5;34m3\u001b[0m)              │         \u001b[38;5;34m1,923\u001b[0m │\n",
       "└─────────────────────────────────┴────────────────────────┴───────────────┘\n"
      ]
     },
     "metadata": {},
     "output_type": "display_data"
    },
    {
     "data": {
      "text/html": [
       "<pre style=\"white-space:pre;overflow-x:auto;line-height:normal;font-family:Menlo,'DejaVu Sans Mono',consolas,'Courier New',monospace\"><span style=\"font-weight: bold\"> Total params: </span><span style=\"color: #00af00; text-decoration-color: #00af00\">2,800,643</span> (10.68 MB)\n",
       "</pre>\n"
      ],
      "text/plain": [
       "\u001b[1m Total params: \u001b[0m\u001b[38;5;34m2,800,643\u001b[0m (10.68 MB)\n"
      ]
     },
     "metadata": {},
     "output_type": "display_data"
    },
    {
     "data": {
      "text/html": [
       "<pre style=\"white-space:pre;overflow-x:auto;line-height:normal;font-family:Menlo,'DejaVu Sans Mono',consolas,'Courier New',monospace\"><span style=\"font-weight: bold\"> Trainable params: </span><span style=\"color: #00af00; text-decoration-color: #00af00\">2,800,643</span> (10.68 MB)\n",
       "</pre>\n"
      ],
      "text/plain": [
       "\u001b[1m Trainable params: \u001b[0m\u001b[38;5;34m2,800,643\u001b[0m (10.68 MB)\n"
      ]
     },
     "metadata": {},
     "output_type": "display_data"
    },
    {
     "data": {
      "text/html": [
       "<pre style=\"white-space:pre;overflow-x:auto;line-height:normal;font-family:Menlo,'DejaVu Sans Mono',consolas,'Courier New',monospace\"><span style=\"font-weight: bold\"> Non-trainable params: </span><span style=\"color: #00af00; text-decoration-color: #00af00\">0</span> (0.00 B)\n",
       "</pre>\n"
      ],
      "text/plain": [
       "\u001b[1m Non-trainable params: \u001b[0m\u001b[38;5;34m0\u001b[0m (0.00 B)\n"
      ]
     },
     "metadata": {},
     "output_type": "display_data"
    }
   ],
   "source": [
    "import keras_tuner as kt\n",
    "from tensorflow.keras.layers import Embedding, Bidirectional, LSTM, Dropout, Dense\n",
    "from tensorflow.keras.models import Sequential\n",
    "from tensorflow.keras.layers import Layer\n",
    "from tensorflow.keras import backend as K\n",
    "\n",
    "# Define the custom Attention layer\n",
    "class Attention(Layer):\n",
    "    def __init__(self, **kwargs):\n",
    "        super(Attention, self).__init__(**kwargs)\n",
    "\n",
    "    def build(self, input_shape):\n",
    "        self.W = self.add_weight(name=\"att_weight\", shape=(input_shape[-1], input_shape[-1]),\n",
    "                                 initializer=\"glorot_uniform\", trainable=True)\n",
    "        self.b = self.add_weight(name=\"att_bias\", shape=(input_shape[-1],),\n",
    "                                 initializer=\"glorot_uniform\", trainable=True)\n",
    "        super(Attention, self).build(input_shape)\n",
    "\n",
    "    def call(self, x):\n",
    "        e = K.tanh(K.dot(x, self.W) + self.b)\n",
    "        a = K.softmax(e, axis=1)\n",
    "        output = x * a\n",
    "        return K.sum(output, axis=1)\n",
    "\n",
    "# Now, integrate this Attention layer into the model\n",
    "\n",
    "def build_model(hp):\n",
    "    model = Sequential()\n",
    "    \n",
    "    # Embedding layer with tunable embedding_dim\n",
    "    model.add(Embedding(vocab_size,\n",
    "                        hp.Int('embedding_dim', min_value=32, max_value=512, step=32),\n",
    "                        input_length=max_len))\n",
    "    \n",
    "    # First Bidirectional LSTM layer with tunable LSTM units and dropout\n",
    "    model.add(Bidirectional(LSTM(hp.Int('n_lstm', min_value=32, max_value=512, step=32),\n",
    "                                 return_sequences=True)))\n",
    "    model.add(Dropout(hp.Float('drop_lstm', min_value=0.1, max_value=0.5, step=0.1)))\n",
    "    # Add Attention layer\n",
    "    model.add(Attention())\n",
    "    # Dense output layer\n",
    "    model.add(Dense(3, activation='softmax'))\n",
    "    \n",
    "    # Compile the model with tunable learning rate\n",
    "    model.compile(\n",
    "        optimizer='adam',\n",
    "        loss='sparse_categorical_crossentropy',\n",
    "        metrics=['accuracy']\n",
    "    )\n",
    "    \n",
    "    return model\n",
    "\n",
    "# Set up the tuner with Hyperband\n",
    "tuner = kt.Hyperband(\n",
    "    build_model,\n",
    "    objective='val_accuracy',\n",
    "    max_epochs=30,\n",
    "    factor=3,\n",
    "    directory='my_dir',\n",
    "    project_name='Hyperparameter_Tuning_Model_BiLSTM_Attention'\n",
    ")\n",
    "\n",
    "# Run the hyperparameter search\n",
    "tuner.search(training_padded, \n",
    "             y_train, \n",
    "             epochs=30, \n",
    "             validation_data=(testing_padded, y_test), \n",
    "             callbacks=[early_stop], \n",
    "             verbose=1)\n",
    "\n",
    "# Get the best model and hyperparameters\n",
    "best_model = tuner.get_best_models(num_models=1)[0]\n",
    "best_hyperparameters = tuner.get_best_hyperparameters(1)[0]\n",
    "\n",
    "print(\"Best Hyperparameters:\")\n",
    "print(best_hyperparameters.values)\n",
    "best_model.summary()"
   ]
  },
  {
   "cell_type": "code",
   "execution_count": 27,
   "metadata": {},
   "outputs": [
    {
     "name": "stdout",
     "output_type": "stream",
     "text": [
      "\u001b[1m5/5\u001b[0m \u001b[32m━━━━━━━━━━━━━━━━━━━━\u001b[0m\u001b[37m\u001b[0m \u001b[1m0s\u001b[0m 66ms/step\n",
      "\n",
      "Classification Report:\n",
      "              precision    recall  f1-score   support\n",
      "\n",
      "     Class 0       0.81      0.93      0.87        88\n",
      "     Class 1       0.00      0.00      0.00        11\n",
      "     Class 2       0.78      0.75      0.77        53\n",
      "\n",
      "    accuracy                           0.80       152\n",
      "   macro avg       0.53      0.56      0.55       152\n",
      "weighted avg       0.74      0.80      0.77       152\n",
      "\n"
     ]
    },
    {
     "name": "stderr",
     "output_type": "stream",
     "text": [
      "/home/anugerahsurya/.local/lib/python3.10/site-packages/sklearn/metrics/_classification.py:1509: UndefinedMetricWarning: Precision is ill-defined and being set to 0.0 in labels with no predicted samples. Use `zero_division` parameter to control this behavior.\n",
      "  _warn_prf(average, modifier, f\"{metric.capitalize()} is\", len(result))\n",
      "/home/anugerahsurya/.local/lib/python3.10/site-packages/sklearn/metrics/_classification.py:1509: UndefinedMetricWarning: Precision is ill-defined and being set to 0.0 in labels with no predicted samples. Use `zero_division` parameter to control this behavior.\n",
      "  _warn_prf(average, modifier, f\"{metric.capitalize()} is\", len(result))\n",
      "/home/anugerahsurya/.local/lib/python3.10/site-packages/sklearn/metrics/_classification.py:1509: UndefinedMetricWarning: Precision is ill-defined and being set to 0.0 in labels with no predicted samples. Use `zero_division` parameter to control this behavior.\n",
      "  _warn_prf(average, modifier, f\"{metric.capitalize()} is\", len(result))\n"
     ]
    },
    {
     "data": {
      "image/png": "[encoded data removed]",
      "text/plain": [
       "<Figure size 800x600 with 2 Axes>"
      ]
     },
     "metadata": {},
     "output_type": "display_data"
    }
   ],
   "source": [
    "from sklearn.metrics import classification_report, confusion_matrix\n",
    "# Evaluate the model on the test data\n",
    "y_pred = np.argmax(best_model.predict(testing_padded), axis=-1)\n",
    "\n",
    "# Print classification report\n",
    "print(\"\\nClassification Report:\")\n",
    "print(classification_report(y_test, y_pred, target_names=['Class 0', 'Class 1', 'Class 2']))\n",
    "\n",
    "# Plot confusion matrix\n",
    "conf_matrix = confusion_matrix(y_test, y_pred)\n",
    "plt.figure(figsize=(8, 6))\n",
    "sns.heatmap(conf_matrix, annot=True, fmt='d', cmap='Blues', xticklabels=['Class 0', 'Class 1', 'Class 2'], yticklabels=['Class 0', 'Class 1', 'Class 2'])\n",
    "plt.xlabel('Predicted Label')\n",
    "plt.ylabel('True Label')\n",
    "plt.title('Confusion Matrix')\n",
    "plt.show()\n",
    "\n",
    "# Function to predict and classify new input\n",
    "def predict_new_text(text):\n",
    "    # Preprocess the text (tokenize, pad, etc.)\n",
    "    sequences = tokenizer.texts_to_sequences([text])\n",
    "    padded_sequence = pad_sequences(sequences, maxlen=max_len, padding='post')\n",
    "    \n",
    "    # Predict the class\n",
    "    prediction = best_model.predict(padded_sequence)\n",
    "    predicted_class = np.argmax(prediction, axis=-1)[0]\n",
    "    \n",
    "    # Print the predicted class\n",
    "    class_labels = ['Negatif', 'Netral', 'Positif']\n",
    "    print(f\"Predicted class: {class_labels[predicted_class]}\")"
   ]
  },
  {
   "cell_type": "code",
   "execution_count": 29,
   "metadata": {},
   "outputs": [
    {
     "name": "stdout",
     "output_type": "stream",
     "text": [
      "\u001b[1m1/1\u001b[0m \u001b[32m━━━━━━━━━━━━━━━━━━━━\u001b[0m\u001b[37m\u001b[0m \u001b[1m0s\u001b[0m 56ms/step\n",
      "Predicted class: Negatif\n"
     ]
    }
   ],
   "source": [
    "# Example of taking user input and predicting\n",
    "user_input = input(\"Enter a sentence to classify: \")\n",
    "predict_new_text(user_input)"
   ]
  }
 ],
 "metadata": {
  "kernelspec": {
   "display_name": "Python 3",
   "language": "python",
   "name": "python3"
  },
  "language_info": {
   "codemirror_mode": {
    "name": "ipython",
    "version": 3
   },
   "file_extension": ".py",
   "mimetype": "text/x-python",
   "name": "python",
   "nbconvert_exporter": "python",
   "pygments_lexer": "ipython3",
   "version": "3.10.12"
  }
 },
 "nbformat": 4,
 "nbformat_minor": 2
}
