{
 "cells": [
  {
   "cell_type": "markdown",
   "metadata": {},
   "source": [
    "Import Library"
   ]
  },
  {
   "cell_type": "code",
   "execution_count": 27,
   "metadata": {},
   "outputs": [],
   "source": [
    "import pandas as pd\n",
    "import numpy as np\n",
    "from nltk.tokenize import word_tokenize\n",
    "from nltk import pos_tag\n",
    "from nltk.corpus import stopwords\n",
    "from nltk.stem import WordNetLemmatizer\n",
    "from sklearn.preprocessing import LabelEncoder\n",
    "from collections import defaultdict\n",
    "from nltk.corpus import wordnet as wn\n",
    "from sklearn.feature_extraction.text import TfidfVectorizer\n",
    "from sklearn import model_selection, naive_bayes, svm\n",
    "from sklearn.metrics import accuracy_score\n",
    "import nltk\n",
    "from sklearn.model_selection import train_test_split\n",
    "from sklearn.svm import SVC\n",
    "from sklearn.metrics import accuracy_score, classification_report, confusion_matrix\n",
    "import matplotlib.pyplot as plt\n",
    "import warnings\n",
    "warnings.filterwarnings(\"ignore\")\n",
    "import seaborn as sns\n",
    "import matplotlib.pyplot as plt\n"
   ]
  },
  {
   "cell_type": "markdown",
   "metadata": {},
   "source": [
    "Set Seed"
   ]
  },
  {
   "cell_type": "code",
   "execution_count": 28,
   "metadata": {},
   "outputs": [],
   "source": [
    "np.random.seed(500)"
   ]
  },
  {
   "cell_type": "markdown",
   "metadata": {},
   "source": [
    "Load Data"
   ]
  },
  {
   "cell_type": "code",
   "execution_count": 29,
   "metadata": {},
   "outputs": [],
   "source": [
    "def muat_data(Corpus):\n",
    "    Dataset = Corpus[['text_cleaning','sentimen']]\n",
    "    Dataset.head()\n",
    "    return Dataset"
   ]
  },
  {
   "cell_type": "markdown",
   "metadata": {},
   "source": [
    "Preprocessing Text"
   ]
  },
  {
   "cell_type": "code",
   "execution_count": 30,
   "metadata": {},
   "outputs": [],
   "source": [
    "from nltk.tokenize import word_tokenize\n",
    "from nltk.corpus import stopwords\n",
    "from nltk.stem import SnowballStemmer\n",
    "import pandas as pd\n",
    "\n",
    "def preprocessing_teks(Corpus):\n",
    "    # Mengubah semua teks menjadi huruf kecil\n",
    "    Corpus['teks'] = Corpus['teks'].str.lower()\n",
    "\n",
    "    # Tokenisasi\n",
    "    Corpus['teks'] = Corpus['teks'].apply(word_tokenize)\n",
    "\n",
    "    # Inisialisasi stemmer\n",
    "    stemmer = SnowballStemmer('indonesian')\n",
    "\n",
    "    # Menghapus stop words dan melakukan stemming\n",
    "    stop_words = set(stopwords.words('indonesian'))\n",
    "\n",
    "    def preprocess_text(tokens):\n",
    "        return [\n",
    "            stemmer.stem(word) for word in tokens \n",
    "            if word.isalpha() and word not in stop_words\n",
    "        ]\n",
    "\n",
    "    Corpus['teks'] = Corpus['teks'].apply(preprocess_text)\n",
    "\n",
    "    # Menggabungkan kembali token menjadi string\n",
    "    Corpus['teks'] = Corpus['teks'].apply(lambda x: ' '.join(x))\n",
    "\n",
    "    return Corpus  # Mengembalikan DataFrame yang telah diproses\n"
   ]
  },
  {
   "cell_type": "markdown",
   "metadata": {},
   "source": [
    "Visualisasi Pie Chart Proporsi Data Label"
   ]
  },
  {
   "cell_type": "code",
   "execution_count": 31,
   "metadata": {},
   "outputs": [],
   "source": [
    "def viz(Dataset):\n",
    "    # Menghitung distribusi label\n",
    "    label_distribution = Dataset['sentimen'].value_counts().reset_index()\n",
    "    label_distribution.columns = ['sentimen', 'jumlah']\n",
    "\n",
    "    # Mapping label untuk visualisasi\n",
    "    label_mapping = {0: 'negatif', 1: 'netral', 2: 'positif'}\n",
    "    label_distribution['sentimen'] = label_distribution['sentimen'].map(label_mapping)\n",
    "\n",
    "    # Visualisasi sebaran label menggunakan pie chart\n",
    "    plt.figure(figsize=(8, 8))\n",
    "    plt.pie(label_distribution['jumlah'], labels=label_distribution['sentimen'], autopct='%1.1f%%', colors=sns.color_palette('viridis', len(label_distribution)))\n",
    "    plt.title('Sebaran Data Label Sentimen')\n",
    "    plt.show()\n"
   ]
  },
  {
   "cell_type": "markdown",
   "metadata": {},
   "source": [
    "Visualisasi WordCloud"
   ]
  },
  {
   "cell_type": "code",
   "execution_count": 32,
   "metadata": {},
   "outputs": [],
   "source": [
    "from wordcloud import WordCloud\n",
    "\n",
    "def buat_wordcloud(text):\n",
    "    # Buat word cloud\n",
    "    wordcloud = WordCloud(width=800, height=400, background_color='white').generate(text)\n",
    "    \n",
    "    # Tampilkan word cloud\n",
    "    plt.figure(figsize=(10, 5), dpi=300)\n",
    "    plt.imshow(wordcloud, interpolation='bilinear')\n",
    "    plt.axis('off')  # Tidak menampilkan sumbu\n",
    "    plt.show()"
   ]
  },
  {
   "cell_type": "markdown",
   "metadata": {},
   "source": [
    "Mempersiapkan Data Teks"
   ]
  },
  {
   "cell_type": "code",
   "execution_count": 33,
   "metadata": {},
   "outputs": [],
   "source": [
    "def preparation_teks(Dataset):\n",
    "    # Membuat peta kode label ke label asli\n",
    "    label_mapping = dict(enumerate(Dataset['sentimen'].astype('category').cat.categories))\n",
    "    print(label_mapping)\n",
    "        \n",
    "    # Mengganti nama kolom\n",
    "    Dataset = Dataset.rename(columns={\n",
    "        'text_cleaning': 'teks'\n",
    "    })\n",
    "    # Mengubah isian kolom sentimen menjadi bertipe integer untuk masing-masing kategori\n",
    "    Dataset['sentimen'] = Dataset['sentimen'].astype('category').cat.codes\n",
    "    # Menghitung sebaran data label di kolom sentimen\n",
    "    viz(Dataset)\n",
    "    return Dataset, label_mapping"
   ]
  },
  {
   "cell_type": "markdown",
   "metadata": {},
   "source": [
    "Cleaning Teks"
   ]
  },
  {
   "cell_type": "code",
   "execution_count": 34,
   "metadata": {},
   "outputs": [],
   "source": [
    "import re\n",
    "# Fungsi untuk membersihkan spasi lebih dari satu\n",
    "def clean_text(text):\n",
    "    if isinstance(text, str):  # Memastikan bahwa input adalah string\n",
    "        # Mengganti spasi lebih dari satu dengan satu spasi\n",
    "        cleaned_text = re.sub(r'\\s+', ' ', text)\n",
    "        return cleaned_text.strip()\n",
    "    return text  # Kembalikan teks tanpa perubahan jika bukan string"
   ]
  },
  {
   "cell_type": "markdown",
   "metadata": {},
   "source": [
    "Pendefinisian Fungsi untuk Augmentasi Data Teks dengan Back Translation"
   ]
  },
  {
   "cell_type": "code",
   "execution_count": 35,
   "metadata": {},
   "outputs": [],
   "source": [
    "from deep_translator import GoogleTranslator\n",
    "import pandas as pd\n",
    "from sklearn.model_selection import train_test_split\n",
    "from sklearn.feature_extraction.text import TfidfVectorizer\n",
    "from sklearn.preprocessing import LabelEncoder\n",
    "\n",
    "def translate_augmentation(text, src='id', dest='id', temps=['en', 'zh-CN', 'es']):\n",
    "    translated_texts = []\n",
    "    for temp in temps:\n",
    "        translator = GoogleTranslator(source=src, target=temp)\n",
    "        translated_text = translator.translate(text)\n",
    "        translator_back = GoogleTranslator(source=temp, target=dest)\n",
    "        back_translated_text = translator_back.translate(translated_text)\n",
    "        translated_texts.append(back_translated_text)\n",
    "    return translated_texts"
   ]
  },
  {
   "cell_type": "markdown",
   "metadata": {},
   "source": [
    "Augmentasi Data Teks"
   ]
  },
  {
   "cell_type": "code",
   "execution_count": 36,
   "metadata": {},
   "outputs": [],
   "source": [
    "def back_translation(Dataset):\n",
    "    # Splitting the data into train and test sets with stratification\n",
    "    train_data, test_data = train_test_split(Dataset, test_size=0.2, random_state=42, stratify=Dataset['sentimen'])\n",
    "\n",
    "    # Augmenting only the training data for neutral sentiment (sentimen == 1)\n",
    "    df_train = train_data.dropna()\n",
    "    df_train_neutral = df_train[df_train['sentimen'] == 1].copy()\n",
    "    \n",
    "    # # Apply back translation\n",
    "    # df_train_neutral['teks_augmented'] = df_train_neutral['teks'].apply(\n",
    "    #     lambda x: translate_augmentation(x)\n",
    "    # )\n",
    "\n",
    "    # # Flattening the list of augmented texts and repeating corresponding sentiment labels\n",
    "    # augmented_data = pd.DataFrame({\n",
    "    #     'teks': sum(df_train_neutral['teks_augmented'].tolist(), []),\n",
    "    #     'sentimen': 1\n",
    "    # })\n",
    "    \n",
    "    # # Concatenate the original training data with the augmented data\n",
    "    # train_data_baru = pd.concat([df_train, augmented_data]).drop_duplicates(subset=['teks', 'sentimen'])\n",
    "\n",
    "    # # Optionally visualize and save the augmented training data\n",
    "    # all_text = ' '.join(train_data_baru['teks'])\n",
    "    # buat_wordcloud(all_text)\n",
    "    # viz(train_data_baru)\n",
    "    # train_data_baru.to_csv(\"HasilAugmentasi_Train.csv\")\n",
    "    # test_data.to_csv(\"Data_Test.csv\")\n",
    "    train_data_baru = df_train\n",
    "    # Preprocessing: Text Vectorization and Label Encoding\n",
    "    vectorizer = TfidfVectorizer()\n",
    "    X_train = vectorizer.fit_transform(train_data_baru['teks']).toarray()\n",
    "    X_test = vectorizer.transform(test_data['teks']).toarray()\n",
    "    \n",
    "    label_encoder = LabelEncoder()\n",
    "    y_train = label_encoder.fit_transform(train_data_baru['sentimen'])\n",
    "    y_test = label_encoder.transform(test_data['sentimen'])\n",
    "    \n",
    "    # Untuk mengetahui kelas awalnya sebelum diencoding\n",
    "    kelas_asli = label_encoder.classes_\n",
    "\n",
    "    print(\"Kelas awal sebelum diencoding:\", kelas_asli)\n",
    "    # Return the augmented training data and the unchanged test data\n",
    "    return X_train, y_train, X_test, y_test\n"
   ]
  },
  {
   "cell_type": "markdown",
   "metadata": {},
   "source": [
    "SVM"
   ]
  },
  {
   "cell_type": "code",
   "execution_count": 37,
   "metadata": {},
   "outputs": [],
   "source": [
    "import optuna\n",
    "from sklearn.svm import SVC\n",
    "from sklearn.metrics import accuracy_score, confusion_matrix, classification_report\n",
    "from sklearn.model_selection import train_test_split, cross_val_score\n",
    "import numpy as np\n",
    "import logging\n",
    "\n",
    "def model_svm(X_train, X_test, y_train, y_test, cv):\n",
    "    print(\"===========Support Vector Machine Classifier============\")\n",
    "    # Nonaktifkan logging optuna\n",
    "    optuna.logging.set_verbosity(optuna.logging.ERROR)\n",
    "\n",
    "    def objective(trial):\n",
    "        # Tuning hyperparameter untuk SVM dengan kernel linear\n",
    "        C = trial.suggest_loguniform('C', 1e-5, 10.0)\n",
    "\n",
    "        # Buat model SVM Linear\n",
    "        model = SVC(kernel='linear', C=C)\n",
    "\n",
    "        # Melakukan cross-validation (5-fold)\n",
    "        scores = cross_val_score(model, X_train, y_train, cv=cv, scoring='accuracy')\n",
    "\n",
    "        # Mengembalikan rata-rata akurasi cross-validation\n",
    "        return np.mean(scores)\n",
    "\n",
    "    # Membuat dan menjalankan Optuna study\n",
    "    study = optuna.create_study(direction='maximize')\n",
    "    study.optimize(objective, n_trials=100)  # Menjalankan 100 percobaan\n",
    "\n",
    "    # Mendapatkan hyperparameter terbaik\n",
    "    best_C = study.best_params['C']\n",
    "\n",
    "    # Buat dan latih model SVM dengan kernel linear dan hyperparameter terbaik\n",
    "    best_model = SVC(kernel='linear', C=best_C)\n",
    "    best_model.fit(X_train, y_train)\n",
    "\n",
    "    # Prediksi dengan model terbaik\n",
    "    y_pred = best_model.predict(X_test)\n",
    "\n",
    "    # Evaluasi model\n",
    "    accuracy = accuracy_score(y_test, y_pred)\n",
    "    confusion = confusion_matrix(y_test, y_pred)\n",
    "    classification_rep = classification_report(y_test, y_pred)\n",
    "\n",
    "    # Menampilkan hasil evaluasi\n",
    "    print(f\"Akurasi: {accuracy:.2f}\")\n",
    "    print(\"Matriks Kebingungan:\")\n",
    "    print(confusion)\n",
    "    print(\"Laporan Klasifikasi:\")\n",
    "    print(classification_rep)\n",
    "\n",
    "    # Evaluasi dengan cross-validation pada model terbaik\n",
    "    cv_scores = cross_val_score(best_model, X_train, y_train, cv=cv, scoring='accuracy')\n",
    "    print(f\"\\nCross-Validation Akurasi: {cv_scores}\")\n",
    "    print(f\"Rata-rata Cross-Validation Akurasi: {np.mean(cv_scores):.2f}\")\n"
   ]
  },
  {
   "cell_type": "markdown",
   "metadata": {},
   "source": [
    "Ridge"
   ]
  },
  {
   "cell_type": "code",
   "execution_count": 38,
   "metadata": {},
   "outputs": [],
   "source": [
    "import optuna\n",
    "from sklearn.linear_model import RidgeClassifier\n",
    "\n",
    "def model_ridge(X_train, X_test, y_train, y_test, cv):\n",
    "    print(\"===========Ridge Classifier============\")\n",
    "    # Nonaktifkan logging optuna\n",
    "    optuna.logging.set_verbosity(optuna.logging.ERROR)\n",
    "    def objective(trial):\n",
    "        # Tuning hyperparameter untuk RidgeClassifier\n",
    "        alpha = trial.suggest_loguniform('alpha', 1e-5, 10.0)\n",
    "\n",
    "        # Buat model RidgeClassifier\n",
    "        model = RidgeClassifier(alpha=alpha)\n",
    "\n",
    "        # Melakukan cross-validation (5-fold)\n",
    "        scores = cross_val_score(model, X_train, y_train, cv=cv, scoring='accuracy')\n",
    "\n",
    "        # Mengembalikan rata-rata akurasi cross-validation\n",
    "        return np.mean(scores)\n",
    "\n",
    "    # Membuat dan menjalankan Optuna study\n",
    "    study = optuna.create_study(direction='maximize')\n",
    "    study.optimize(objective, n_trials=100)  # Menjalankan 100 percobaan\n",
    "\n",
    "    # Mendapatkan hyperparameter terbaik\n",
    "    best_alpha = study.best_params['alpha']\n",
    "\n",
    "    # Buat dan latih model RidgeClassifier dengan hyperparameter terbaik\n",
    "    best_model = RidgeClassifier(alpha=best_alpha)\n",
    "    best_model.fit(X_train, y_train)\n",
    "\n",
    "    # Prediksi dengan model terbaik\n",
    "    y_pred = best_model.predict(X_test)\n",
    "\n",
    "    # Evaluasi model\n",
    "    accuracy = accuracy_score(y_test, y_pred)\n",
    "    confusion = confusion_matrix(y_test, y_pred)\n",
    "    classification_rep = classification_report(y_test, y_pred)\n",
    "\n",
    "    # Menampilkan hasil evaluasi\n",
    "    print(f\"Akurasi: {accuracy:.2f}\")\n",
    "    print(\"Matriks Kebingungan:\")\n",
    "    print(confusion)\n",
    "    print(\"Laporan Klasifikasi:\")\n",
    "    print(classification_rep)\n",
    "\n",
    "    # Evaluasi dengan cross-validation pada model terbaik\n",
    "    cv_scores = cross_val_score(best_model, X_train, y_train, cv=cv, scoring='accuracy')\n",
    "    print(f\"\\nCross-Validation Akurasi: {cv_scores}\")\n",
    "    print(f\"Rata-rata Cross-Validation Akurasi: {np.mean(cv_scores):.2f}\")"
   ]
  },
  {
   "cell_type": "markdown",
   "metadata": {},
   "source": [
    "Rocchio Algorithm"
   ]
  },
  {
   "cell_type": "code",
   "execution_count": 39,
   "metadata": {},
   "outputs": [],
   "source": [
    "import optuna\n",
    "from sklearn.neighbors import NearestCentroid\n",
    "\n",
    "def model_rocchio(X_train, X_test, y_train, y_test, cv):\n",
    "    print(\"===========Rocchio Algorithm============\")\n",
    "    # Nonaktifkan logging optuna\n",
    "    optuna.logging.set_verbosity(optuna.logging.ERROR)\n",
    "    def objective(trial):\n",
    "        # Tuning hyperparameter untuk NearestCentroid (implementasi Rocchio)\n",
    "        metric = trial.suggest_categorical('metric', ['euclidean', 'manhattan'])\n",
    "\n",
    "        # Buat model NearestCentroid tanpa shrink_threshold\n",
    "        model = NearestCentroid(metric=metric)\n",
    "\n",
    "        # Melakukan cross-validation (5-fold)\n",
    "        scores = cross_val_score(model, X_train, y_train, cv=cv, scoring='accuracy')\n",
    "\n",
    "        # Mengembalikan rata-rata akurasi cross-validation\n",
    "        return np.mean(scores)\n",
    "\n",
    "    # Membuat dan menjalankan Optuna study\n",
    "    study = optuna.create_study(direction='maximize')\n",
    "    study.optimize(objective, n_trials=100)  # Menjalankan 100 percobaan\n",
    "\n",
    "    # Mendapatkan hyperparameter terbaik\n",
    "    best_params = study.best_params\n",
    "    best_metric = best_params['metric']\n",
    "\n",
    "    # Buat dan latih model NearestCentroid dengan hyperparameter terbaik\n",
    "    best_model = NearestCentroid(metric=best_metric)\n",
    "    best_model.fit(X_train, y_train)\n",
    "\n",
    "    # Prediksi dengan model terbaik\n",
    "    y_pred = best_model.predict(X_test)\n",
    "\n",
    "    # Evaluasi model\n",
    "    accuracy = accuracy_score(y_test, y_pred)\n",
    "    confusion = confusion_matrix(y_test, y_pred)\n",
    "    classification_rep = classification_report(y_test, y_pred)\n",
    "\n",
    "    # Menampilkan hasil evaluasi\n",
    "    print(f\"Akurasi: {accuracy:.2f}\")\n",
    "    print(\"Matriks Kebingungan:\")\n",
    "    print(confusion)\n",
    "    print(\"Laporan Klasifikasi:\")\n",
    "    print(classification_rep)\n",
    "\n",
    "    # Evaluasi dengan cross-validation pada model terbaik\n",
    "    cv_scores = cross_val_score(best_model, X_train, y_train, cv=cv, scoring='accuracy')\n",
    "    print(f\"\\nCross-Validation Akurasi: {cv_scores}\")\n",
    "    print(f\"Rata-rata Cross-Validation Akurasi: {np.mean(cv_scores):.2f}\")\n"
   ]
  },
  {
   "cell_type": "markdown",
   "metadata": {},
   "source": [
    "Multinomial Naive Bayes"
   ]
  },
  {
   "cell_type": "code",
   "execution_count": 40,
   "metadata": {},
   "outputs": [],
   "source": [
    "import optuna\n",
    "from sklearn.naive_bayes import MultinomialNB\n",
    "\n",
    "def model_multinomial(X_train, X_test, y_train, y_test, cv):\n",
    "    print(\"===========Multinomial Naive Bayes============\")\n",
    "    # Nonaktifkan logging optuna\n",
    "    optuna.logging.set_verbosity(optuna.logging.ERROR)\n",
    "    def objective(trial):\n",
    "        # Tuning hyperparameter untuk MultinomialNB\n",
    "        alpha = trial.suggest_loguniform('alpha', 1e-5, 10.0)  # smoothing parameter\n",
    "\n",
    "        # Buat model MultinomialNB\n",
    "        model = MultinomialNB(alpha=alpha)\n",
    "\n",
    "        # Melakukan cross-validation (5-fold)\n",
    "        scores = cross_val_score(model, X_train, y_train, cv=cv, scoring='accuracy')\n",
    "\n",
    "        # Mengembalikan rata-rata akurasi cross-validation\n",
    "        return np.mean(scores)\n",
    "\n",
    "    # Membuat dan menjalankan Optuna study\n",
    "    study = optuna.create_study(direction='maximize')\n",
    "    study.optimize(objective, n_trials=100)  # Menjalankan 100 percobaan\n",
    "\n",
    "    # Mendapatkan hyperparameter terbaik\n",
    "    best_alpha = study.best_params['alpha']\n",
    "\n",
    "    # Buat dan latih model MultinomialNB dengan hyperparameter terbaik\n",
    "    best_model = MultinomialNB(alpha=best_alpha)\n",
    "    best_model.fit(X_train, y_train)\n",
    "\n",
    "    # Prediksi dengan model terbaik\n",
    "    y_pred = best_model.predict(X_test)\n",
    "\n",
    "    # Evaluasi model\n",
    "    accuracy = accuracy_score(y_test, y_pred)\n",
    "    confusion = confusion_matrix(y_test, y_pred)\n",
    "    classification_rep = classification_report(y_test, y_pred)\n",
    "\n",
    "    # Menampilkan hasil evaluasi\n",
    "    print(f\"Akurasi: {accuracy:.2f}\")\n",
    "    print(\"Matriks Kebingungan:\")\n",
    "    print(confusion)\n",
    "    print(\"Laporan Klasifikasi:\")\n",
    "    print(classification_rep)\n",
    "\n",
    "    # Evaluasi dengan cross-validation pada model terbaik\n",
    "    cv_scores = cross_val_score(best_model, X_train, y_train, cv=cv, scoring='accuracy')\n",
    "    print(f\"\\nCross-Validation Akurasi: {cv_scores}\")\n",
    "    print(f\"Rata-rata Cross-Validation Akurasi: {np.mean(cv_scores):.2f}\")\n"
   ]
  },
  {
   "cell_type": "markdown",
   "metadata": {},
   "source": [
    "KNN"
   ]
  },
  {
   "cell_type": "code",
   "execution_count": 41,
   "metadata": {},
   "outputs": [],
   "source": [
    "import optuna\n",
    "from sklearn.neighbors import KNeighborsClassifier\n",
    "\n",
    "def model_knn(X_train, X_test, y_train, y_test, cv):\n",
    "    print(\"===========K-Nearest Neighbour============\")\n",
    "    # Nonaktifkan logging optuna\n",
    "    optuna.logging.set_verbosity(optuna.logging.ERROR)\n",
    "    def objective(trial):\n",
    "        # Tuning hyperparameter untuk KNeighborsClassifier\n",
    "        n_neighbors = trial.suggest_int('n_neighbors', 1, 50)  # Jumlah tetangga\n",
    "        weights = trial.suggest_categorical('weights', ['uniform', 'distance'])  # Jenis pembobotan\n",
    "        algorithm = trial.suggest_categorical('algorithm', ['auto', 'ball_tree', 'kd_tree', 'brute'])  # Algoritma pencarian\n",
    "\n",
    "        # Buat model KNeighborsClassifier\n",
    "        model = KNeighborsClassifier(n_neighbors=n_neighbors, weights=weights, algorithm=algorithm)\n",
    "\n",
    "        # Melakukan cross-validation (5-fold)\n",
    "        scores = cross_val_score(model, X_train, y_train, cv=cv, scoring='accuracy')\n",
    "\n",
    "        # Mengembalikan rata-rata akurasi cross-validation\n",
    "        return np.mean(scores)\n",
    "\n",
    "    # Membuat dan menjalankan Optuna study\n",
    "    study = optuna.create_study(direction='maximize')\n",
    "    study.optimize(objective, n_trials=100)  # Menjalankan 100 percobaan\n",
    "\n",
    "    # Mendapatkan hyperparameter terbaik\n",
    "    best_params = study.best_params\n",
    "    best_n_neighbors = best_params['n_neighbors']\n",
    "    best_weights = best_params['weights']\n",
    "    best_algorithm = best_params['algorithm']\n",
    "\n",
    "    # Buat dan latih model KNeighborsClassifier dengan hyperparameter terbaik\n",
    "    best_model = KNeighborsClassifier(n_neighbors=best_n_neighbors, weights=best_weights, algorithm=best_algorithm)\n",
    "    best_model.fit(X_train, y_train)\n",
    "\n",
    "    # Prediksi dengan model terbaik\n",
    "    y_pred = best_model.predict(X_test)\n",
    "\n",
    "    # Evaluasi model\n",
    "    accuracy = accuracy_score(y_test, y_pred)\n",
    "    confusion = confusion_matrix(y_test, y_pred)\n",
    "    classification_rep = classification_report(y_test, y_pred)\n",
    "\n",
    "    # Menampilkan hasil evaluasi\n",
    "    print(f\"Akurasi: {accuracy:.2f}\")\n",
    "    print(\"Matriks Kebingungan:\")\n",
    "    print(confusion)\n",
    "    print(\"Laporan Klasifikasi:\")\n",
    "    print(classification_rep)\n",
    "\n",
    "    # Evaluasi dengan cross-validation pada model terbaik\n",
    "    cv_scores = cross_val_score(best_model, X_train, y_train, cv=cv, scoring='accuracy')\n",
    "    print(f\"\\nCross-Validation Akurasi: {cv_scores}\")\n",
    "    print(f\"Rata-rata Cross-Validation Akurasi: {np.mean(cv_scores):.2f}\")\n"
   ]
  },
  {
   "cell_type": "markdown",
   "metadata": {},
   "source": [
    "Regresi Logistic"
   ]
  },
  {
   "cell_type": "code",
   "execution_count": 42,
   "metadata": {},
   "outputs": [],
   "source": [
    "import optuna\n",
    "import numpy as np\n",
    "from sklearn.linear_model import LogisticRegression\n",
    "from sklearn.model_selection import cross_val_score\n",
    "from sklearn.metrics import accuracy_score, confusion_matrix, classification_report\n",
    "\n",
    "def model_reglog(X_train, X_test, y_train, y_test, cv):\n",
    "    print(\"===========Logistic Regression============\")\n",
    "\n",
    "    def objective(trial):\n",
    "        # Tuning hyperparameter untuk LogisticRegression\n",
    "        C = trial.suggest_loguniform('C', 1e-5, 10.0)  # Parameter regularisasi\n",
    "        solver = trial.suggest_categorical('solver', ['newton-cg', 'lbfgs', 'liblinear', 'saga'])\n",
    "        \n",
    "        # Menentukan opsi multi_class berdasarkan solver\n",
    "        if solver == 'liblinear':\n",
    "            multi_class = 'ovr'\n",
    "        else:\n",
    "            multi_class = trial.suggest_categorical('multi_class', ['ovr', 'multinomial'])\n",
    "\n",
    "        # Buat model LogisticRegression\n",
    "        model = LogisticRegression(C=C, solver=solver, multi_class=multi_class, max_iter=1000)\n",
    "\n",
    "        # Melakukan cross-validation (5-fold)\n",
    "        scores = cross_val_score(model, X_train, y_train, cv=cv, scoring='accuracy')\n",
    "\n",
    "        # Mengembalikan rata-rata akurasi cross-validation\n",
    "        return np.mean(scores)\n",
    "\n",
    "    # Membuat dan menjalankan Optuna study\n",
    "    study = optuna.create_study(direction='maximize')  # Kita ingin memaksimalkan akurasi\n",
    "    study.optimize(objective, n_trials=10)  # Menjalankan 100 percobaan, sesuaikan sesuai kebutuhan\n",
    "\n",
    "    # Mendapatkan hyperparameter terbaik\n",
    "    best_params = study.best_params\n",
    "    best_C = best_params['C']\n",
    "    best_solver = best_params['solver']\n",
    "    best_multi_class = best_params.get('multi_class', 'ovr' if best_solver == 'liblinear' else 'multinomial')\n",
    "\n",
    "    # Buat dan latih model LogisticRegression dengan hyperparameter terbaik\n",
    "    best_model = LogisticRegression(C=best_C, solver=best_solver, multi_class=best_multi_class, max_iter=1000)\n",
    "    best_model.fit(X_train, y_train)\n",
    "\n",
    "    # Prediksi dengan model terbaik\n",
    "    y_pred = best_model.predict(X_test)\n",
    "\n",
    "    # Evaluasi model\n",
    "    accuracy = accuracy_score(y_test, y_pred)\n",
    "    confusion = confusion_matrix(y_test, y_pred)\n",
    "    classification_rep = classification_report(y_test, y_pred)\n",
    "\n",
    "    # Menampilkan hasil evaluasi\n",
    "    print(f\"Akurasi: {accuracy:.2f}\")\n",
    "    print(\"Matriks Kebingungan:\")\n",
    "    print(confusion)\n",
    "    print(\"Laporan Klasifikasi:\")\n",
    "    print(classification_rep)\n",
    "\n",
    "    # Evaluasi dengan cross-validation pada model terbaik\n",
    "    cv_scores = cross_val_score(best_model, X_train, y_train, cv=cv, scoring='accuracy')\n",
    "    print(f\"\\nCross-Validation Akurasi: {cv_scores}\")\n",
    "    print(f\"Rata-rata Cross-Validation Akurasi: {np.mean(cv_scores):.2f}\")\n",
    "\n"
   ]
  },
  {
   "cell_type": "markdown",
   "metadata": {},
   "source": [
    "Light Gradient Boosting Machine"
   ]
  },
  {
   "cell_type": "code",
   "execution_count": 43,
   "metadata": {},
   "outputs": [],
   "source": [
    "import optuna\n",
    "from lightgbm import LGBMClassifier\n",
    "from sklearn.metrics import accuracy_score, confusion_matrix, classification_report\n",
    "from sklearn.model_selection import train_test_split, cross_val_score\n",
    "import numpy as np\n",
    "import logging\n",
    "\n",
    "def model_lgbm(X_train, X_test, y_train, y_test, cv):\n",
    "    print(\"===========LightGBM Classifier============\")\n",
    "    # Nonaktifkan logging optuna\n",
    "    optuna.logging.set_verbosity(optuna.logging.ERROR)\n",
    "\n",
    "    def objective(trial):\n",
    "        # Tuning hyperparameter untuk LGBM\n",
    "        num_leaves = trial.suggest_int('num_leaves', 31, 128)\n",
    "        learning_rate = trial.suggest_loguniform('learning_rate', 1e-3, 1.0)\n",
    "        n_estimators = trial.suggest_int('n_estimators', 50, 500)\n",
    "        max_depth = trial.suggest_int('max_depth', -1, 50)  # -1 means no limit\n",
    "\n",
    "        # Buat model LGBM\n",
    "        model = LGBMClassifier(\n",
    "            num_leaves=num_leaves,\n",
    "            learning_rate=learning_rate,\n",
    "            n_estimators=n_estimators,\n",
    "            max_depth=max_depth,\n",
    "            verbose=1\n",
    "        )\n",
    "\n",
    "        # Melakukan cross-validation (5-fold)\n",
    "        scores = cross_val_score(model, X_train, y_train, cv=cv, scoring='accuracy')\n",
    "\n",
    "        # Mengembalikan rata-rata akurasi cross-validation\n",
    "        return np.mean(scores)\n",
    "\n",
    "    # Membuat dan menjalankan Optuna study\n",
    "    study = optuna.create_study(direction='maximize')\n",
    "    study.optimize(objective, n_trials=100)  # Menjalankan 100 percobaan\n",
    "\n",
    "    # Mendapatkan hyperparameter terbaik\n",
    "    best_params = study.best_params\n",
    "\n",
    "    # Buat dan latih model LGBM dengan hyperparameter terbaik\n",
    "    best_model = LGBMClassifier(\n",
    "        num_leaves=best_params['num_leaves'],\n",
    "        learning_rate=best_params['learning_rate'],\n",
    "        n_estimators=best_params['n_estimators'],\n",
    "        max_depth=best_params['max_depth']\n",
    "    )\n",
    "    best_model.fit(X_train, y_train)\n",
    "\n",
    "    # Prediksi dengan model terbaik\n",
    "    y_pred = best_model.predict(X_test)\n",
    "\n",
    "    # Evaluasi model\n",
    "    accuracy = accuracy_score(y_test, y_pred)\n",
    "    confusion = confusion_matrix(y_test, y_pred)\n",
    "    classification_rep = classification_report(y_test, y_pred)\n",
    "\n",
    "    # Menampilkan hasil evaluasi\n",
    "    print(f\"Akurasi: {accuracy:.2f}\")\n",
    "    print(\"Matriks Kebingungan:\")\n",
    "    print(confusion)\n",
    "    print(\"Laporan Klasifikasi:\")\n",
    "    print(classification_rep)\n",
    "\n",
    "    # Evaluasi dengan cross-validation pada model terbaik\n",
    "    cv_scores = cross_val_score(best_model, X_train, y_train, cv=cv, scoring='accuracy')\n",
    "    print(f\"\\nCross-Validation Akurasi: {cv_scores}\")\n",
    "    print(f\"Rata-rata Cross-Validation Akurasi: {np.mean(cv_scores):.2f}\")\n"
   ]
  },
  {
   "cell_type": "markdown",
   "metadata": {},
   "source": [
    "Main Program"
   ]
  },
  {
   "cell_type": "code",
   "execution_count": 44,
   "metadata": {},
   "outputs": [
    {
     "name": "stdout",
     "output_type": "stream",
     "text": [
      "{0: 'negatif', 1: 'netral', 2: 'positif'}\n"
     ]
    },
    {
     "data": {
      "image/png": "[encoded data removed]",
      "text/plain": [
       "<Figure size 800x800 with 1 Axes>"
      ]
     },
     "metadata": {},
     "output_type": "display_data"
    },
    {
     "name": "stderr",
     "output_type": "stream",
     "text": [
      "[I 2024-09-14 09:22:43,500] A new study created in memory with name: no-name-f30b6837-e53c-466b-b582-c4b66d26241e\n"
     ]
    },
    {
     "name": "stdout",
     "output_type": "stream",
     "text": [
      "Kelas awal sebelum diencoding: [0 1 2]\n",
      "===========Logistic Regression============\n"
     ]
    },
    {
     "name": "stderr",
     "output_type": "stream",
     "text": [
      "[I 2024-09-14 09:22:47,253] Trial 0 finished with value: 0.7175968438594701 and parameters: {'C': 1.85743936263409, 'solver': 'lbfgs', 'multi_class': 'ovr'}. Best is trial 0 with value: 0.7175968438594701.\n",
      "[I 2024-09-14 09:23:08,455] Trial 1 finished with value: 0.6705132129374554 and parameters: {'C': 0.32300247413969624, 'solver': 'lbfgs', 'multi_class': 'multinomial'}. Best is trial 0 with value: 0.7175968438594701.\n",
      "[I 2024-09-14 09:23:25,432] Trial 2 finished with value: 0.5739074244124749 and parameters: {'C': 0.02431135667610913, 'solver': 'saga', 'multi_class': 'ovr'}. Best is trial 0 with value: 0.7175968438594701.\n",
      "[I 2024-09-14 09:23:27,445] Trial 3 finished with value: 0.5739074244124749 and parameters: {'C': 1.8455064282860937e-05, 'solver': 'newton-cg', 'multi_class': 'ovr'}. Best is trial 0 with value: 0.7175968438594701.\n",
      "[I 2024-09-14 09:23:30,387] Trial 4 finished with value: 0.708502533755059 and parameters: {'C': 1.34331153453463, 'solver': 'lbfgs', 'multi_class': 'ovr'}. Best is trial 0 with value: 0.7175968438594701.\n",
      "[I 2024-09-14 09:23:30,813] Trial 5 finished with value: 0.5887630513893141 and parameters: {'C': 0.10829626011167551, 'solver': 'liblinear'}. Best is trial 0 with value: 0.7175968438594701.\n",
      "[I 2024-09-14 09:23:31,656] Trial 6 finished with value: 0.5739074244124749 and parameters: {'C': 0.01183428388151916, 'solver': 'lbfgs', 'multi_class': 'ovr'}. Best is trial 0 with value: 0.7175968438594701.\n",
      "[I 2024-09-14 09:23:44,446] Trial 7 finished with value: 0.5739074244124749 and parameters: {'C': 0.00098819917525515, 'solver': 'lbfgs', 'multi_class': 'multinomial'}. Best is trial 0 with value: 0.7175968438594701.\n",
      "[I 2024-09-14 09:23:57,829] Trial 8 finished with value: 0.5739074244124749 and parameters: {'C': 5.263116499910515e-05, 'solver': 'saga', 'multi_class': 'ovr'}. Best is trial 0 with value: 0.7175968438594701.\n",
      "[I 2024-09-14 09:24:01,539] Trial 9 finished with value: 0.5739074244124749 and parameters: {'C': 0.00010748559218522237, 'solver': 'newton-cg', 'multi_class': 'ovr'}. Best is trial 0 with value: 0.7175968438594701.\n"
     ]
    },
    {
     "name": "stdout",
     "output_type": "stream",
     "text": [
      "Akurasi: 0.71\n",
      "Matriks Kebingungan:\n",
      "[[169   0   5]\n",
      " [ 26   0   3]\n",
      " [ 53   0  48]]\n",
      "Laporan Klasifikasi:\n",
      "              precision    recall  f1-score   support\n",
      "\n",
      "           0       0.68      0.97      0.80       174\n",
      "           1       0.00      0.00      0.00        29\n",
      "           2       0.86      0.48      0.61       101\n",
      "\n",
      "    accuracy                           0.71       304\n",
      "   macro avg       0.51      0.48      0.47       304\n",
      "weighted avg       0.67      0.71      0.66       304\n",
      "\n",
      "\n",
      "Cross-Validation Akurasi: [0.70781893 0.73553719 0.7107438  0.72727273 0.70661157]\n",
      "Rata-rata Cross-Validation Akurasi: 0.72\n"
     ]
    }
   ],
   "source": [
    "Corpus = pd.read_csv(\"mobil_listrik.csv\")\n",
    "Dataset = muat_data(Corpus)\n",
    "Dataset, label_mapping = preparation_teks(Dataset)\n",
    "\n",
    "# Terapkan fungsi pada semua teks\n",
    "Dataset['teks'] = Dataset['teks'].apply(clean_text)\n",
    "\n",
    "# Dataset = back_translation(Dataset)\n",
    "X_train, y_train, X_test, y_test = back_translation(Dataset)\n",
    "\n",
    "# Menggunakan Cross Validation dengan Fold 10\n",
    "cv = 5\n",
    "\n",
    "#model_svm(X_train, X_test, y_train, y_test, cv)\n",
    "# model_ridge(X_train, X_test, y_train, y_test, cv)\n",
    "# model_rocchio(X_train, X_test, y_train, y_test, cv)\n",
    "# model_multinomial(X_train, X_test, y_train, y_test, cv)\n",
    "# model_knn(X_train, X_test, y_train, y_test, cv)\n",
    "model_reglog(X_train, X_test, y_train, y_test, cv)\n",
    "# model_lgbm(X_train, X_test, y_train, y_test, cv)\n"
   ]
  },
  {
   "cell_type": "code",
   "execution_count": 45,
   "metadata": {},
   "outputs": [
    {
     "name": "stdout",
     "output_type": "stream",
     "text": [
      "{0: 'negatif', 1: 'netral', 2: 'positif'}\n"
     ]
    },
    {
     "data": {
      "image/png": "[encoded data removed]",
      "text/plain": [
       "<Figure size 800x800 with 1 Axes>"
      ]
     },
     "metadata": {},
     "output_type": "display_data"
    },
    {
     "name": "stdout",
     "output_type": "stream",
     "text": [
      "Kelas awal sebelum diencoding: [0 1 2]\n",
      "===========Ridge Classifier============\n"
     ]
    }
   ],
   "source": [
    "Corpus = pd.read_csv(\"mobil_listrik.csv\")\n",
    "Dataset = muat_data(Corpus)\n",
    "Dataset, label_mapping = preparation_teks(Dataset)\n",
    "\n",
    "# Terapkan fungsi pada semua teks\n",
    "Dataset['teks'] = Dataset['teks'].apply(clean_text)\n",
    "\n",
    "# Dataset = back_translation(Dataset)\n",
    "X_train, y_train, X_test, y_test = back_translation(Dataset)\n",
    "\n",
    "# Menggunakan Cross Validation dengan Fold 10\n",
    "cv = 5\n",
    "\n",
    "#model_svm(X_train, X_test, y_train, y_test, cv)\n",
    "model_ridge(X_train, X_test, y_train, y_test, cv)\n",
    "model_rocchio(X_train, X_test, y_train, y_test, cv)\n",
    "model_multinomial(X_train, X_test, y_train, y_test, cv)\n",
    "model_knn(X_train, X_test, y_train, y_test, cv)\n",
    "model_reglog(X_train, X_test, y_train, y_test, cv)\n",
    "model_lgbm(X_train, X_test, y_train, y_test, cv)\n"
   ]
  },
  {
   "cell_type": "code",
   "execution_count": 20,
   "metadata": {},
   "outputs": [
    {
     "name": "stdout",
     "output_type": "stream",
     "text": [
      "Maine walk outward food_market untuk get buah.\n"
     ]
    }
   ],
   "source": [
    "import random\n",
    "from nltk.corpus import wordnet\n",
    "\n",
    "def synonym_replacement(text):\n",
    "    words = text.split()\n",
    "    new_words = []\n",
    "    for word in words:\n",
    "        synsets = wordnet.synsets(word, lang='ind')  # Mencari sinonim bahasa Indonesia\n",
    "        if synsets:\n",
    "            synonyms = set()\n",
    "            for syn in synsets:\n",
    "                for lemma in syn.lemmas():\n",
    "                    synonyms.add(lemma.name())\n",
    "            if synonyms:\n",
    "                synonym = random.choice(list(synonyms))\n",
    "                new_words.append(synonym)\n",
    "            else:\n",
    "                new_words.append(word)\n",
    "        else:\n",
    "            new_words.append(word)\n",
    "    return ' '.join(new_words)\n",
    "\n",
    "# Contoh penggunaan\n",
    "text = \"Saya pergi ke pasar untuk membeli buah.\"\n",
    "augmented_text = synonym_replacement(text)\n",
    "print(augmented_text)\n"
   ]
  },
  {
   "cell_type": "markdown",
   "metadata": {},
   "source": [
    "Model Prediksi"
   ]
  },
  {
   "cell_type": "code",
   "execution_count": 21,
   "metadata": {},
   "outputs": [],
   "source": [
    "# # Fungsi untuk memprediksi label\n",
    "# def predict_label(input_text, model, vectorizer):\n",
    "#     # Preprocess input text\n",
    "#     # Mengubah teks menjadi huruf kecil\n",
    "#     input_text = input_text.lower()\n",
    "    \n",
    "#     # Tokenisasi\n",
    "#     tokens = word_tokenize(input_text)\n",
    "    \n",
    "#     # Menghapus stop words dan melakukan lemmatization\n",
    "#     processed_tokens = [\n",
    "#         lemmatizer.lemmatize(word) for word in tokens \n",
    "#         if word.isalpha() and word not in stop_words\n",
    "#     ]\n",
    "    \n",
    "#     # Menggabungkan kembali token menjadi string\n",
    "#     processed_text = ' '.join(processed_tokens)\n",
    "    \n",
    "#     # Vektorisasi dengan TF-IDF\n",
    "#     input_vector = vectorizer.transform([processed_text])\n",
    "    \n",
    "#     # Melakukan prediksi\n",
    "#     predicted_label = model.predict(input_vector)\n",
    "    \n",
    "#     return predicted_label"
   ]
  },
  {
   "cell_type": "code",
   "execution_count": 22,
   "metadata": {},
   "outputs": [],
   "source": [
    "# input_text = \"Menggali sumur di sawah\"\n",
    "# label = predict_label(input_text, model, vectorizer)\n",
    "# print(\"Predicted Label:\", label)"
   ]
  }
 ],
 "metadata": {
  "kernelspec": {
   "display_name": "Python 3",
   "language": "python",
   "name": "python3"
  },
  "language_info": {
   "codemirror_mode": {
    "name": "ipython",
    "version": 3
   },
   "file_extension": ".py",
   "mimetype": "text/x-python",
   "name": "python",
   "nbconvert_exporter": "python",
   "pygments_lexer": "ipython3",
   "version": "3.10.12"
  }
 },
 "nbformat": 4,
 "nbformat_minor": 2
}
