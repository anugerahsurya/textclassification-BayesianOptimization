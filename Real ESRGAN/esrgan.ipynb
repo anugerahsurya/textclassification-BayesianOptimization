{
 "cells": [
  {
   "cell_type": "code",
   "execution_count": 1,
   "metadata": {},
   "outputs": [
    {
     "name": "stdout",
     "output_type": "stream",
     "text": [
      "Defaulting to user installation because normal site-packages is not writeable\n",
      "Collecting git+https://github.com/sberbank-ai/Real-ESRGAN.git\n",
      "  Cloning https://github.com/sberbank-ai/Real-ESRGAN.git to /tmp/pip-req-build-x5g_9x1g\n",
      "  Running command git clone --filter=blob:none --quiet https://github.com/sberbank-ai/Real-ESRGAN.git /tmp/pip-req-build-x5g_9x1g\n",
      "  Resolved https://github.com/sberbank-ai/Real-ESRGAN.git to commit 362a0316878f41dbdfbb23657b450c3353de5acf\n",
      "  Preparing metadata (setup.py) ... \u001b[?25ldone\n",
      "\u001b[?25hRequirement already satisfied: Pillow in /usr/lib/python3/dist-packages (from RealESRGAN==1.0) (9.0.1)\n",
      "Requirement already satisfied: huggingface-hub in /home/anugerahsurya/.local/lib/python3.10/site-packages (from RealESRGAN==1.0) (0.24.1)\n",
      "Requirement already satisfied: numpy in /home/anugerahsurya/.local/lib/python3.10/site-packages (from RealESRGAN==1.0) (1.24.3)\n",
      "Requirement already satisfied: opencv-python in /home/anugerahsurya/.local/lib/python3.10/site-packages (from RealESRGAN==1.0) (4.10.0.84)\n",
      "Requirement already satisfied: torch>=1.7 in /home/anugerahsurya/.local/lib/python3.10/site-packages (from RealESRGAN==1.0) (2.3.1)\n",
      "Requirement already satisfied: torchvision>=0.8.0 in /home/anugerahsurya/.local/lib/python3.10/site-packages (from RealESRGAN==1.0) (0.18.1)\n",
      "Requirement already satisfied: tqdm in /home/anugerahsurya/.local/lib/python3.10/site-packages (from RealESRGAN==1.0) (4.66.4)\n",
      "Requirement already satisfied: filelock in /home/anugerahsurya/.local/lib/python3.10/site-packages (from torch>=1.7->RealESRGAN==1.0) (3.15.4)\n",
      "Requirement already satisfied: typing-extensions>=4.8.0 in /home/anugerahsurya/.local/lib/python3.10/site-packages (from torch>=1.7->RealESRGAN==1.0) (4.12.2)\n",
      "Requirement already satisfied: sympy in /usr/lib/python3/dist-packages (from torch>=1.7->RealESRGAN==1.0) (1.9)\n",
      "Requirement already satisfied: networkx in /home/anugerahsurya/.local/lib/python3.10/site-packages (from torch>=1.7->RealESRGAN==1.0) (3.3)\n",
      "Requirement already satisfied: jinja2 in /home/anugerahsurya/.local/lib/python3.10/site-packages (from torch>=1.7->RealESRGAN==1.0) (3.1.4)\n",
      "Requirement already satisfied: fsspec in /home/anugerahsurya/.local/lib/python3.10/site-packages (from torch>=1.7->RealESRGAN==1.0) (2024.5.0)\n",
      "Requirement already satisfied: nvidia-cuda-nvrtc-cu12==12.1.105 in /home/anugerahsurya/.local/lib/python3.10/site-packages (from torch>=1.7->RealESRGAN==1.0) (12.1.105)\n",
      "Requirement already satisfied: nvidia-cuda-runtime-cu12==12.1.105 in /home/anugerahsurya/.local/lib/python3.10/site-packages (from torch>=1.7->RealESRGAN==1.0) (12.1.105)\n",
      "Requirement already satisfied: nvidia-cuda-cupti-cu12==12.1.105 in /home/anugerahsurya/.local/lib/python3.10/site-packages (from torch>=1.7->RealESRGAN==1.0) (12.1.105)\n",
      "Requirement already satisfied: nvidia-cudnn-cu12==8.9.2.26 in /home/anugerahsurya/.local/lib/python3.10/site-packages (from torch>=1.7->RealESRGAN==1.0) (8.9.2.26)\n",
      "Requirement already satisfied: nvidia-cublas-cu12==12.1.3.1 in /home/anugerahsurya/.local/lib/python3.10/site-packages (from torch>=1.7->RealESRGAN==1.0) (12.1.3.1)\n",
      "Requirement already satisfied: nvidia-cufft-cu12==11.0.2.54 in /home/anugerahsurya/.local/lib/python3.10/site-packages (from torch>=1.7->RealESRGAN==1.0) (11.0.2.54)\n",
      "Requirement already satisfied: nvidia-curand-cu12==10.3.2.106 in /home/anugerahsurya/.local/lib/python3.10/site-packages (from torch>=1.7->RealESRGAN==1.0) (10.3.2.106)\n",
      "Requirement already satisfied: nvidia-cusolver-cu12==11.4.5.107 in /home/anugerahsurya/.local/lib/python3.10/site-packages (from torch>=1.7->RealESRGAN==1.0) (11.4.5.107)\n",
      "Requirement already satisfied: nvidia-cusparse-cu12==12.1.0.106 in /home/anugerahsurya/.local/lib/python3.10/site-packages (from torch>=1.7->RealESRGAN==1.0) (12.1.0.106)\n",
      "Requirement already satisfied: nvidia-nccl-cu12==2.20.5 in /home/anugerahsurya/.local/lib/python3.10/site-packages (from torch>=1.7->RealESRGAN==1.0) (2.20.5)\n",
      "Requirement already satisfied: nvidia-nvtx-cu12==12.1.105 in /home/anugerahsurya/.local/lib/python3.10/site-packages (from torch>=1.7->RealESRGAN==1.0) (12.1.105)\n",
      "Requirement already satisfied: triton==2.3.1 in /home/anugerahsurya/.local/lib/python3.10/site-packages (from torch>=1.7->RealESRGAN==1.0) (2.3.1)\n",
      "Requirement already satisfied: nvidia-nvjitlink-cu12 in /home/anugerahsurya/.local/lib/python3.10/site-packages (from nvidia-cusolver-cu12==11.4.5.107->torch>=1.7->RealESRGAN==1.0) (12.2.140)\n",
      "Requirement already satisfied: packaging>=20.9 in /home/anugerahsurya/.local/lib/python3.10/site-packages (from huggingface-hub->RealESRGAN==1.0) (24.1)\n",
      "Requirement already satisfied: pyyaml>=5.1 in /usr/lib/python3/dist-packages (from huggingface-hub->RealESRGAN==1.0) (5.4.1)\n",
      "Requirement already satisfied: requests in /home/anugerahsurya/.local/lib/python3.10/site-packages (from huggingface-hub->RealESRGAN==1.0) (2.32.3)\n",
      "Requirement already satisfied: MarkupSafe>=2.0 in /home/anugerahsurya/.local/lib/python3.10/site-packages (from jinja2->torch>=1.7->RealESRGAN==1.0) (2.1.5)\n",
      "Requirement already satisfied: charset-normalizer<4,>=2 in /home/anugerahsurya/.local/lib/python3.10/site-packages (from requests->huggingface-hub->RealESRGAN==1.0) (3.3.2)\n",
      "Requirement already satisfied: idna<4,>=2.5 in /home/anugerahsurya/.local/lib/python3.10/site-packages (from requests->huggingface-hub->RealESRGAN==1.0) (2.10)\n",
      "Requirement already satisfied: urllib3<3,>=1.21.1 in /home/anugerahsurya/.local/lib/python3.10/site-packages (from requests->huggingface-hub->RealESRGAN==1.0) (2.2.2)\n",
      "Requirement already satisfied: certifi>=2017.4.17 in /home/anugerahsurya/.local/lib/python3.10/site-packages (from requests->huggingface-hub->RealESRGAN==1.0) (2024.7.4)\n",
      "Building wheels for collected packages: RealESRGAN\n",
      "  Building wheel for RealESRGAN (setup.py) ... \u001b[?25ldone\n",
      "\u001b[?25h  Created wheel for RealESRGAN: filename=RealESRGAN-1.0-py3-none-any.whl size=9135 sha256=4c78bdb9dc0dc46182d822caf83aac23440f1906eb7bd975e8b58035aad08ae1\n",
      "  Stored in directory: /tmp/pip-ephem-wheel-cache-d6v6_eq5/wheels/dd/a3/7d/774508ed192455403be294c8a6c4ad1c83dde8fcdd8903e64a\n",
      "Successfully built RealESRGAN\n",
      "Installing collected packages: RealESRGAN\n",
      "Successfully installed RealESRGAN-1.0\n"
     ]
    }
   ],
   "source": [
    "!pip install git+https://github.com/sberbank-ai/Real-ESRGAN.git"
   ]
  },
  {
   "cell_type": "code",
   "execution_count": 5,
   "metadata": {},
   "outputs": [],
   "source": [
    "import torch\n",
    "from PIL import Image\n",
    "import numpy as np\n",
    "from RealESRGAN import RealESRGAN\n",
    "\n",
    "device = torch.device('cuda' if torch.cuda.is_available() else 'cpu')\n",
    "\n",
    "model = RealESRGAN(device, scale=4)\n",
    "model.load_weights('weights/RealESRGAN_x4.pth', download=True)\n",
    "\n",
    "path_to_image = 'foto.jpeg'\n",
    "image = Image.open(path_to_image).convert('RGB')\n",
    "\n",
    "sr_image = model.predict(image)\n",
    "\n",
    "sr_image.save('sr_image.png')"
   ]
  }
 ],
 "metadata": {
  "kernelspec": {
   "display_name": "Python 3",
   "language": "python",
   "name": "python3"
  },
  "language_info": {
   "codemirror_mode": {
    "name": "ipython",
    "version": 3
   },
   "file_extension": ".py",
   "mimetype": "text/x-python",
   "name": "python",
   "nbconvert_exporter": "python",
   "pygments_lexer": "ipython3",
   "version": "3.10.12"
  }
 },
 "nbformat": 4,
 "nbformat_minor": 2
}
