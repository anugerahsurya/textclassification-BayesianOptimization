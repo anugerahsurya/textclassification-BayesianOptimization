{
 "cells": [
  {
   "cell_type": "code",
   "execution_count": 1,
   "metadata": {},
   "outputs": [],
   "source": [
    "from torch.utils.data import Dataset, DataLoader"
   ]
  },
  {
   "cell_type": "code",
   "execution_count": 2,
   "metadata": {},
   "outputs": [],
   "source": [
    "#####\n",
    "# Document Sentiment Prosa\n",
    "#####\n",
    "class DocumentSentimentDataset(Dataset):\n",
    "    # Static constant variable\n",
    "    LABEL2INDEX = {'negatif': 0, 'netral': 1,'positif': 2}\n",
    "    INDEX2LABEL = {0: 'negatif', 1: 'netral', 2: 'positif'}\n",
    "    NUM_LABELS = 3\n",
    "    \n",
    "    def load_dataset(self, path): \n",
    "        df = pd.read_csv(path)\n",
    "        df = df[['text_cleaning','sentimen']]\n",
    "        df.columns = ['text_cleaning','sentimen']\n",
    "        #df['sentiment'] = df['sentiment'].apply(lambda lab: self.LABEL2INDEX[lab])\n",
    "        return df\n",
    "    \n",
    "    def __init__(self, dataset_path, tokenizer, no_special_token=False, *args, **kwargs):\n",
    "        self.data = self.load_dataset(dataset_path)\n",
    "        self.tokenizer = tokenizer\n",
    "        self.no_special_token = no_special_token\n",
    "    \n",
    "    def __getitem__(self, index):\n",
    "        data = self.data.loc[index,:]\n",
    "        text, sentiment = data['text_cleaning'], data['sentimen']\n",
    "        subwords = self.tokenizer.encode(text, add_special_tokens=not self.no_special_token)\n",
    "        return np.array(subwords), np.array(sentiment), data['text_cleaning']\n",
    "    \n",
    "    def __len__(self):\n",
    "        return len(self.data)    \n",
    "        \n",
    "class DocumentSentimentDataLoader(DataLoader):\n",
    "    def __init__(self, max_seq_len=512, *args, **kwargs):\n",
    "        super(DocumentSentimentDataLoader, self).__init__(*args, **kwargs)\n",
    "        self.collate_fn = self._collate_fn\n",
    "        self.max_seq_len = max_seq_len\n",
    "        \n",
    "    def _collate_fn(self, batch):\n",
    "        batch_size = len(batch)\n",
    "        max_seq_len = max(map(lambda x: len(x[0]), batch))\n",
    "        max_seq_len = min(self.max_seq_len, max_seq_len)\n",
    "        \n",
    "        subword_batch = np.zeros((batch_size, max_seq_len), dtype=np.int64)\n",
    "        mask_batch = np.zeros((batch_size, max_seq_len), dtype=np.float32)\n",
    "        sentiment_batch = np.zeros((batch_size, 1), dtype=np.int64)\n",
    "        \n",
    "        seq_list = []\n",
    "        for i, (subwords, sentiment, raw_seq) in enumerate(batch):\n",
    "            subwords = subwords[:max_seq_len]\n",
    "            subword_batch[i,:len(subwords)] = subwords\n",
    "            mask_batch[i,:len(subwords)] = 1\n",
    "            sentiment_batch[i,0] = sentiment\n",
    "            \n",
    "            seq_list.append(raw_seq)\n",
    "            \n",
    "        return subword_batch, mask_batch, sentiment_batch, seq_list\n"
   ]
  },
  {
   "cell_type": "code",
   "execution_count": 3,
   "metadata": {},
   "outputs": [],
   "source": [
    "# Forward function for sequence classification\n",
    "def forward_sequence_classification(model, batch_data, i2w, is_test=False, device='cpu', **kwargs):\n",
    "    # Unpack batch data\n",
    "    if len(batch_data) == 3:\n",
    "        (subword_batch, mask_batch, label_batch) = batch_data\n",
    "        token_type_batch = None\n",
    "    elif len(batch_data) == 4:\n",
    "        (subword_batch, mask_batch, token_type_batch, label_batch) = batch_data\n",
    "    \n",
    "    # Prepare input & label\n",
    "    subword_batch = torch.LongTensor(subword_batch)\n",
    "    mask_batch = torch.FloatTensor(mask_batch)\n",
    "    token_type_batch = torch.LongTensor(token_type_batch) if token_type_batch is not None else None\n",
    "    label_batch = torch.LongTensor(label_batch)\n",
    "            \n",
    "    if device == \"cuda\":\n",
    "        subword_batch = subword_batch.cuda()\n",
    "        mask_batch = mask_batch.cuda()\n",
    "        token_type_batch = token_type_batch.cuda() if token_type_batch is not None else None\n",
    "        label_batch = label_batch.cuda()\n",
    "\n",
    "    # Forward model\n",
    "    outputs = model(subword_batch, attention_mask=mask_batch, token_type_ids=token_type_batch, labels=label_batch)\n",
    "    loss, logits = outputs[:2]\n",
    "    \n",
    "    # generate prediction & label list\n",
    "    list_hyp = []\n",
    "    list_label = []\n",
    "    hyp = torch.topk(logits, 1)[1]\n",
    "    for j in range(len(hyp)):\n",
    "        list_hyp.append(i2w[hyp[j].item()])\n",
    "        list_label.append(i2w[label_batch[j][0].item()])\n",
    "        \n",
    "    return loss, list_hyp, list_label\n",
    "\n",
    "def document_sentiment_metrics_fn(list_hyp, list_label):\n",
    "    metrics = {}\n",
    "    metrics[\"ACC\"] = accuracy_score(list_label, list_hyp)\n",
    "    metrics[\"F1\"] = f1_score(list_label, list_hyp, average='macro')\n",
    "    metrics[\"REC\"] = recall_score(list_label, list_hyp, average='macro')\n",
    "    metrics[\"PRE\"] = precision_score(list_label, list_hyp, average='macro')\n",
    "    return metrics"
   ]
  },
  {
   "cell_type": "code",
   "execution_count": 4,
   "metadata": {},
   "outputs": [],
   "source": [
    "#!/usr/bin/env python\n",
    "\n",
    "# Python version of the evaluation script from CoNLL'00-\n",
    "\n",
    "# Intentional differences:\n",
    "# - accept any space as delimiter by default\n",
    "# - optional file argument (default STDIN)\n",
    "# - option to set boundary (-b argument)\n",
    "# - LaTeX output (-l argument) not supported\n",
    "# - raw tags (-r argument) not supported\n",
    "\n",
    "import sys\n",
    "import re\n",
    "from collections import defaultdict, namedtuple\n",
    "\n",
    "Metrics = namedtuple('Metrics', 'tp fp fn prec rec fscore')\n",
    "\n",
    "class EvalCounts(object):\n",
    "    def __init__(self):\n",
    "        self.correct_chunk = 0    # number of correctly identified chunks\n",
    "        self.correct_tags = 0     # number of correct chunk tags\n",
    "        self.found_correct = 0    # number of chunks in corpus\n",
    "        self.found_guessed = 0    # number of identified chunks\n",
    "        self.token_counter = 0    # token counter (ignores sentence breaks)\n",
    "\n",
    "        # counts by type\n",
    "        self.t_correct_chunk = defaultdict(int)\n",
    "        self.t_found_correct = defaultdict(int)\n",
    "        self.t_found_guessed = defaultdict(int)\n",
    "\n",
    "###\n",
    "# Evaluate Function\n",
    "###        \n",
    "def parse_tag(t):\n",
    "    m = re.match(r'^([^-]*)-(.*)$', t)\n",
    "    return m.groups() if m else (t, '')\n",
    "\n",
    "def start_of_chunk(prev_tag, tag, prev_type, type_):\n",
    "    # check if a chunk started between the previous and current word\n",
    "    # arguments: previous and current chunk tags, previous and current types\n",
    "    chunk_start = False\n",
    "\n",
    "    if tag == 'B': chunk_start = True\n",
    "    if tag == 'S': chunk_start = True\n",
    "\n",
    "    if prev_tag == 'E' and tag == 'E': chunk_start = True\n",
    "    if prev_tag == 'E' and tag == 'I': chunk_start = True\n",
    "    if prev_tag == 'S' and tag == 'E': chunk_start = True\n",
    "    if prev_tag == 'S' and tag == 'I': chunk_start = True\n",
    "    if prev_tag == 'O' and tag == 'E': chunk_start = True\n",
    "    if prev_tag == 'O' and tag == 'I': chunk_start = True\n",
    "\n",
    "    if tag != 'O' and tag != '.' and prev_type != type_:\n",
    "        chunk_start = True\n",
    "\n",
    "    # these chunks are assumed to have length 1\n",
    "    if tag == '[': chunk_start = True\n",
    "    if tag == ']': chunk_start = True\n",
    "\n",
    "    return chunk_start\n",
    "\n",
    "def end_of_chunk(prev_tag, tag, prev_type, type_):\n",
    "    # check if a chunk ended between the previous and current word\n",
    "    # arguments: previous and current chunk tags, previous and current types\n",
    "    chunk_end = False\n",
    "\n",
    "    if prev_tag == 'E': chunk_end = True\n",
    "    if prev_tag == 'S': chunk_end = True\n",
    "\n",
    "    if prev_tag == 'B' and tag == 'B': chunk_end = True\n",
    "    if prev_tag == 'B' and tag == 'S': chunk_end = True\n",
    "    if prev_tag == 'B' and tag == 'O': chunk_end = True\n",
    "    if prev_tag == 'I' and tag == 'B': chunk_end = True\n",
    "    if prev_tag == 'I' and tag == 'S': chunk_end = True\n",
    "    if prev_tag == 'I' and tag == 'O': chunk_end = True\n",
    "\n",
    "    if prev_tag != 'O' and prev_tag != '.' and prev_type != type_:\n",
    "        chunk_end = True\n",
    "\n",
    "    # these chunks are assumed to have length 1\n",
    "    if prev_tag == ']': chunk_end = True\n",
    "    if prev_tag == '[': chunk_end = True\n",
    "\n",
    "    return chunk_end\n",
    "\n",
    "def evaluate_fn(guessed, correct, last_correct, last_correct_type, last_guessed, last_guessed_type, in_correct, counts):\n",
    "    guessed, guessed_type = parse_tag(guessed)\n",
    "    correct, correct_type = parse_tag(correct)\n",
    "\n",
    "    end_correct = end_of_chunk(last_correct, correct,\n",
    "                               last_correct_type, correct_type)\n",
    "    end_guessed = end_of_chunk(last_guessed, guessed,\n",
    "                               last_guessed_type, guessed_type)\n",
    "    start_correct = start_of_chunk(last_correct, correct,\n",
    "                                   last_correct_type, correct_type)\n",
    "    start_guessed = start_of_chunk(last_guessed, guessed,\n",
    "                                   last_guessed_type, guessed_type)\n",
    "\n",
    "    if in_correct:\n",
    "        if (end_correct and end_guessed and\n",
    "            last_guessed_type == last_correct_type):\n",
    "            in_correct = False\n",
    "            counts.correct_chunk += 1\n",
    "            counts.t_correct_chunk[last_correct_type] += 1\n",
    "        elif (end_correct != end_guessed or guessed_type != correct_type):\n",
    "            in_correct = False\n",
    "\n",
    "    if start_correct and start_guessed and guessed_type == correct_type:\n",
    "        in_correct = True\n",
    "\n",
    "    if start_correct:\n",
    "        counts.found_correct += 1\n",
    "        counts.t_found_correct[correct_type] += 1\n",
    "    if start_guessed:\n",
    "        counts.found_guessed += 1\n",
    "        counts.t_found_guessed[guessed_type] += 1\n",
    "    if correct == guessed and guessed_type == correct_type:\n",
    "        counts.correct_tags += 1\n",
    "    counts.token_counter += 1\n",
    "\n",
    "    last_guessed = guessed\n",
    "    last_correct = correct\n",
    "    last_guessed_type = guessed_type\n",
    "    last_correct_type = correct_type\n",
    "    \n",
    "    return last_correct, last_correct_type, last_guessed, last_guessed_type, in_correct, counts\n",
    "    \n",
    "def evaluate(hyps_list, labels_list):\n",
    "    counts = EvalCounts()\n",
    "    num_features = None       # number of features per line\n",
    "    in_correct = False        # currently processed chunks is correct until now\n",
    "    last_correct = 'O'        # previous chunk tag in corpus\n",
    "    last_correct_type = ''    # type of previously identified chunk tag\n",
    "    last_guessed = 'O'        # previously identified chunk tag\n",
    "    last_guessed_type = ''    # type of previous chunk tag in corpus\n",
    "\n",
    "    for hyps, labels in zip(hyps_list, labels_list):\n",
    "        for hyp, label in zip(hyps, labels):\n",
    "            step_result = evaluate_fn(hyp, label, last_correct, last_correct_type, last_guessed, last_guessed_type, in_correct, counts)\n",
    "            last_correct, last_correct_type, last_guessed, last_guessed_type, in_correct, counts = step_result\n",
    "        # Boundary between sentence\n",
    "        step_result = evaluate_fn('O', 'O', last_correct, last_correct_type, last_guessed, last_guessed_type, in_correct, counts)\n",
    "        last_correct, last_correct_type, last_guessed, last_guessed_type, in_correct, counts = step_result\n",
    "        \n",
    "    if in_correct:\n",
    "        counts.correct_chunk += 1\n",
    "        counts.t_correct_chunk[last_correct_type] += 1\n",
    "\n",
    "    return counts\n",
    "\n",
    "###\n",
    "# Calculate Metrics Function\n",
    "###\n",
    "def uniq(iterable):\n",
    "    seen = set()\n",
    "    return [i for i in iterable if not (i in seen or seen.add(i))]\n",
    "\n",
    "def calculate_metrics(correct, guessed, total):\n",
    "    tp, fp, fn = correct, guessed-correct, total-correct\n",
    "    p = 0 if tp + fp == 0 else 1.*tp / (tp + fp)\n",
    "    r = 0 if tp + fn == 0 else 1.*tp / (tp + fn)\n",
    "    f = 0 if p + r == 0 else (2 * p * r) / (p + r)\n",
    "    return Metrics(tp, fp, fn, p, r, f)\n",
    "\n",
    "def metrics(counts):\n",
    "    c = counts\n",
    "    overall = calculate_metrics(\n",
    "        c.correct_chunk, c.found_guessed, c.found_correct\n",
    "    )\n",
    "    by_type = {}\n",
    "    for t in uniq(list(c.t_found_correct.keys()) + list(c.t_found_guessed.keys())):\n",
    "        by_type[t] = calculate_metrics(\n",
    "            c.t_correct_chunk[t], c.t_found_guessed[t], c.t_found_correct[t]\n",
    "        )\n",
    "    return overall, by_type\n",
    "    return overall\n",
    "\n",
    "###\n",
    "# Main Function\n",
    "###\n",
    "def conll_evaluation(hyps_list, labels_list):\n",
    "    counts = evaluate(hyps_list, labels_list)\n",
    "    overall, by_type = metrics(counts)\n",
    "\n",
    "    c = counts\n",
    "    acc = c.correct_tags / c.token_counter\n",
    "    pre = overall.prec\n",
    "    rec = overall.rec\n",
    "    f1 = overall.fscore\n",
    "    \n",
    "    type_macro_pre = 0.0\n",
    "    type_macro_rec = 0.0\n",
    "    type_macro_f1 = 0.0\n",
    "    for k in by_type.keys():\n",
    "        type_macro_pre += by_type[k].prec\n",
    "        type_macro_rec += by_type[k].rec\n",
    "        type_macro_f1 += by_type[k].fscore\n",
    "        \n",
    "    type_macro_pre = type_macro_pre / float(len(by_type))\n",
    "    type_macro_rec = type_macro_rec / float(len(by_type))\n",
    "    type_macro_f1 = type_macro_f1 / float(len(by_type))\n",
    "    \n",
    "    return (acc, pre, rec, f1, type_macro_pre, type_macro_rec, type_macro_f1)\n"
   ]
  },
  {
   "cell_type": "code",
   "execution_count": 5,
   "metadata": {},
   "outputs": [],
   "source": [
    "import random\n",
    "import numpy as np\n",
    "import pandas as pd\n",
    "import torch\n",
    "from torch import optim\n",
    "import torch.nn.functional as F\n",
    "from tqdm import tqdm\n",
    "\n",
    "from transformers import BertForSequenceClassification, BertConfig, BertTokenizer\n",
    "from nltk.tokenize import TweetTokenizer\n",
    "import itertools\n",
    "from sklearn.metrics import accuracy_score, f1_score, recall_score, precision_score"
   ]
  },
  {
   "cell_type": "code",
   "execution_count": 6,
   "metadata": {},
   "outputs": [],
   "source": [
    "###\n",
    "# common functions\n",
    "###\n",
    "def set_seed(seed):\n",
    "    random.seed(seed)\n",
    "    np.random.seed(seed)\n",
    "    torch.manual_seed(seed)\n",
    "    torch.cuda.manual_seed(seed)\n",
    "    \n",
    "def count_param(module, trainable=False):\n",
    "    if trainable:\n",
    "        return sum(p.numel() for p in module.parameters() if p.requires_grad)\n",
    "    else:\n",
    "        return sum(p.numel() for p in module.parameters())\n",
    "    \n",
    "def get_lr(optimizer):\n",
    "    for param_group in optimizer.param_groups:\n",
    "        return param_group['lr']\n",
    "\n",
    "def metrics_to_string(metric_dict):\n",
    "    string_list = []\n",
    "    for key, value in metric_dict.items():\n",
    "        string_list.append('{}:{:.2f}'.format(key, value))\n",
    "    return ' '.join(string_list)"
   ]
  },
  {
   "cell_type": "code",
   "execution_count": 7,
   "metadata": {},
   "outputs": [],
   "source": [
    "# Set random seed\n",
    "set_seed(26092020)"
   ]
  },
  {
   "cell_type": "code",
   "execution_count": null,
   "metadata": {},
   "outputs": [
    {
     "name": "stderr",
     "output_type": "stream",
     "text": [
      "Some weights of BertForSequenceClassification were not initialized from the model checkpoint at indobenchmark/indobert-base-p2 and are newly initialized: ['classifier.bias', 'classifier.weight']\n",
      "You should probably TRAIN this model on a down-stream task to be able to use it for predictions and inference.\n"
     ]
    }
   ],
   "source": [
    "# Load Tokenizer and Config\n",
    "tokenizer = BertTokenizer.from_pretrained('indobenchmark/indobert-base-p2')\n",
    "config = BertConfig.from_pretrained('indobenchmark/indobert-base-p2')\n",
    "config.num_labels = DocumentSentimentDataset.NUM_LABELS\n",
    "\n",
    "# Instantiate model\n",
    "model = BertForSequenceClassification.from_pretrained('indobenchmark/indobert-base-p2', config=config)"
   ]
  },
  {
   "cell_type": "code",
   "execution_count": 9,
   "metadata": {},
   "outputs": [],
   "source": [
    "# import pandas as pd\n",
    "# from sklearn.model_selection import train_test_split\n",
    "\n",
    "# # Load dataset\n",
    "# data = pd.read_csv('mobil_listrik.csv').dropna(subset=['text_cleaning'])\n",
    "# data['sentimen'] = data['sentimen'].astype('category').cat.codes\n",
    "# # Split dataset into train (80%) and temp (20%)\n",
    "# train_data, temp_data = train_test_split(data, test_size=0.1, random_state=3)\n",
    "\n",
    "# # Split temp into validation (50% of 20% = 10%) and test (50% of 20% = 10%)\n",
    "# val_data, test_data = train_test_split(temp_data, test_size=0.5, random_state=3)\n",
    "\n",
    "# # Save to CSV files\n",
    "# train_data.to_csv('trainp2.csv', index=False)\n",
    "# val_data.to_csv('valp2.csv', index=False)\n",
    "# test_data.to_csv('testp2.csv', index=False)\n",
    "# temp_data.to_csv('testnovalp2.csv',index=False)\n",
    "\n",
    "# print(\"Dataset has been split and saved to train.csv, val.csv, and test.csv\")"
   ]
  },
  {
   "cell_type": "code",
   "execution_count": 10,
   "metadata": {},
   "outputs": [],
   "source": [
    "train_dataset = DocumentSentimentDataset('trainp2.csv', tokenizer, lowercase=True)\n",
    "valid_dataset = DocumentSentimentDataset('testnovalp2.csv', tokenizer, lowercase=True)\n",
    "test_dataset = DocumentSentimentDataset('testp2.csv', tokenizer, lowercase=True)\n",
    "\n",
    "train_loader = DocumentSentimentDataLoader(dataset=train_dataset, max_seq_len=512, batch_size=10, num_workers=16, shuffle=True)  \n",
    "valid_loader = DocumentSentimentDataLoader(dataset=valid_dataset, max_seq_len=512, batch_size=10, num_workers=16, shuffle=False)  \n",
    "test_loader = DocumentSentimentDataLoader(dataset=test_dataset, max_seq_len=512, batch_size=10, num_workers=16, shuffle=False)"
   ]
  },
  {
   "cell_type": "code",
   "execution_count": 11,
   "metadata": {},
   "outputs": [
    {
     "name": "stdout",
     "output_type": "stream",
     "text": [
      "{'negatif': 0, 'netral': 1, 'positif': 2}\n",
      "{0: 'negatif', 1: 'netral', 2: 'positif'}\n"
     ]
    }
   ],
   "source": [
    "w2i, i2w = DocumentSentimentDataset.LABEL2INDEX, DocumentSentimentDataset.INDEX2LABEL\n",
    "print(w2i)\n",
    "print(i2w)"
   ]
  },
  {
   "cell_type": "code",
   "execution_count": 12,
   "metadata": {},
   "outputs": [
    {
     "name": "stdout",
     "output_type": "stream",
     "text": [
      "Text: Wacana itu bagus karena akan meminimalisir emisi gas karbon | Label : positif (37.844%)\n"
     ]
    }
   ],
   "source": [
    "text = 'Wacana itu bagus karena akan meminimalisir emisi gas karbon'\n",
    "subwords = tokenizer.encode(text)\n",
    "subwords = torch.LongTensor(subwords).view(1, -1).to(model.device)\n",
    "\n",
    "logits = model(subwords)[0]\n",
    "label = torch.topk(logits, k=1, dim=-1)[1].squeeze().item()\n",
    "\n",
    "print(f'Text: {text} | Label : {i2w[label]} ({F.softmax(logits, dim=-1).squeeze()[label] * 100:.3f}%)')"
   ]
  },
  {
   "cell_type": "code",
   "execution_count": 13,
   "metadata": {},
   "outputs": [],
   "source": [
    "# Inisialisasi model dan optimizer\n",
    "model = model.cuda()\n",
    "optimizer = optim.Adam(model.parameters(), lr=3e-5)"
   ]
  },
  {
   "cell_type": "code",
   "execution_count": 14,
   "metadata": {},
   "outputs": [
    {
     "name": "stderr",
     "output_type": "stream",
     "text": [
      "(Epoch 1) TRAIN LOSS:0.8496 LR:0.00003000: 100%|██████████| 137/137 [00:30<00:00,  4.42it/s]\n"
     ]
    },
    {
     "name": "stdout",
     "output_type": "stream",
     "text": [
      "(Epoch 1) TRAIN LOSS:0.8496 ACC:0.61 F1:0.38 REC:0.40 PRE:0.39 LR:0.00003000\n"
     ]
    },
    {
     "name": "stderr",
     "output_type": "stream",
     "text": [
      "VALID LOSS:0.6978: 100%|██████████| 16/16 [00:01<00:00,  9.74it/s]\n",
      "/home/anugerahsurya/.local/lib/python3.10/site-packages/sklearn/metrics/_classification.py:1509: UndefinedMetricWarning: Precision is ill-defined and being set to 0.0 in labels with no predicted samples. Use `zero_division` parameter to control this behavior.\n",
      "  _warn_prf(average, modifier, f\"{metric.capitalize()} is\", len(result))\n"
     ]
    },
    {
     "name": "stdout",
     "output_type": "stream",
     "text": [
      "(Epoch 1) VALID LOSS:0.6978 ACC:0.68 F1:0.43 REC:0.45 PRE:0.47\n",
      "New best validation accuracy: 0.6842 - model saved.\n"
     ]
    },
    {
     "name": "stderr",
     "output_type": "stream",
     "text": [
      "(Epoch 2) TRAIN LOSS:0.5855 LR:0.00003000: 100%|██████████| 137/137 [00:30<00:00,  4.44it/s]\n"
     ]
    },
    {
     "name": "stdout",
     "output_type": "stream",
     "text": [
      "(Epoch 2) TRAIN LOSS:0.5855 ACC:0.77 F1:0.64 REC:0.61 PRE:0.71 LR:0.00003000\n"
     ]
    },
    {
     "name": "stderr",
     "output_type": "stream",
     "text": [
      "VALID LOSS:0.7428: 100%|██████████| 16/16 [00:01<00:00, 10.39it/s]\n",
      "/home/anugerahsurya/.local/lib/python3.10/site-packages/sklearn/metrics/_classification.py:1509: UndefinedMetricWarning: Precision is ill-defined and being set to 0.0 in labels with no predicted samples. Use `zero_division` parameter to control this behavior.\n",
      "  _warn_prf(average, modifier, f\"{metric.capitalize()} is\", len(result))\n"
     ]
    },
    {
     "name": "stdout",
     "output_type": "stream",
     "text": [
      "(Epoch 2) VALID LOSS:0.7428 ACC:0.72 F1:0.49 REC:0.52 PRE:0.47\n",
      "New best validation accuracy: 0.7237 - model saved.\n"
     ]
    },
    {
     "name": "stderr",
     "output_type": "stream",
     "text": [
      "(Epoch 3) TRAIN LOSS:0.3192 LR:0.00003000: 100%|██████████| 137/137 [00:32<00:00,  4.27it/s]\n"
     ]
    },
    {
     "name": "stdout",
     "output_type": "stream",
     "text": [
      "(Epoch 3) TRAIN LOSS:0.3192 ACC:0.88 F1:0.79 REC:0.77 PRE:0.82 LR:0.00003000\n"
     ]
    },
    {
     "name": "stderr",
     "output_type": "stream",
     "text": [
      "VALID LOSS:0.6920: 100%|██████████| 16/16 [00:01<00:00, 10.18it/s]\n"
     ]
    },
    {
     "name": "stdout",
     "output_type": "stream",
     "text": [
      "(Epoch 3) VALID LOSS:0.6920 ACC:0.72 F1:0.58 REC:0.57 PRE:0.63\n"
     ]
    },
    {
     "name": "stderr",
     "output_type": "stream",
     "text": [
      "(Epoch 4) TRAIN LOSS:0.2016 LR:0.00003000: 100%|██████████| 137/137 [00:31<00:00,  4.35it/s]\n"
     ]
    },
    {
     "name": "stdout",
     "output_type": "stream",
     "text": [
      "(Epoch 4) TRAIN LOSS:0.2016 ACC:0.93 F1:0.88 REC:0.87 PRE:0.89 LR:0.00003000\n"
     ]
    },
    {
     "name": "stderr",
     "output_type": "stream",
     "text": [
      "VALID LOSS:1.2066: 100%|██████████| 16/16 [00:01<00:00,  9.67it/s]\n"
     ]
    },
    {
     "name": "stdout",
     "output_type": "stream",
     "text": [
      "(Epoch 4) VALID LOSS:1.2066 ACC:0.69 F1:0.51 REC:0.50 PRE:0.56\n"
     ]
    },
    {
     "name": "stderr",
     "output_type": "stream",
     "text": [
      "(Epoch 5) TRAIN LOSS:0.0960 LR:0.00003000: 100%|██████████| 137/137 [00:31<00:00,  4.31it/s]\n"
     ]
    },
    {
     "name": "stdout",
     "output_type": "stream",
     "text": [
      "(Epoch 5) TRAIN LOSS:0.0960 ACC:0.97 F1:0.96 REC:0.96 PRE:0.96 LR:0.00003000\n"
     ]
    },
    {
     "name": "stderr",
     "output_type": "stream",
     "text": [
      "VALID LOSS:1.2583: 100%|██████████| 16/16 [00:01<00:00, 10.15it/s]\n"
     ]
    },
    {
     "name": "stdout",
     "output_type": "stream",
     "text": [
      "(Epoch 5) VALID LOSS:1.2583 ACC:0.72 F1:0.52 REC:0.52 PRE:0.54\n"
     ]
    },
    {
     "name": "stderr",
     "output_type": "stream",
     "text": [
      "(Epoch 6) TRAIN LOSS:0.0926 LR:0.00003000: 100%|██████████| 137/137 [00:32<00:00,  4.18it/s]\n"
     ]
    },
    {
     "name": "stdout",
     "output_type": "stream",
     "text": [
      "(Epoch 6) TRAIN LOSS:0.0926 ACC:0.97 F1:0.95 REC:0.95 PRE:0.96 LR:0.00003000\n"
     ]
    },
    {
     "name": "stderr",
     "output_type": "stream",
     "text": [
      "VALID LOSS:1.2457: 100%|██████████| 16/16 [00:01<00:00,  9.77it/s]\n"
     ]
    },
    {
     "name": "stdout",
     "output_type": "stream",
     "text": [
      "(Epoch 6) VALID LOSS:1.2457 ACC:0.68 F1:0.56 REC:0.57 PRE:0.58\n"
     ]
    },
    {
     "name": "stderr",
     "output_type": "stream",
     "text": [
      "(Epoch 7) TRAIN LOSS:0.0518 LR:0.00003000: 100%|██████████| 137/137 [00:32<00:00,  4.22it/s]\n"
     ]
    },
    {
     "name": "stdout",
     "output_type": "stream",
     "text": [
      "(Epoch 7) TRAIN LOSS:0.0518 ACC:0.98 F1:0.97 REC:0.97 PRE:0.98 LR:0.00003000\n"
     ]
    },
    {
     "name": "stderr",
     "output_type": "stream",
     "text": [
      "VALID LOSS:1.5175: 100%|██████████| 16/16 [00:01<00:00,  9.80it/s]\n"
     ]
    },
    {
     "name": "stdout",
     "output_type": "stream",
     "text": [
      "(Epoch 7) VALID LOSS:1.5175 ACC:0.73 F1:0.55 REC:0.54 PRE:0.60\n",
      "New best validation accuracy: 0.7303 - model saved.\n"
     ]
    },
    {
     "name": "stderr",
     "output_type": "stream",
     "text": [
      "(Epoch 8) TRAIN LOSS:0.0423 LR:0.00003000: 100%|██████████| 137/137 [00:32<00:00,  4.22it/s]\n"
     ]
    },
    {
     "name": "stdout",
     "output_type": "stream",
     "text": [
      "(Epoch 8) TRAIN LOSS:0.0423 ACC:0.99 F1:0.97 REC:0.97 PRE:0.97 LR:0.00003000\n"
     ]
    },
    {
     "name": "stderr",
     "output_type": "stream",
     "text": [
      "VALID LOSS:1.4560: 100%|██████████| 16/16 [00:01<00:00,  9.47it/s]\n"
     ]
    },
    {
     "name": "stdout",
     "output_type": "stream",
     "text": [
      "(Epoch 8) VALID LOSS:1.4560 ACC:0.71 F1:0.56 REC:0.54 PRE:0.61\n"
     ]
    },
    {
     "name": "stderr",
     "output_type": "stream",
     "text": [
      "(Epoch 9) TRAIN LOSS:0.0331 LR:0.00003000: 100%|██████████| 137/137 [00:32<00:00,  4.21it/s]\n"
     ]
    },
    {
     "name": "stdout",
     "output_type": "stream",
     "text": [
      "(Epoch 9) TRAIN LOSS:0.0331 ACC:0.99 F1:0.99 REC:0.98 PRE:0.99 LR:0.00003000\n"
     ]
    },
    {
     "name": "stderr",
     "output_type": "stream",
     "text": [
      "VALID LOSS:1.4660: 100%|██████████| 16/16 [00:01<00:00,  9.99it/s]\n"
     ]
    },
    {
     "name": "stdout",
     "output_type": "stream",
     "text": [
      "(Epoch 9) VALID LOSS:1.4660 ACC:0.70 F1:0.57 REC:0.56 PRE:0.59\n"
     ]
    },
    {
     "name": "stderr",
     "output_type": "stream",
     "text": [
      "(Epoch 10) TRAIN LOSS:0.0269 LR:0.00003000: 100%|██████████| 137/137 [00:32<00:00,  4.16it/s]\n"
     ]
    },
    {
     "name": "stdout",
     "output_type": "stream",
     "text": [
      "(Epoch 10) TRAIN LOSS:0.0269 ACC:0.99 F1:0.99 REC:0.99 PRE:0.98 LR:0.00003000\n"
     ]
    },
    {
     "name": "stderr",
     "output_type": "stream",
     "text": [
      "VALID LOSS:1.6429: 100%|██████████| 16/16 [00:01<00:00,  9.69it/s]\n"
     ]
    },
    {
     "name": "stdout",
     "output_type": "stream",
     "text": [
      "(Epoch 10) VALID LOSS:1.6429 ACC:0.69 F1:0.51 REC:0.53 PRE:0.62\n"
     ]
    },
    {
     "name": "stderr",
     "output_type": "stream",
     "text": [
      "(Epoch 11) TRAIN LOSS:0.0635 LR:0.00003000: 100%|██████████| 137/137 [00:33<00:00,  4.05it/s]\n"
     ]
    },
    {
     "name": "stdout",
     "output_type": "stream",
     "text": [
      "(Epoch 11) TRAIN LOSS:0.0635 ACC:0.98 F1:0.97 REC:0.97 PRE:0.96 LR:0.00003000\n"
     ]
    },
    {
     "name": "stderr",
     "output_type": "stream",
     "text": [
      "VALID LOSS:1.4180: 100%|██████████| 16/16 [00:01<00:00,  9.22it/s]\n"
     ]
    },
    {
     "name": "stdout",
     "output_type": "stream",
     "text": [
      "(Epoch 11) VALID LOSS:1.4180 ACC:0.72 F1:0.58 REC:0.58 PRE:0.62\n"
     ]
    },
    {
     "name": "stderr",
     "output_type": "stream",
     "text": [
      "(Epoch 12) TRAIN LOSS:0.0242 LR:0.00003000: 100%|██████████| 137/137 [00:34<00:00,  3.95it/s]\n"
     ]
    },
    {
     "name": "stdout",
     "output_type": "stream",
     "text": [
      "(Epoch 12) TRAIN LOSS:0.0242 ACC:0.99 F1:0.99 REC:0.99 PRE:0.99 LR:0.00003000\n"
     ]
    },
    {
     "name": "stderr",
     "output_type": "stream",
     "text": [
      "VALID LOSS:1.6132: 100%|██████████| 16/16 [00:01<00:00,  9.06it/s]\n"
     ]
    },
    {
     "name": "stdout",
     "output_type": "stream",
     "text": [
      "(Epoch 12) VALID LOSS:1.6132 ACC:0.70 F1:0.54 REC:0.53 PRE:0.67\n"
     ]
    },
    {
     "name": "stderr",
     "output_type": "stream",
     "text": [
      "(Epoch 13) TRAIN LOSS:0.0152 LR:0.00003000: 100%|██████████| 137/137 [00:35<00:00,  3.87it/s]\n"
     ]
    },
    {
     "name": "stdout",
     "output_type": "stream",
     "text": [
      "(Epoch 13) TRAIN LOSS:0.0152 ACC:0.99 F1:0.99 REC:0.99 PRE:0.98 LR:0.00003000\n"
     ]
    },
    {
     "name": "stderr",
     "output_type": "stream",
     "text": [
      "VALID LOSS:1.7961: 100%|██████████| 16/16 [00:01<00:00,  9.21it/s]\n"
     ]
    },
    {
     "name": "stdout",
     "output_type": "stream",
     "text": [
      "(Epoch 13) VALID LOSS:1.7961 ACC:0.68 F1:0.54 REC:0.55 PRE:0.67\n"
     ]
    },
    {
     "name": "stderr",
     "output_type": "stream",
     "text": [
      "(Epoch 14) TRAIN LOSS:0.0197 LR:0.00003000: 100%|██████████| 137/137 [00:35<00:00,  3.84it/s]\n"
     ]
    },
    {
     "name": "stdout",
     "output_type": "stream",
     "text": [
      "(Epoch 14) TRAIN LOSS:0.0197 ACC:0.99 F1:0.99 REC:0.99 PRE:0.99 LR:0.00003000\n"
     ]
    },
    {
     "name": "stderr",
     "output_type": "stream",
     "text": [
      "VALID LOSS:1.8714: 100%|██████████| 16/16 [00:01<00:00,  9.13it/s]\n"
     ]
    },
    {
     "name": "stdout",
     "output_type": "stream",
     "text": [
      "(Epoch 14) VALID LOSS:1.8714 ACC:0.68 F1:0.51 REC:0.54 PRE:0.57\n"
     ]
    },
    {
     "name": "stderr",
     "output_type": "stream",
     "text": [
      "(Epoch 15) TRAIN LOSS:0.0677 LR:0.00003000: 100%|██████████| 137/137 [00:36<00:00,  3.80it/s]\n"
     ]
    },
    {
     "name": "stdout",
     "output_type": "stream",
     "text": [
      "(Epoch 15) TRAIN LOSS:0.0677 ACC:0.98 F1:0.98 REC:0.98 PRE:0.97 LR:0.00003000\n"
     ]
    },
    {
     "name": "stderr",
     "output_type": "stream",
     "text": [
      "VALID LOSS:1.4007: 100%|██████████| 16/16 [00:01<00:00,  9.61it/s]\n"
     ]
    },
    {
     "name": "stdout",
     "output_type": "stream",
     "text": [
      "(Epoch 15) VALID LOSS:1.4007 ACC:0.66 F1:0.53 REC:0.54 PRE:0.54\n"
     ]
    },
    {
     "name": "stderr",
     "output_type": "stream",
     "text": [
      "(Epoch 16) TRAIN LOSS:0.0207 LR:0.00003000: 100%|██████████| 137/137 [00:35<00:00,  3.81it/s]\n"
     ]
    },
    {
     "name": "stdout",
     "output_type": "stream",
     "text": [
      "(Epoch 16) TRAIN LOSS:0.0207 ACC:0.99 F1:0.99 REC:0.99 PRE:0.99 LR:0.00003000\n"
     ]
    },
    {
     "name": "stderr",
     "output_type": "stream",
     "text": [
      "VALID LOSS:1.2347: 100%|██████████| 16/16 [00:01<00:00,  8.75it/s]\n"
     ]
    },
    {
     "name": "stdout",
     "output_type": "stream",
     "text": [
      "(Epoch 16) VALID LOSS:1.2347 ACC:0.71 F1:0.55 REC:0.54 PRE:0.57\n"
     ]
    },
    {
     "name": "stderr",
     "output_type": "stream",
     "text": [
      "(Epoch 17) TRAIN LOSS:0.0351 LR:0.00003000: 100%|██████████| 137/137 [00:36<00:00,  3.74it/s]\n"
     ]
    },
    {
     "name": "stdout",
     "output_type": "stream",
     "text": [
      "(Epoch 17) TRAIN LOSS:0.0351 ACC:0.99 F1:0.98 REC:0.98 PRE:0.98 LR:0.00003000\n"
     ]
    },
    {
     "name": "stderr",
     "output_type": "stream",
     "text": [
      "VALID LOSS:1.3510: 100%|██████████| 16/16 [00:01<00:00,  9.00it/s]\n"
     ]
    },
    {
     "name": "stdout",
     "output_type": "stream",
     "text": [
      "(Epoch 17) VALID LOSS:1.3510 ACC:0.75 F1:0.57 REC:0.55 PRE:0.84\n",
      "New best validation accuracy: 0.7500 - model saved.\n"
     ]
    },
    {
     "name": "stderr",
     "output_type": "stream",
     "text": [
      "(Epoch 18) TRAIN LOSS:0.0374 LR:0.00003000: 100%|██████████| 137/137 [00:36<00:00,  3.77it/s]\n"
     ]
    },
    {
     "name": "stdout",
     "output_type": "stream",
     "text": [
      "(Epoch 18) TRAIN LOSS:0.0374 ACC:0.99 F1:0.98 REC:0.98 PRE:0.99 LR:0.00003000\n"
     ]
    },
    {
     "name": "stderr",
     "output_type": "stream",
     "text": [
      "VALID LOSS:1.2529: 100%|██████████| 16/16 [00:01<00:00,  9.45it/s]\n"
     ]
    },
    {
     "name": "stdout",
     "output_type": "stream",
     "text": [
      "(Epoch 18) VALID LOSS:1.2529 ACC:0.73 F1:0.62 REC:0.60 PRE:0.65\n"
     ]
    },
    {
     "name": "stderr",
     "output_type": "stream",
     "text": [
      "(Epoch 19) TRAIN LOSS:0.0394 LR:0.00003000: 100%|██████████| 137/137 [00:37<00:00,  3.62it/s]\n"
     ]
    },
    {
     "name": "stdout",
     "output_type": "stream",
     "text": [
      "(Epoch 19) TRAIN LOSS:0.0394 ACC:0.99 F1:0.98 REC:0.98 PRE:0.98 LR:0.00003000\n"
     ]
    },
    {
     "name": "stderr",
     "output_type": "stream",
     "text": [
      "VALID LOSS:1.4462: 100%|██████████| 16/16 [00:01<00:00,  8.68it/s]\n"
     ]
    },
    {
     "name": "stdout",
     "output_type": "stream",
     "text": [
      "(Epoch 19) VALID LOSS:1.4462 ACC:0.70 F1:0.60 REC:0.60 PRE:0.62\n"
     ]
    },
    {
     "name": "stderr",
     "output_type": "stream",
     "text": [
      "(Epoch 20) TRAIN LOSS:0.0401 LR:0.00003000: 100%|██████████| 137/137 [00:37<00:00,  3.63it/s]\n"
     ]
    },
    {
     "name": "stdout",
     "output_type": "stream",
     "text": [
      "(Epoch 20) TRAIN LOSS:0.0401 ACC:0.99 F1:0.97 REC:0.97 PRE:0.98 LR:0.00003000\n"
     ]
    },
    {
     "name": "stderr",
     "output_type": "stream",
     "text": [
      "VALID LOSS:1.3927: 100%|██████████| 16/16 [00:01<00:00,  9.26it/s]\n"
     ]
    },
    {
     "name": "stdout",
     "output_type": "stream",
     "text": [
      "(Epoch 20) VALID LOSS:1.3927 ACC:0.70 F1:0.55 REC:0.54 PRE:0.55\n"
     ]
    },
    {
     "name": "stderr",
     "output_type": "stream",
     "text": [
      "(Epoch 21) TRAIN LOSS:0.0066 LR:0.00003000: 100%|██████████| 137/137 [00:38<00:00,  3.60it/s]\n"
     ]
    },
    {
     "name": "stdout",
     "output_type": "stream",
     "text": [
      "(Epoch 21) TRAIN LOSS:0.0066 ACC:1.00 F1:1.00 REC:1.00 PRE:1.00 LR:0.00003000\n"
     ]
    },
    {
     "name": "stderr",
     "output_type": "stream",
     "text": [
      "VALID LOSS:1.5258: 100%|██████████| 16/16 [00:01<00:00,  8.90it/s]\n"
     ]
    },
    {
     "name": "stdout",
     "output_type": "stream",
     "text": [
      "(Epoch 21) VALID LOSS:1.5258 ACC:0.71 F1:0.54 REC:0.53 PRE:0.55\n"
     ]
    },
    {
     "name": "stderr",
     "output_type": "stream",
     "text": [
      "(Epoch 22) TRAIN LOSS:0.0018 LR:0.00003000: 100%|██████████| 137/137 [00:38<00:00,  3.55it/s]\n"
     ]
    },
    {
     "name": "stdout",
     "output_type": "stream",
     "text": [
      "(Epoch 22) TRAIN LOSS:0.0018 ACC:1.00 F1:1.00 REC:1.00 PRE:1.00 LR:0.00003000\n"
     ]
    },
    {
     "name": "stderr",
     "output_type": "stream",
     "text": [
      "VALID LOSS:1.5950: 100%|██████████| 16/16 [00:01<00:00,  8.91it/s]\n"
     ]
    },
    {
     "name": "stdout",
     "output_type": "stream",
     "text": [
      "(Epoch 22) VALID LOSS:1.5950 ACC:0.72 F1:0.56 REC:0.55 PRE:0.57\n"
     ]
    },
    {
     "name": "stderr",
     "output_type": "stream",
     "text": [
      "(Epoch 23) TRAIN LOSS:0.0065 LR:0.00003000: 100%|██████████| 137/137 [00:36<00:00,  3.74it/s]\n"
     ]
    },
    {
     "name": "stdout",
     "output_type": "stream",
     "text": [
      "(Epoch 23) TRAIN LOSS:0.0065 ACC:1.00 F1:1.00 REC:1.00 PRE:1.00 LR:0.00003000\n"
     ]
    },
    {
     "name": "stderr",
     "output_type": "stream",
     "text": [
      "VALID LOSS:1.4966: 100%|██████████| 16/16 [00:01<00:00,  8.75it/s]\n"
     ]
    },
    {
     "name": "stdout",
     "output_type": "stream",
     "text": [
      "(Epoch 23) VALID LOSS:1.4966 ACC:0.70 F1:0.54 REC:0.54 PRE:0.55\n"
     ]
    },
    {
     "name": "stderr",
     "output_type": "stream",
     "text": [
      "(Epoch 24) TRAIN LOSS:0.0013 LR:0.00003000: 100%|██████████| 137/137 [00:39<00:00,  3.49it/s]\n"
     ]
    },
    {
     "name": "stdout",
     "output_type": "stream",
     "text": [
      "(Epoch 24) TRAIN LOSS:0.0013 ACC:1.00 F1:1.00 REC:1.00 PRE:1.00 LR:0.00003000\n"
     ]
    },
    {
     "name": "stderr",
     "output_type": "stream",
     "text": [
      "VALID LOSS:1.7152: 100%|██████████| 16/16 [00:01<00:00,  8.69it/s]\n"
     ]
    },
    {
     "name": "stdout",
     "output_type": "stream",
     "text": [
      "(Epoch 24) VALID LOSS:1.7152 ACC:0.73 F1:0.56 REC:0.55 PRE:0.60\n"
     ]
    },
    {
     "name": "stderr",
     "output_type": "stream",
     "text": [
      "(Epoch 25) TRAIN LOSS:0.0005 LR:0.00003000: 100%|██████████| 137/137 [00:38<00:00,  3.60it/s]\n"
     ]
    },
    {
     "name": "stdout",
     "output_type": "stream",
     "text": [
      "(Epoch 25) TRAIN LOSS:0.0005 ACC:1.00 F1:1.00 REC:1.00 PRE:1.00 LR:0.00003000\n"
     ]
    },
    {
     "name": "stderr",
     "output_type": "stream",
     "text": [
      "VALID LOSS:1.7542: 100%|██████████| 16/16 [00:01<00:00,  9.49it/s]\n"
     ]
    },
    {
     "name": "stdout",
     "output_type": "stream",
     "text": [
      "(Epoch 25) VALID LOSS:1.7542 ACC:0.70 F1:0.56 REC:0.56 PRE:0.57\n"
     ]
    },
    {
     "name": "stderr",
     "output_type": "stream",
     "text": [
      "(Epoch 26) TRAIN LOSS:0.0003 LR:0.00003000: 100%|██████████| 137/137 [00:38<00:00,  3.52it/s]\n"
     ]
    },
    {
     "name": "stdout",
     "output_type": "stream",
     "text": [
      "(Epoch 26) TRAIN LOSS:0.0003 ACC:1.00 F1:1.00 REC:1.00 PRE:1.00 LR:0.00003000\n"
     ]
    },
    {
     "name": "stderr",
     "output_type": "stream",
     "text": [
      "VALID LOSS:1.7730: 100%|██████████| 16/16 [00:01<00:00,  8.60it/s]\n"
     ]
    },
    {
     "name": "stdout",
     "output_type": "stream",
     "text": [
      "(Epoch 26) VALID LOSS:1.7730 ACC:0.72 F1:0.57 REC:0.57 PRE:0.59\n"
     ]
    },
    {
     "name": "stderr",
     "output_type": "stream",
     "text": [
      "(Epoch 27) TRAIN LOSS:0.0002 LR:0.00003000: 100%|██████████| 137/137 [00:39<00:00,  3.48it/s]\n"
     ]
    },
    {
     "name": "stdout",
     "output_type": "stream",
     "text": [
      "(Epoch 27) TRAIN LOSS:0.0002 ACC:1.00 F1:1.00 REC:1.00 PRE:1.00 LR:0.00003000\n"
     ]
    },
    {
     "name": "stderr",
     "output_type": "stream",
     "text": [
      "VALID LOSS:1.8006: 100%|██████████| 16/16 [00:01<00:00,  8.67it/s]\n"
     ]
    },
    {
     "name": "stdout",
     "output_type": "stream",
     "text": [
      "(Epoch 27) VALID LOSS:1.8006 ACC:0.72 F1:0.57 REC:0.57 PRE:0.59\n"
     ]
    },
    {
     "name": "stderr",
     "output_type": "stream",
     "text": [
      "(Epoch 28) TRAIN LOSS:0.0002 LR:0.00003000: 100%|██████████| 137/137 [00:38<00:00,  3.58it/s]\n"
     ]
    },
    {
     "name": "stdout",
     "output_type": "stream",
     "text": [
      "(Epoch 28) TRAIN LOSS:0.0002 ACC:1.00 F1:1.00 REC:1.00 PRE:1.00 LR:0.00003000\n"
     ]
    },
    {
     "name": "stderr",
     "output_type": "stream",
     "text": [
      "VALID LOSS:1.8196: 100%|██████████| 16/16 [00:01<00:00,  9.07it/s]\n"
     ]
    },
    {
     "name": "stdout",
     "output_type": "stream",
     "text": [
      "(Epoch 28) VALID LOSS:1.8196 ACC:0.72 F1:0.57 REC:0.57 PRE:0.60\n"
     ]
    },
    {
     "name": "stderr",
     "output_type": "stream",
     "text": [
      "(Epoch 29) TRAIN LOSS:0.0002 LR:0.00003000: 100%|██████████| 137/137 [00:38<00:00,  3.58it/s]\n"
     ]
    },
    {
     "name": "stdout",
     "output_type": "stream",
     "text": [
      "(Epoch 29) TRAIN LOSS:0.0002 ACC:1.00 F1:1.00 REC:1.00 PRE:1.00 LR:0.00003000\n"
     ]
    },
    {
     "name": "stderr",
     "output_type": "stream",
     "text": [
      "VALID LOSS:1.8368: 100%|██████████| 16/16 [00:01<00:00,  8.88it/s]\n"
     ]
    },
    {
     "name": "stdout",
     "output_type": "stream",
     "text": [
      "(Epoch 29) VALID LOSS:1.8368 ACC:0.72 F1:0.58 REC:0.57 PRE:0.61\n"
     ]
    },
    {
     "name": "stderr",
     "output_type": "stream",
     "text": [
      "(Epoch 30) TRAIN LOSS:0.0002 LR:0.00003000: 100%|██████████| 137/137 [00:39<00:00,  3.51it/s]\n"
     ]
    },
    {
     "name": "stdout",
     "output_type": "stream",
     "text": [
      "(Epoch 30) TRAIN LOSS:0.0002 ACC:1.00 F1:1.00 REC:1.00 PRE:1.00 LR:0.00003000\n"
     ]
    },
    {
     "name": "stderr",
     "output_type": "stream",
     "text": [
      "VALID LOSS:1.8652: 100%|██████████| 16/16 [00:01<00:00,  9.89it/s]\n"
     ]
    },
    {
     "name": "stdout",
     "output_type": "stream",
     "text": [
      "(Epoch 30) VALID LOSS:1.8652 ACC:0.72 F1:0.57 REC:0.57 PRE:0.60\n"
     ]
    },
    {
     "name": "stderr",
     "output_type": "stream",
     "text": [
      "(Epoch 31) TRAIN LOSS:0.0001 LR:0.00003000: 100%|██████████| 137/137 [00:39<00:00,  3.51it/s]\n"
     ]
    },
    {
     "name": "stdout",
     "output_type": "stream",
     "text": [
      "(Epoch 31) TRAIN LOSS:0.0001 ACC:1.00 F1:1.00 REC:1.00 PRE:1.00 LR:0.00003000\n"
     ]
    },
    {
     "name": "stderr",
     "output_type": "stream",
     "text": [
      "VALID LOSS:1.8843: 100%|██████████| 16/16 [00:01<00:00,  8.68it/s]\n"
     ]
    },
    {
     "name": "stdout",
     "output_type": "stream",
     "text": [
      "(Epoch 31) VALID LOSS:1.8843 ACC:0.72 F1:0.58 REC:0.57 PRE:0.61\n"
     ]
    },
    {
     "name": "stderr",
     "output_type": "stream",
     "text": [
      "(Epoch 32) TRAIN LOSS:0.0001 LR:0.00003000: 100%|██████████| 137/137 [00:38<00:00,  3.59it/s]\n"
     ]
    },
    {
     "name": "stdout",
     "output_type": "stream",
     "text": [
      "(Epoch 32) TRAIN LOSS:0.0001 ACC:1.00 F1:1.00 REC:1.00 PRE:1.00 LR:0.00003000\n"
     ]
    },
    {
     "name": "stderr",
     "output_type": "stream",
     "text": [
      "VALID LOSS:1.9038: 100%|██████████| 16/16 [00:01<00:00,  9.01it/s]\n"
     ]
    },
    {
     "name": "stdout",
     "output_type": "stream",
     "text": [
      "(Epoch 32) VALID LOSS:1.9038 ACC:0.72 F1:0.57 REC:0.57 PRE:0.60\n"
     ]
    },
    {
     "name": "stderr",
     "output_type": "stream",
     "text": [
      "(Epoch 33) TRAIN LOSS:0.0538 LR:0.00003000: 100%|██████████| 137/137 [00:36<00:00,  3.74it/s]\n"
     ]
    },
    {
     "name": "stdout",
     "output_type": "stream",
     "text": [
      "(Epoch 33) TRAIN LOSS:0.0538 ACC:0.99 F1:0.99 REC:0.99 PRE:0.99 LR:0.00003000\n"
     ]
    },
    {
     "name": "stderr",
     "output_type": "stream",
     "text": [
      "VALID LOSS:1.1450: 100%|██████████| 16/16 [00:01<00:00,  8.96it/s]\n"
     ]
    },
    {
     "name": "stdout",
     "output_type": "stream",
     "text": [
      "(Epoch 33) VALID LOSS:1.1450 ACC:0.71 F1:0.59 REC:0.59 PRE:0.71\n"
     ]
    },
    {
     "name": "stderr",
     "output_type": "stream",
     "text": [
      "(Epoch 34) TRAIN LOSS:0.1958 LR:0.00003000: 100%|██████████| 137/137 [00:39<00:00,  3.51it/s]\n"
     ]
    },
    {
     "name": "stdout",
     "output_type": "stream",
     "text": [
      "(Epoch 34) TRAIN LOSS:0.1958 ACC:0.94 F1:0.90 REC:0.90 PRE:0.90 LR:0.00003000\n"
     ]
    },
    {
     "name": "stderr",
     "output_type": "stream",
     "text": [
      "VALID LOSS:1.2918: 100%|██████████| 16/16 [00:01<00:00,  8.65it/s]\n"
     ]
    },
    {
     "name": "stdout",
     "output_type": "stream",
     "text": [
      "(Epoch 34) VALID LOSS:1.2918 ACC:0.65 F1:0.54 REC:0.55 PRE:0.54\n"
     ]
    },
    {
     "name": "stderr",
     "output_type": "stream",
     "text": [
      "(Epoch 35) TRAIN LOSS:0.0826 LR:0.00003000: 100%|██████████| 137/137 [00:38<00:00,  3.59it/s]\n"
     ]
    },
    {
     "name": "stdout",
     "output_type": "stream",
     "text": [
      "(Epoch 35) TRAIN LOSS:0.0826 ACC:0.98 F1:0.95 REC:0.94 PRE:0.96 LR:0.00003000\n"
     ]
    },
    {
     "name": "stderr",
     "output_type": "stream",
     "text": [
      "VALID LOSS:1.4361: 100%|██████████| 16/16 [00:01<00:00,  8.86it/s]\n"
     ]
    },
    {
     "name": "stdout",
     "output_type": "stream",
     "text": [
      "(Epoch 35) VALID LOSS:1.4361 ACC:0.65 F1:0.55 REC:0.57 PRE:0.57\n"
     ]
    },
    {
     "name": "stderr",
     "output_type": "stream",
     "text": [
      "(Epoch 36) TRAIN LOSS:0.0605 LR:0.00003000: 100%|██████████| 137/137 [00:39<00:00,  3.50it/s]\n"
     ]
    },
    {
     "name": "stdout",
     "output_type": "stream",
     "text": [
      "(Epoch 36) TRAIN LOSS:0.0605 ACC:0.98 F1:0.97 REC:0.97 PRE:0.97 LR:0.00003000\n"
     ]
    },
    {
     "name": "stderr",
     "output_type": "stream",
     "text": [
      "VALID LOSS:1.3909: 100%|██████████| 16/16 [00:01<00:00,  8.59it/s]\n"
     ]
    },
    {
     "name": "stdout",
     "output_type": "stream",
     "text": [
      "(Epoch 36) VALID LOSS:1.3909 ACC:0.70 F1:0.54 REC:0.54 PRE:0.56\n"
     ]
    },
    {
     "name": "stderr",
     "output_type": "stream",
     "text": [
      "(Epoch 37) TRAIN LOSS:0.0257 LR:0.00003000: 100%|██████████| 137/137 [00:38<00:00,  3.54it/s]\n"
     ]
    },
    {
     "name": "stdout",
     "output_type": "stream",
     "text": [
      "(Epoch 37) TRAIN LOSS:0.0257 ACC:1.00 F1:1.00 REC:0.99 PRE:1.00 LR:0.00003000\n"
     ]
    },
    {
     "name": "stderr",
     "output_type": "stream",
     "text": [
      "VALID LOSS:1.1558: 100%|██████████| 16/16 [00:01<00:00,  8.80it/s]\n"
     ]
    },
    {
     "name": "stdout",
     "output_type": "stream",
     "text": [
      "(Epoch 37) VALID LOSS:1.1558 ACC:0.74 F1:0.63 REC:0.61 PRE:0.66\n"
     ]
    },
    {
     "name": "stderr",
     "output_type": "stream",
     "text": [
      "(Epoch 38) TRAIN LOSS:0.0077 LR:0.00003000: 100%|██████████| 137/137 [00:39<00:00,  3.49it/s]\n"
     ]
    },
    {
     "name": "stdout",
     "output_type": "stream",
     "text": [
      "(Epoch 38) TRAIN LOSS:0.0077 ACC:1.00 F1:1.00 REC:1.00 PRE:1.00 LR:0.00003000\n"
     ]
    },
    {
     "name": "stderr",
     "output_type": "stream",
     "text": [
      "VALID LOSS:1.7738: 100%|██████████| 16/16 [00:01<00:00,  8.91it/s]\n"
     ]
    },
    {
     "name": "stdout",
     "output_type": "stream",
     "text": [
      "(Epoch 38) VALID LOSS:1.7738 ACC:0.65 F1:0.56 REC:0.58 PRE:0.56\n"
     ]
    },
    {
     "name": "stderr",
     "output_type": "stream",
     "text": [
      "(Epoch 39) TRAIN LOSS:0.0381 LR:0.00003000: 100%|██████████| 137/137 [00:38<00:00,  3.53it/s]\n"
     ]
    },
    {
     "name": "stdout",
     "output_type": "stream",
     "text": [
      "(Epoch 39) TRAIN LOSS:0.0381 ACC:0.99 F1:0.98 REC:0.98 PRE:0.98 LR:0.00003000\n"
     ]
    },
    {
     "name": "stderr",
     "output_type": "stream",
     "text": [
      "VALID LOSS:1.2271: 100%|██████████| 16/16 [00:01<00:00,  8.25it/s]\n"
     ]
    },
    {
     "name": "stdout",
     "output_type": "stream",
     "text": [
      "(Epoch 39) VALID LOSS:1.2271 ACC:0.76 F1:0.67 REC:0.64 PRE:0.72\n",
      "New best validation accuracy: 0.7566 - model saved.\n"
     ]
    },
    {
     "name": "stderr",
     "output_type": "stream",
     "text": [
      "(Epoch 40) TRAIN LOSS:0.0233 LR:0.00003000: 100%|██████████| 137/137 [00:38<00:00,  3.54it/s]\n"
     ]
    },
    {
     "name": "stdout",
     "output_type": "stream",
     "text": [
      "(Epoch 40) TRAIN LOSS:0.0233 ACC:0.99 F1:0.99 REC:0.99 PRE:0.99 LR:0.00003000\n"
     ]
    },
    {
     "name": "stderr",
     "output_type": "stream",
     "text": [
      "VALID LOSS:1.4357: 100%|██████████| 16/16 [00:01<00:00,  9.26it/s]\n"
     ]
    },
    {
     "name": "stdout",
     "output_type": "stream",
     "text": [
      "(Epoch 40) VALID LOSS:1.4357 ACC:0.75 F1:0.66 REC:0.64 PRE:0.71\n"
     ]
    },
    {
     "name": "stderr",
     "output_type": "stream",
     "text": [
      "(Epoch 41) TRAIN LOSS:0.0118 LR:0.00003000: 100%|██████████| 137/137 [00:38<00:00,  3.53it/s]\n"
     ]
    },
    {
     "name": "stdout",
     "output_type": "stream",
     "text": [
      "(Epoch 41) TRAIN LOSS:0.0118 ACC:0.99 F1:0.99 REC:0.99 PRE:0.99 LR:0.00003000\n"
     ]
    },
    {
     "name": "stderr",
     "output_type": "stream",
     "text": [
      "VALID LOSS:1.8273: 100%|██████████| 16/16 [00:01<00:00,  8.98it/s]\n"
     ]
    },
    {
     "name": "stdout",
     "output_type": "stream",
     "text": [
      "(Epoch 41) VALID LOSS:1.8273 ACC:0.72 F1:0.57 REC:0.54 PRE:0.68\n"
     ]
    },
    {
     "name": "stderr",
     "output_type": "stream",
     "text": [
      "(Epoch 42) TRAIN LOSS:0.0072 LR:0.00003000: 100%|██████████| 137/137 [00:38<00:00,  3.57it/s]\n"
     ]
    },
    {
     "name": "stdout",
     "output_type": "stream",
     "text": [
      "(Epoch 42) TRAIN LOSS:0.0072 ACC:1.00 F1:1.00 REC:1.00 PRE:0.99 LR:0.00003000\n"
     ]
    },
    {
     "name": "stderr",
     "output_type": "stream",
     "text": [
      "VALID LOSS:1.7672: 100%|██████████| 16/16 [00:01<00:00,  8.60it/s]\n"
     ]
    },
    {
     "name": "stdout",
     "output_type": "stream",
     "text": [
      "(Epoch 42) VALID LOSS:1.7672 ACC:0.73 F1:0.57 REC:0.57 PRE:0.64\n"
     ]
    },
    {
     "name": "stderr",
     "output_type": "stream",
     "text": [
      "(Epoch 43) TRAIN LOSS:0.0006 LR:0.00003000: 100%|██████████| 137/137 [00:39<00:00,  3.48it/s]\n"
     ]
    },
    {
     "name": "stdout",
     "output_type": "stream",
     "text": [
      "(Epoch 43) TRAIN LOSS:0.0006 ACC:1.00 F1:1.00 REC:1.00 PRE:1.00 LR:0.00003000\n"
     ]
    },
    {
     "name": "stderr",
     "output_type": "stream",
     "text": [
      "VALID LOSS:1.8295: 100%|██████████| 16/16 [00:01<00:00,  8.63it/s]\n"
     ]
    },
    {
     "name": "stdout",
     "output_type": "stream",
     "text": [
      "(Epoch 43) VALID LOSS:1.8295 ACC:0.72 F1:0.55 REC:0.56 PRE:0.57\n"
     ]
    },
    {
     "name": "stderr",
     "output_type": "stream",
     "text": [
      "(Epoch 44) TRAIN LOSS:0.0166 LR:0.00003000: 100%|██████████| 137/137 [00:39<00:00,  3.50it/s]\n"
     ]
    },
    {
     "name": "stdout",
     "output_type": "stream",
     "text": [
      "(Epoch 44) TRAIN LOSS:0.0166 ACC:1.00 F1:1.00 REC:1.00 PRE:1.00 LR:0.00003000\n"
     ]
    },
    {
     "name": "stderr",
     "output_type": "stream",
     "text": [
      "VALID LOSS:1.8043: 100%|██████████| 16/16 [00:01<00:00,  8.42it/s]\n"
     ]
    },
    {
     "name": "stdout",
     "output_type": "stream",
     "text": [
      "(Epoch 44) VALID LOSS:1.8043 ACC:0.68 F1:0.52 REC:0.51 PRE:0.55\n"
     ]
    },
    {
     "name": "stderr",
     "output_type": "stream",
     "text": [
      "(Epoch 45) TRAIN LOSS:0.0557 LR:0.00003000: 100%|██████████| 137/137 [00:38<00:00,  3.54it/s]\n"
     ]
    },
    {
     "name": "stdout",
     "output_type": "stream",
     "text": [
      "(Epoch 45) TRAIN LOSS:0.0557 ACC:0.99 F1:0.98 REC:0.98 PRE:0.98 LR:0.00003000\n"
     ]
    },
    {
     "name": "stderr",
     "output_type": "stream",
     "text": [
      "VALID LOSS:1.6230: 100%|██████████| 16/16 [00:01<00:00,  8.55it/s]\n"
     ]
    },
    {
     "name": "stdout",
     "output_type": "stream",
     "text": [
      "(Epoch 45) VALID LOSS:1.6230 ACC:0.70 F1:0.54 REC:0.53 PRE:0.68\n"
     ]
    },
    {
     "name": "stderr",
     "output_type": "stream",
     "text": [
      "(Epoch 46) TRAIN LOSS:0.0294 LR:0.00003000: 100%|██████████| 137/137 [00:39<00:00,  3.50it/s]\n"
     ]
    },
    {
     "name": "stdout",
     "output_type": "stream",
     "text": [
      "(Epoch 46) TRAIN LOSS:0.0294 ACC:0.99 F1:0.99 REC:0.99 PRE:0.99 LR:0.00003000\n"
     ]
    },
    {
     "name": "stderr",
     "output_type": "stream",
     "text": [
      "VALID LOSS:1.2811: 100%|██████████| 16/16 [00:01<00:00,  8.76it/s]\n"
     ]
    },
    {
     "name": "stdout",
     "output_type": "stream",
     "text": [
      "(Epoch 46) VALID LOSS:1.2811 ACC:0.70 F1:0.57 REC:0.56 PRE:0.59\n"
     ]
    },
    {
     "name": "stderr",
     "output_type": "stream",
     "text": [
      "(Epoch 47) TRAIN LOSS:0.0012 LR:0.00003000: 100%|██████████| 137/137 [00:38<00:00,  3.57it/s]\n"
     ]
    },
    {
     "name": "stdout",
     "output_type": "stream",
     "text": [
      "(Epoch 47) TRAIN LOSS:0.0012 ACC:1.00 F1:1.00 REC:1.00 PRE:1.00 LR:0.00003000\n"
     ]
    },
    {
     "name": "stderr",
     "output_type": "stream",
     "text": [
      "VALID LOSS:1.6277: 100%|██████████| 16/16 [00:01<00:00,  8.70it/s]\n"
     ]
    },
    {
     "name": "stdout",
     "output_type": "stream",
     "text": [
      "(Epoch 47) VALID LOSS:1.6277 ACC:0.69 F1:0.55 REC:0.54 PRE:0.59\n"
     ]
    },
    {
     "name": "stderr",
     "output_type": "stream",
     "text": [
      "(Epoch 48) TRAIN LOSS:0.0092 LR:0.00003000: 100%|██████████| 137/137 [00:38<00:00,  3.54it/s]\n"
     ]
    },
    {
     "name": "stdout",
     "output_type": "stream",
     "text": [
      "(Epoch 48) TRAIN LOSS:0.0092 ACC:1.00 F1:1.00 REC:1.00 PRE:1.00 LR:0.00003000\n"
     ]
    },
    {
     "name": "stderr",
     "output_type": "stream",
     "text": [
      "VALID LOSS:1.5846: 100%|██████████| 16/16 [00:01<00:00,  8.28it/s]\n"
     ]
    },
    {
     "name": "stdout",
     "output_type": "stream",
     "text": [
      "(Epoch 48) VALID LOSS:1.5846 ACC:0.69 F1:0.57 REC:0.57 PRE:0.58\n"
     ]
    },
    {
     "name": "stderr",
     "output_type": "stream",
     "text": [
      "(Epoch 49) TRAIN LOSS:0.1006 LR:0.00003000: 100%|██████████| 137/137 [00:39<00:00,  3.45it/s]\n"
     ]
    },
    {
     "name": "stdout",
     "output_type": "stream",
     "text": [
      "(Epoch 49) TRAIN LOSS:0.1006 ACC:0.98 F1:0.96 REC:0.96 PRE:0.95 LR:0.00003000\n"
     ]
    },
    {
     "name": "stderr",
     "output_type": "stream",
     "text": [
      "VALID LOSS:1.3251: 100%|██████████| 16/16 [00:01<00:00,  8.41it/s]\n"
     ]
    },
    {
     "name": "stdout",
     "output_type": "stream",
     "text": [
      "(Epoch 49) VALID LOSS:1.3251 ACC:0.75 F1:0.63 REC:0.61 PRE:0.75\n"
     ]
    },
    {
     "name": "stderr",
     "output_type": "stream",
     "text": [
      "(Epoch 50) TRAIN LOSS:0.0130 LR:0.00003000: 100%|██████████| 137/137 [00:38<00:00,  3.53it/s]\n"
     ]
    },
    {
     "name": "stdout",
     "output_type": "stream",
     "text": [
      "(Epoch 50) TRAIN LOSS:0.0130 ACC:1.00 F1:0.99 REC:1.00 PRE:0.99 LR:0.00003000\n"
     ]
    },
    {
     "name": "stderr",
     "output_type": "stream",
     "text": [
      "VALID LOSS:1.6137: 100%|██████████| 16/16 [00:01<00:00,  8.93it/s]"
     ]
    },
    {
     "name": "stdout",
     "output_type": "stream",
     "text": [
      "(Epoch 50) VALID LOSS:1.6137 ACC:0.72 F1:0.55 REC:0.55 PRE:0.61\n"
     ]
    },
    {
     "name": "stderr",
     "output_type": "stream",
     "text": [
      "\n"
     ]
    }
   ],
   "source": [
    "n_epochs = 50\n",
    "# Initialize lists to store metrics\n",
    "train_losses = []\n",
    "val_losses = []\n",
    "train_accuracies = []\n",
    "val_accuracies = []\n",
    "best_val_accuracy = 0\n",
    "\n",
    "for epoch in range(n_epochs):\n",
    "    model.train()\n",
    "    torch.set_grad_enabled(True)\n",
    "\n",
    "    total_train_loss = 0\n",
    "    list_hyp, list_label = [], []\n",
    "\n",
    "    train_pbar = tqdm(train_loader, leave=True, total=len(train_loader))\n",
    "    for i, batch_data in enumerate(train_pbar):\n",
    "        # Forward model\n",
    "        loss, batch_hyp, batch_label = forward_sequence_classification(model, batch_data[:-1], i2w=i2w, device='cuda')\n",
    "\n",
    "        # Update model\n",
    "        optimizer.zero_grad()\n",
    "        loss.backward()\n",
    "        optimizer.step()\n",
    "\n",
    "        tr_loss = loss.item()\n",
    "        total_train_loss = total_train_loss + tr_loss\n",
    "\n",
    "        # Calculate metrics\n",
    "        list_hyp += batch_hyp\n",
    "        list_label += batch_label\n",
    "\n",
    "        train_pbar.set_description(\"(Epoch {}) TRAIN LOSS:{:.4f} LR:{:.8f}\".format((epoch+1),\n",
    "            total_train_loss/(i+1), get_lr(optimizer)))\n",
    "\n",
    "    # Calculate train metric\n",
    "    train_metrics = document_sentiment_metrics_fn(list_hyp, list_label)\n",
    "    train_loss_avg = total_train_loss / len(train_loader)\n",
    "    train_accuracy = train_metrics['ACC']  # Assuming the metrics dictionary has an 'accuracy' key\n",
    "\n",
    "    train_losses.append(train_loss_avg)\n",
    "    train_accuracies.append(train_accuracy)\n",
    "\n",
    "    print(\"(Epoch {}) TRAIN LOSS:{:.4f} {} LR:{:.8f}\".format((epoch+1),\n",
    "        train_loss_avg, metrics_to_string(train_metrics), get_lr(optimizer)))\n",
    "\n",
    "    # Evaluate on validation\n",
    "    model.eval()\n",
    "    torch.set_grad_enabled(False)\n",
    "\n",
    "    total_loss = 0\n",
    "    list_hyp, list_label = [], []\n",
    "\n",
    "    pbar = tqdm(valid_loader, leave=True, total=len(valid_loader))\n",
    "    for i, batch_data in enumerate(pbar):\n",
    "        loss, batch_hyp, batch_label = forward_sequence_classification(model, batch_data[:-1], i2w=i2w, device='cuda')\n",
    "        \n",
    "        # Calculate total loss\n",
    "        valid_loss = loss.item()\n",
    "        total_loss = total_loss + valid_loss\n",
    "\n",
    "        # Calculate evaluation metrics\n",
    "        list_hyp += batch_hyp\n",
    "        list_label += batch_label\n",
    "\n",
    "        pbar.set_description(\"VALID LOSS:{:.4f}\".format(total_loss/(i+1)))\n",
    "\n",
    "    val_metrics = document_sentiment_metrics_fn(list_hyp, list_label)\n",
    "    val_loss_avg = total_loss / len(valid_loader)\n",
    "    val_accuracy = val_metrics['ACC']  # Assuming the metrics dictionary has an 'accuracy' key\n",
    "\n",
    "    val_losses.append(val_loss_avg)\n",
    "    val_accuracies.append(val_accuracy)\n",
    "\n",
    "    print(\"(Epoch {}) VALID LOSS:{:.4f} {}\".format((epoch+1),\n",
    "        val_loss_avg, metrics_to_string(val_metrics)))\n",
    "    #Perbarui akurasi validasi tertinggi jika akurasi saat ini lebih tinggi\n",
    "    if val_accuracy > best_val_accuracy:\n",
    "        best_val_accuracy = val_accuracy\n",
    "        # Simpan model yang memiliki akurasi validasi tertinggi\n",
    "        torch.save(model.state_dict(), 'Best_Model_IndoBERTBaseP2_Ep50.pth')\n",
    "        print(f\"New best validation accuracy: {best_val_accuracy:.4f} - model saved.\")\n",
    "\n"
   ]
  },
  {
   "cell_type": "code",
   "execution_count": 15,
   "metadata": {},
   "outputs": [],
   "source": [
    "torch.save(model.state_dict(), 'IndoBERTBase.pth')"
   ]
  },
  {
   "cell_type": "code",
   "execution_count": 16,
   "metadata": {},
   "outputs": [
    {
     "data": {
      "image/png": "[encoded data removed]",
      "text/plain": [
       "<Figure size 1200x600 with 1 Axes>"
      ]
     },
     "metadata": {},
     "output_type": "display_data"
    },
    {
     "data": {
      "image/png": "[encoded data removed]",
      "text/plain": [
       "<Figure size 1200x600 with 1 Axes>"
      ]
     },
     "metadata": {},
     "output_type": "display_data"
    },
    {
     "name": "stdout",
     "output_type": "stream",
     "text": [
      "Best validation accuracy: 0.7566\n"
     ]
    }
   ],
   "source": [
    "import matplotlib.pyplot as plt\n",
    "# Plot training and validation loss\n",
    "plt.figure(figsize=(12, 6))\n",
    "plt.plot(train_losses, label='Train Loss')\n",
    "plt.plot(val_losses, label='Validation Loss')\n",
    "plt.xlabel('Epoch')\n",
    "plt.ylabel('Loss')\n",
    "plt.title('Training and Validation Loss')\n",
    "plt.legend()\n",
    "plt.show()\n",
    "\n",
    "# Plot training and validation accuracy\n",
    "plt.figure(figsize=(12, 6))\n",
    "plt.plot(train_accuracies, label='Train Accuracy')\n",
    "plt.plot(val_accuracies, label='Validation Accuracy')\n",
    "plt.xlabel('Epoch')\n",
    "plt.ylabel('Accuracy')\n",
    "plt.title('Training and Validation Accuracy')\n",
    "plt.legend()\n",
    "plt.show()\n",
    "\n",
    "print(f\"Best validation accuracy: {best_val_accuracy:.4f}\")"
   ]
  },
  {
   "cell_type": "code",
   "execution_count": 17,
   "metadata": {},
   "outputs": [
    {
     "name": "stderr",
     "output_type": "stream",
     "text": [
      "100%|██████████| 8/8 [00:01<00:00,  5.39it/s]\n"
     ]
    },
    {
     "name": "stdout",
     "output_type": "stream",
     "text": [
      "    index    label\n",
      "0       0  negatif\n",
      "1       1  negatif\n",
      "2       2  negatif\n",
      "3       3  negatif\n",
      "4       4  positif\n",
      "..    ...      ...\n",
      "71     71  negatif\n",
      "72     72  negatif\n",
      "73     73  negatif\n",
      "74     74  negatif\n",
      "75     75  negatif\n",
      "\n",
      "[76 rows x 2 columns]\n"
     ]
    }
   ],
   "source": [
    "# Evaluate on test\n",
    "model.eval()\n",
    "torch.set_grad_enabled(False)\n",
    "\n",
    "total_loss, total_correct, total_labels = 0, 0, 0\n",
    "list_hyp, list_label = [], []\n",
    "\n",
    "pbar = tqdm(test_loader, leave=True, total=len(test_loader))\n",
    "for i, batch_data in enumerate(pbar):\n",
    "    _, batch_hyp, _ = forward_sequence_classification(model, batch_data[:-1], i2w=i2w, device='cuda')\n",
    "    list_hyp += batch_hyp\n",
    "\n",
    "# Save prediction\n",
    "df = pd.DataFrame({'label':list_hyp}).reset_index()\n",
    "df.to_csv('pred.txt', index=False)\n",
    "\n",
    "print(df)"
   ]
  },
  {
   "cell_type": "code",
   "execution_count": 18,
   "metadata": {},
   "outputs": [],
   "source": [
    "# # Load Tokenizer and Config\n",
    "# tokenizer = BertTokenizer.from_pretrained('indobenchmark/indobert-large-p1')\n",
    "# config = BertConfig.from_pretrained('indobenchmark/indobert-large-p1')\n",
    "# config.num_labels = DocumentSentimentDataset.NUM_LABELS\n",
    "\n",
    "# # Instantiate model\n",
    "# model = BertForSequenceClassification.from_pretrained('indobenchmark/indobert-large-p1', config=config)\n",
    "\n",
    "# # Muat parameter yang disimpan ke dalam instansiasi model\n",
    "# model.load_state_dict(torch.load('BERTL905-66-87.pth'))"
   ]
  },
  {
   "cell_type": "code",
   "execution_count": 20,
   "metadata": {},
   "outputs": [
    {
     "name": "stdout",
     "output_type": "stream",
     "text": [
      "{'negatif': 0, 'netral': 1, 'positif': 2}\n",
      "{0: 'negatif', 1: 'netral', 2: 'positif'}\n"
     ]
    }
   ],
   "source": [
    "w2i, i2w = DocumentSentimentDataset.LABEL2INDEX, DocumentSentimentDataset.INDEX2LABEL\n",
    "print(w2i)\n",
    "print(i2w)"
   ]
  },
  {
   "cell_type": "code",
   "execution_count": 25,
   "metadata": {},
   "outputs": [
    {
     "name": "stdout",
     "output_type": "stream",
     "text": [
      "Teks: iklan kudu kencang | Sentimen : negatif (99.97%)\n",
      "\n",
      "Teks: Keren bgt produknya | Sentimen : positif (99.93%)\n",
      "\n",
      "Teks: Nanya dong, manfaat program itu apa? | Sentimen : negatif (88.55%)\n",
      "\n"
     ]
    }
   ],
   "source": [
    "text = ['iklan kudu kencang','Keren bgt produknya','Nanya dong, manfaat program itu apa?']\n",
    "for t in text:\n",
    "    subwords = tokenizer.encode(t)\n",
    "    subwords = torch.LongTensor(subwords).view(1, -1).to(model.device)\n",
    "\n",
    "    logits = model(subwords)[0]\n",
    "    label = torch.topk(logits, k=1, dim=-1)[1].squeeze().item()\n",
    "    prob = F.softmax(logits, dim=-1).squeeze()[label] * 100\n",
    "    prob_rounded = round(prob.item(), 2)\n",
    "    print(f'Teks: {t} | Sentimen : {i2w[label]} ({prob_rounded}%)')\n",
    "    \n",
    "    print()"
   ]
  }
 ],
 "metadata": {
  "kernelspec": {
   "display_name": "Python 3",
   "language": "python",
   "name": "python3"
  },
  "language_info": {
   "codemirror_mode": {
    "name": "ipython",
    "version": 3
   },
   "file_extension": ".py",
   "mimetype": "text/x-python",
   "name": "python",
   "nbconvert_exporter": "python",
   "pygments_lexer": "ipython3",
   "version": "3.10.12"
  }
 },
 "nbformat": 4,
 "nbformat_minor": 2
}
